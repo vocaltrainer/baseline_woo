{
  "nbformat": 4,
  "nbformat_minor": 0,
  "metadata": {
    "colab": {
      "provenance": [],
      "toc_visible": true,
      "mount_file_id": "1L27Jq76-_loEdDXLUkojlUMlzw-tLGG-",
      "authorship_tag": "ABX9TyPM6Cwqgh+JbBk0mPvweyqi",
      "include_colab_link": true
    },
    "kernelspec": {
      "name": "python3",
      "display_name": "Python 3"
    },
    "language_info": {
      "name": "python"
    }
  },
  "cells": [
    {
      "cell_type": "markdown",
      "metadata": {
        "id": "view-in-github",
        "colab_type": "text"
      },
      "source": [
        "<a href=\"https://colab.research.google.com/github/vocaltrainer/pipeline_woo/blob/main/woo_pipeline(%EC%A0%95%ED%98%95).ipynb\" target=\"_parent\"><img src=\"https://colab.research.google.com/assets/colab-badge.svg\" alt=\"Open In Colab\"/></a>"
      ]
    },
    {
      "cell_type": "code",
      "source": [
        "import numpy as np\n",
        "import pandas as pd\n",
        "import matplotlib.pyplot as plt\n",
        "import seaborn as sns\n",
        "plt.style.use(\"seaborn-v0_8\")\n",
        "import warnings\n",
        "warnings.filterwarnings('ignore') #버전문제로 출력시 에러가뜨는것을 막음\n",
        "%matplotlib inline"
      ],
      "metadata": {
        "id": "HqnaaNe9famt"
      },
      "execution_count": 33,
      "outputs": []
    },
    {
      "cell_type": "markdown",
      "source": [
        "# 데이터셋의 출처 무조건 적기"
      ],
      "metadata": {
        "id": "sKbSURSdsg-A"
      }
    },
    {
      "cell_type": "code",
      "source": [
        "import seaborn as sns\n",
        "data = pd.read_csv('/content/drive/MyDrive/잡다/titanic.csv')\n",
        "data.head(10)"
      ],
      "metadata": {
        "colab": {
          "base_uri": "https://localhost:8080/",
          "height": 363
        },
        "id": "6WU_-ENgTjO2",
        "outputId": "62ef8d52-5c8a-4bc5-ecf6-5c366c10e293"
      },
      "execution_count": 62,
      "outputs": [
        {
          "output_type": "execute_result",
          "data": {
            "text/plain": [
              "   PassengerId  Survived  Pclass  \\\n",
              "0            1         0       3   \n",
              "1            2         1       1   \n",
              "2            3         1       3   \n",
              "3            4         1       1   \n",
              "4            5         0       3   \n",
              "5            6         0       3   \n",
              "6            7         0       1   \n",
              "7            8         0       3   \n",
              "8            9         1       3   \n",
              "9           10         1       2   \n",
              "\n",
              "                                                Name     Sex   Age  SibSp  \\\n",
              "0                            Braund, Mr. Owen Harris    male  22.0      1   \n",
              "1  Cumings, Mrs. John Bradley (Florence Briggs Th...  female  38.0      1   \n",
              "2                             Heikkinen, Miss. Laina  female  26.0      0   \n",
              "3       Futrelle, Mrs. Jacques Heath (Lily May Peel)  female  35.0      1   \n",
              "4                           Allen, Mr. William Henry    male  35.0      0   \n",
              "5                                   Moran, Mr. James    male   NaN      0   \n",
              "6                            McCarthy, Mr. Timothy J    male  54.0      0   \n",
              "7                     Palsson, Master. Gosta Leonard    male   2.0      3   \n",
              "8  Johnson, Mrs. Oscar W (Elisabeth Vilhelmina Berg)  female  27.0      0   \n",
              "9                Nasser, Mrs. Nicholas (Adele Achem)  female  14.0      1   \n",
              "\n",
              "   Parch            Ticket     Fare Cabin Embarked  \n",
              "0      0         A/5 21171   7.2500   NaN        S  \n",
              "1      0          PC 17599  71.2833   C85        C  \n",
              "2      0  STON/O2. 3101282   7.9250   NaN        S  \n",
              "3      0            113803  53.1000  C123        S  \n",
              "4      0            373450   8.0500   NaN        S  \n",
              "5      0            330877   8.4583   NaN        Q  \n",
              "6      0             17463  51.8625   E46        S  \n",
              "7      1            349909  21.0750   NaN        S  \n",
              "8      2            347742  11.1333   NaN        S  \n",
              "9      0            237736  30.0708   NaN        C  "
            ],
            "text/html": [
              "\n",
              "  <div id=\"df-7466eb97-deb2-4e2b-a587-c1d20d123e9e\" class=\"colab-df-container\">\n",
              "    <div>\n",
              "<style scoped>\n",
              "    .dataframe tbody tr th:only-of-type {\n",
              "        vertical-align: middle;\n",
              "    }\n",
              "\n",
              "    .dataframe tbody tr th {\n",
              "        vertical-align: top;\n",
              "    }\n",
              "\n",
              "    .dataframe thead th {\n",
              "        text-align: right;\n",
              "    }\n",
              "</style>\n",
              "<table border=\"1\" class=\"dataframe\">\n",
              "  <thead>\n",
              "    <tr style=\"text-align: right;\">\n",
              "      <th></th>\n",
              "      <th>PassengerId</th>\n",
              "      <th>Survived</th>\n",
              "      <th>Pclass</th>\n",
              "      <th>Name</th>\n",
              "      <th>Sex</th>\n",
              "      <th>Age</th>\n",
              "      <th>SibSp</th>\n",
              "      <th>Parch</th>\n",
              "      <th>Ticket</th>\n",
              "      <th>Fare</th>\n",
              "      <th>Cabin</th>\n",
              "      <th>Embarked</th>\n",
              "    </tr>\n",
              "  </thead>\n",
              "  <tbody>\n",
              "    <tr>\n",
              "      <th>0</th>\n",
              "      <td>1</td>\n",
              "      <td>0</td>\n",
              "      <td>3</td>\n",
              "      <td>Braund, Mr. Owen Harris</td>\n",
              "      <td>male</td>\n",
              "      <td>22.0</td>\n",
              "      <td>1</td>\n",
              "      <td>0</td>\n",
              "      <td>A/5 21171</td>\n",
              "      <td>7.2500</td>\n",
              "      <td>NaN</td>\n",
              "      <td>S</td>\n",
              "    </tr>\n",
              "    <tr>\n",
              "      <th>1</th>\n",
              "      <td>2</td>\n",
              "      <td>1</td>\n",
              "      <td>1</td>\n",
              "      <td>Cumings, Mrs. John Bradley (Florence Briggs Th...</td>\n",
              "      <td>female</td>\n",
              "      <td>38.0</td>\n",
              "      <td>1</td>\n",
              "      <td>0</td>\n",
              "      <td>PC 17599</td>\n",
              "      <td>71.2833</td>\n",
              "      <td>C85</td>\n",
              "      <td>C</td>\n",
              "    </tr>\n",
              "    <tr>\n",
              "      <th>2</th>\n",
              "      <td>3</td>\n",
              "      <td>1</td>\n",
              "      <td>3</td>\n",
              "      <td>Heikkinen, Miss. Laina</td>\n",
              "      <td>female</td>\n",
              "      <td>26.0</td>\n",
              "      <td>0</td>\n",
              "      <td>0</td>\n",
              "      <td>STON/O2. 3101282</td>\n",
              "      <td>7.9250</td>\n",
              "      <td>NaN</td>\n",
              "      <td>S</td>\n",
              "    </tr>\n",
              "    <tr>\n",
              "      <th>3</th>\n",
              "      <td>4</td>\n",
              "      <td>1</td>\n",
              "      <td>1</td>\n",
              "      <td>Futrelle, Mrs. Jacques Heath (Lily May Peel)</td>\n",
              "      <td>female</td>\n",
              "      <td>35.0</td>\n",
              "      <td>1</td>\n",
              "      <td>0</td>\n",
              "      <td>113803</td>\n",
              "      <td>53.1000</td>\n",
              "      <td>C123</td>\n",
              "      <td>S</td>\n",
              "    </tr>\n",
              "    <tr>\n",
              "      <th>4</th>\n",
              "      <td>5</td>\n",
              "      <td>0</td>\n",
              "      <td>3</td>\n",
              "      <td>Allen, Mr. William Henry</td>\n",
              "      <td>male</td>\n",
              "      <td>35.0</td>\n",
              "      <td>0</td>\n",
              "      <td>0</td>\n",
              "      <td>373450</td>\n",
              "      <td>8.0500</td>\n",
              "      <td>NaN</td>\n",
              "      <td>S</td>\n",
              "    </tr>\n",
              "    <tr>\n",
              "      <th>5</th>\n",
              "      <td>6</td>\n",
              "      <td>0</td>\n",
              "      <td>3</td>\n",
              "      <td>Moran, Mr. James</td>\n",
              "      <td>male</td>\n",
              "      <td>NaN</td>\n",
              "      <td>0</td>\n",
              "      <td>0</td>\n",
              "      <td>330877</td>\n",
              "      <td>8.4583</td>\n",
              "      <td>NaN</td>\n",
              "      <td>Q</td>\n",
              "    </tr>\n",
              "    <tr>\n",
              "      <th>6</th>\n",
              "      <td>7</td>\n",
              "      <td>0</td>\n",
              "      <td>1</td>\n",
              "      <td>McCarthy, Mr. Timothy J</td>\n",
              "      <td>male</td>\n",
              "      <td>54.0</td>\n",
              "      <td>0</td>\n",
              "      <td>0</td>\n",
              "      <td>17463</td>\n",
              "      <td>51.8625</td>\n",
              "      <td>E46</td>\n",
              "      <td>S</td>\n",
              "    </tr>\n",
              "    <tr>\n",
              "      <th>7</th>\n",
              "      <td>8</td>\n",
              "      <td>0</td>\n",
              "      <td>3</td>\n",
              "      <td>Palsson, Master. Gosta Leonard</td>\n",
              "      <td>male</td>\n",
              "      <td>2.0</td>\n",
              "      <td>3</td>\n",
              "      <td>1</td>\n",
              "      <td>349909</td>\n",
              "      <td>21.0750</td>\n",
              "      <td>NaN</td>\n",
              "      <td>S</td>\n",
              "    </tr>\n",
              "    <tr>\n",
              "      <th>8</th>\n",
              "      <td>9</td>\n",
              "      <td>1</td>\n",
              "      <td>3</td>\n",
              "      <td>Johnson, Mrs. Oscar W (Elisabeth Vilhelmina Berg)</td>\n",
              "      <td>female</td>\n",
              "      <td>27.0</td>\n",
              "      <td>0</td>\n",
              "      <td>2</td>\n",
              "      <td>347742</td>\n",
              "      <td>11.1333</td>\n",
              "      <td>NaN</td>\n",
              "      <td>S</td>\n",
              "    </tr>\n",
              "    <tr>\n",
              "      <th>9</th>\n",
              "      <td>10</td>\n",
              "      <td>1</td>\n",
              "      <td>2</td>\n",
              "      <td>Nasser, Mrs. Nicholas (Adele Achem)</td>\n",
              "      <td>female</td>\n",
              "      <td>14.0</td>\n",
              "      <td>1</td>\n",
              "      <td>0</td>\n",
              "      <td>237736</td>\n",
              "      <td>30.0708</td>\n",
              "      <td>NaN</td>\n",
              "      <td>C</td>\n",
              "    </tr>\n",
              "  </tbody>\n",
              "</table>\n",
              "</div>\n",
              "    <div class=\"colab-df-buttons\">\n",
              "\n",
              "  <div class=\"colab-df-container\">\n",
              "    <button class=\"colab-df-convert\" onclick=\"convertToInteractive('df-7466eb97-deb2-4e2b-a587-c1d20d123e9e')\"\n",
              "            title=\"Convert this dataframe to an interactive table.\"\n",
              "            style=\"display:none;\">\n",
              "\n",
              "  <svg xmlns=\"http://www.w3.org/2000/svg\" height=\"24px\" viewBox=\"0 -960 960 960\">\n",
              "    <path d=\"M120-120v-720h720v720H120Zm60-500h600v-160H180v160Zm220 220h160v-160H400v160Zm0 220h160v-160H400v160ZM180-400h160v-160H180v160Zm440 0h160v-160H620v160ZM180-180h160v-160H180v160Zm440 0h160v-160H620v160Z\"/>\n",
              "  </svg>\n",
              "    </button>\n",
              "\n",
              "  <style>\n",
              "    .colab-df-container {\n",
              "      display:flex;\n",
              "      gap: 12px;\n",
              "    }\n",
              "\n",
              "    .colab-df-convert {\n",
              "      background-color: #E8F0FE;\n",
              "      border: none;\n",
              "      border-radius: 50%;\n",
              "      cursor: pointer;\n",
              "      display: none;\n",
              "      fill: #1967D2;\n",
              "      height: 32px;\n",
              "      padding: 0 0 0 0;\n",
              "      width: 32px;\n",
              "    }\n",
              "\n",
              "    .colab-df-convert:hover {\n",
              "      background-color: #E2EBFA;\n",
              "      box-shadow: 0px 1px 2px rgba(60, 64, 67, 0.3), 0px 1px 3px 1px rgba(60, 64, 67, 0.15);\n",
              "      fill: #174EA6;\n",
              "    }\n",
              "\n",
              "    .colab-df-buttons div {\n",
              "      margin-bottom: 4px;\n",
              "    }\n",
              "\n",
              "    [theme=dark] .colab-df-convert {\n",
              "      background-color: #3B4455;\n",
              "      fill: #D2E3FC;\n",
              "    }\n",
              "\n",
              "    [theme=dark] .colab-df-convert:hover {\n",
              "      background-color: #434B5C;\n",
              "      box-shadow: 0px 1px 3px 1px rgba(0, 0, 0, 0.15);\n",
              "      filter: drop-shadow(0px 1px 2px rgba(0, 0, 0, 0.3));\n",
              "      fill: #FFFFFF;\n",
              "    }\n",
              "  </style>\n",
              "\n",
              "    <script>\n",
              "      const buttonEl =\n",
              "        document.querySelector('#df-7466eb97-deb2-4e2b-a587-c1d20d123e9e button.colab-df-convert');\n",
              "      buttonEl.style.display =\n",
              "        google.colab.kernel.accessAllowed ? 'block' : 'none';\n",
              "\n",
              "      async function convertToInteractive(key) {\n",
              "        const element = document.querySelector('#df-7466eb97-deb2-4e2b-a587-c1d20d123e9e');\n",
              "        const dataTable =\n",
              "          await google.colab.kernel.invokeFunction('convertToInteractive',\n",
              "                                                    [key], {});\n",
              "        if (!dataTable) return;\n",
              "\n",
              "        const docLinkHtml = 'Like what you see? Visit the ' +\n",
              "          '<a target=\"_blank\" href=https://colab.research.google.com/notebooks/data_table.ipynb>data table notebook</a>'\n",
              "          + ' to learn more about interactive tables.';\n",
              "        element.innerHTML = '';\n",
              "        dataTable['output_type'] = 'display_data';\n",
              "        await google.colab.output.renderOutput(dataTable, element);\n",
              "        const docLink = document.createElement('div');\n",
              "        docLink.innerHTML = docLinkHtml;\n",
              "        element.appendChild(docLink);\n",
              "      }\n",
              "    </script>\n",
              "  </div>\n",
              "\n",
              "\n",
              "<div id=\"df-07d2c519-85b5-4596-a9cc-38059b5ff965\">\n",
              "  <button class=\"colab-df-quickchart\" onclick=\"quickchart('df-07d2c519-85b5-4596-a9cc-38059b5ff965')\"\n",
              "            title=\"Suggest charts\"\n",
              "            style=\"display:none;\">\n",
              "\n",
              "<svg xmlns=\"http://www.w3.org/2000/svg\" height=\"24px\"viewBox=\"0 0 24 24\"\n",
              "     width=\"24px\">\n",
              "    <g>\n",
              "        <path d=\"M19 3H5c-1.1 0-2 .9-2 2v14c0 1.1.9 2 2 2h14c1.1 0 2-.9 2-2V5c0-1.1-.9-2-2-2zM9 17H7v-7h2v7zm4 0h-2V7h2v10zm4 0h-2v-4h2v4z\"/>\n",
              "    </g>\n",
              "</svg>\n",
              "  </button>\n",
              "\n",
              "<style>\n",
              "  .colab-df-quickchart {\n",
              "      --bg-color: #E8F0FE;\n",
              "      --fill-color: #1967D2;\n",
              "      --hover-bg-color: #E2EBFA;\n",
              "      --hover-fill-color: #174EA6;\n",
              "      --disabled-fill-color: #AAA;\n",
              "      --disabled-bg-color: #DDD;\n",
              "  }\n",
              "\n",
              "  [theme=dark] .colab-df-quickchart {\n",
              "      --bg-color: #3B4455;\n",
              "      --fill-color: #D2E3FC;\n",
              "      --hover-bg-color: #434B5C;\n",
              "      --hover-fill-color: #FFFFFF;\n",
              "      --disabled-bg-color: #3B4455;\n",
              "      --disabled-fill-color: #666;\n",
              "  }\n",
              "\n",
              "  .colab-df-quickchart {\n",
              "    background-color: var(--bg-color);\n",
              "    border: none;\n",
              "    border-radius: 50%;\n",
              "    cursor: pointer;\n",
              "    display: none;\n",
              "    fill: var(--fill-color);\n",
              "    height: 32px;\n",
              "    padding: 0;\n",
              "    width: 32px;\n",
              "  }\n",
              "\n",
              "  .colab-df-quickchart:hover {\n",
              "    background-color: var(--hover-bg-color);\n",
              "    box-shadow: 0 1px 2px rgba(60, 64, 67, 0.3), 0 1px 3px 1px rgba(60, 64, 67, 0.15);\n",
              "    fill: var(--button-hover-fill-color);\n",
              "  }\n",
              "\n",
              "  .colab-df-quickchart-complete:disabled,\n",
              "  .colab-df-quickchart-complete:disabled:hover {\n",
              "    background-color: var(--disabled-bg-color);\n",
              "    fill: var(--disabled-fill-color);\n",
              "    box-shadow: none;\n",
              "  }\n",
              "\n",
              "  .colab-df-spinner {\n",
              "    border: 2px solid var(--fill-color);\n",
              "    border-color: transparent;\n",
              "    border-bottom-color: var(--fill-color);\n",
              "    animation:\n",
              "      spin 1s steps(1) infinite;\n",
              "  }\n",
              "\n",
              "  @keyframes spin {\n",
              "    0% {\n",
              "      border-color: transparent;\n",
              "      border-bottom-color: var(--fill-color);\n",
              "      border-left-color: var(--fill-color);\n",
              "    }\n",
              "    20% {\n",
              "      border-color: transparent;\n",
              "      border-left-color: var(--fill-color);\n",
              "      border-top-color: var(--fill-color);\n",
              "    }\n",
              "    30% {\n",
              "      border-color: transparent;\n",
              "      border-left-color: var(--fill-color);\n",
              "      border-top-color: var(--fill-color);\n",
              "      border-right-color: var(--fill-color);\n",
              "    }\n",
              "    40% {\n",
              "      border-color: transparent;\n",
              "      border-right-color: var(--fill-color);\n",
              "      border-top-color: var(--fill-color);\n",
              "    }\n",
              "    60% {\n",
              "      border-color: transparent;\n",
              "      border-right-color: var(--fill-color);\n",
              "    }\n",
              "    80% {\n",
              "      border-color: transparent;\n",
              "      border-right-color: var(--fill-color);\n",
              "      border-bottom-color: var(--fill-color);\n",
              "    }\n",
              "    90% {\n",
              "      border-color: transparent;\n",
              "      border-bottom-color: var(--fill-color);\n",
              "    }\n",
              "  }\n",
              "</style>\n",
              "\n",
              "  <script>\n",
              "    async function quickchart(key) {\n",
              "      const quickchartButtonEl =\n",
              "        document.querySelector('#' + key + ' button');\n",
              "      quickchartButtonEl.disabled = true;  // To prevent multiple clicks.\n",
              "      quickchartButtonEl.classList.add('colab-df-spinner');\n",
              "      try {\n",
              "        const charts = await google.colab.kernel.invokeFunction(\n",
              "            'suggestCharts', [key], {});\n",
              "      } catch (error) {\n",
              "        console.error('Error during call to suggestCharts:', error);\n",
              "      }\n",
              "      quickchartButtonEl.classList.remove('colab-df-spinner');\n",
              "      quickchartButtonEl.classList.add('colab-df-quickchart-complete');\n",
              "    }\n",
              "    (() => {\n",
              "      let quickchartButtonEl =\n",
              "        document.querySelector('#df-07d2c519-85b5-4596-a9cc-38059b5ff965 button');\n",
              "      quickchartButtonEl.style.display =\n",
              "        google.colab.kernel.accessAllowed ? 'block' : 'none';\n",
              "    })();\n",
              "  </script>\n",
              "</div>\n",
              "\n",
              "    </div>\n",
              "  </div>\n"
            ]
          },
          "metadata": {},
          "execution_count": 62
        }
      ]
    },
    {
      "cell_type": "code",
      "source": [
        "from google.colab import drive\n",
        "drive.mount('/content/drive')"
      ],
      "metadata": {
        "colab": {
          "base_uri": "https://localhost:8080/"
        },
        "id": "8luqL0DjoYKT",
        "outputId": "78d29082-f6a8-43b6-dac5-9069abf7e6ad"
      },
      "execution_count": 35,
      "outputs": [
        {
          "output_type": "stream",
          "name": "stdout",
          "text": [
            "Drive already mounted at /content/drive; to attempt to forcibly remount, call drive.mount(\"/content/drive\", force_remount=True).\n"
          ]
        }
      ]
    },
    {
      "cell_type": "markdown",
      "source": [
        "# 1.EDA(정형)"
      ],
      "metadata": {
        "id": "9j5z478Eehtm"
      }
    },
    {
      "cell_type": "markdown",
      "source": [
        "##0) 데이터 훑기"
      ],
      "metadata": {
        "id": "fbUzMrZos_lz"
      }
    },
    {
      "cell_type": "markdown",
      "source": [
        "info() : 특성의 자료형 알 수 있음"
      ],
      "metadata": {
        "id": "tW423Q3Yst6J"
      }
    },
    {
      "cell_type": "code",
      "source": [
        "data.info()"
      ],
      "metadata": {
        "colab": {
          "base_uri": "https://localhost:8080/"
        },
        "id": "arPKMhDSsxoP",
        "outputId": "3f17a555-5724-44f1-9b50-744c71af40bb"
      },
      "execution_count": 56,
      "outputs": [
        {
          "output_type": "stream",
          "name": "stdout",
          "text": [
            "<class 'pandas.core.frame.DataFrame'>\n",
            "RangeIndex: 891 entries, 0 to 890\n",
            "Data columns (total 11 columns):\n",
            " #   Column       Non-Null Count  Dtype  \n",
            "---  ------       --------------  -----  \n",
            " 0   Survived     891 non-null    int64  \n",
            " 1   Pclass       891 non-null    int64  \n",
            " 2   Sex          891 non-null    int64  \n",
            " 3   SibSp        891 non-null    int64  \n",
            " 4   Parch        891 non-null    int64  \n",
            " 5   Embarked     889 non-null    float64\n",
            " 6   Initial      891 non-null    int64  \n",
            " 7   Age_band     891 non-null    int64  \n",
            " 8   Family_Size  891 non-null    int64  \n",
            " 9   Alone        891 non-null    int64  \n",
            " 10  Fare_cat     891 non-null    int64  \n",
            "dtypes: float64(1), int64(10)\n",
            "memory usage: 76.7 KB\n"
          ]
        }
      ]
    },
    {
      "cell_type": "markdown",
      "source": [
        "describe() : 기술분석(평균,분산,최대최소..)"
      ],
      "metadata": {
        "id": "Ph_lmPU8s0f5"
      }
    },
    {
      "cell_type": "code",
      "source": [
        "data.describe()"
      ],
      "metadata": {
        "colab": {
          "base_uri": "https://localhost:8080/",
          "height": 300
        },
        "id": "Vst84B_5s5Lu",
        "outputId": "941a231d-eec1-4f8e-fd58-f07fa908d7b7"
      },
      "execution_count": 76,
      "outputs": [
        {
          "output_type": "execute_result",
          "data": {
            "text/plain": [
              "       PassengerId    Survived      Pclass         Age       SibSp  \\\n",
              "count   891.000000  891.000000  891.000000  891.000000  891.000000   \n",
              "mean    446.000000    0.383838    2.308642   29.841942    0.523008   \n",
              "std     257.353842    0.486592    0.836071   13.281525    1.102743   \n",
              "min       1.000000    0.000000    1.000000    0.420000    0.000000   \n",
              "25%     223.500000    0.000000    2.000000   22.000000    0.000000   \n",
              "50%     446.000000    0.000000    3.000000   30.000000    0.000000   \n",
              "75%     668.500000    1.000000    3.000000   36.000000    1.000000   \n",
              "max     891.000000    1.000000    3.000000   80.000000    8.000000   \n",
              "\n",
              "            Parch        Fare  \n",
              "count  891.000000  891.000000  \n",
              "mean     0.381594   32.204208  \n",
              "std      0.806057   49.693429  \n",
              "min      0.000000    0.000000  \n",
              "25%      0.000000    7.910400  \n",
              "50%      0.000000   14.454200  \n",
              "75%      0.000000   31.000000  \n",
              "max      6.000000  512.329200  "
            ],
            "text/html": [
              "\n",
              "  <div id=\"df-953bb631-3c2d-4a84-a01c-3219ee54ec01\" class=\"colab-df-container\">\n",
              "    <div>\n",
              "<style scoped>\n",
              "    .dataframe tbody tr th:only-of-type {\n",
              "        vertical-align: middle;\n",
              "    }\n",
              "\n",
              "    .dataframe tbody tr th {\n",
              "        vertical-align: top;\n",
              "    }\n",
              "\n",
              "    .dataframe thead th {\n",
              "        text-align: right;\n",
              "    }\n",
              "</style>\n",
              "<table border=\"1\" class=\"dataframe\">\n",
              "  <thead>\n",
              "    <tr style=\"text-align: right;\">\n",
              "      <th></th>\n",
              "      <th>PassengerId</th>\n",
              "      <th>Survived</th>\n",
              "      <th>Pclass</th>\n",
              "      <th>Age</th>\n",
              "      <th>SibSp</th>\n",
              "      <th>Parch</th>\n",
              "      <th>Fare</th>\n",
              "    </tr>\n",
              "  </thead>\n",
              "  <tbody>\n",
              "    <tr>\n",
              "      <th>count</th>\n",
              "      <td>891.000000</td>\n",
              "      <td>891.000000</td>\n",
              "      <td>891.000000</td>\n",
              "      <td>891.000000</td>\n",
              "      <td>891.000000</td>\n",
              "      <td>891.000000</td>\n",
              "      <td>891.000000</td>\n",
              "    </tr>\n",
              "    <tr>\n",
              "      <th>mean</th>\n",
              "      <td>446.000000</td>\n",
              "      <td>0.383838</td>\n",
              "      <td>2.308642</td>\n",
              "      <td>29.841942</td>\n",
              "      <td>0.523008</td>\n",
              "      <td>0.381594</td>\n",
              "      <td>32.204208</td>\n",
              "    </tr>\n",
              "    <tr>\n",
              "      <th>std</th>\n",
              "      <td>257.353842</td>\n",
              "      <td>0.486592</td>\n",
              "      <td>0.836071</td>\n",
              "      <td>13.281525</td>\n",
              "      <td>1.102743</td>\n",
              "      <td>0.806057</td>\n",
              "      <td>49.693429</td>\n",
              "    </tr>\n",
              "    <tr>\n",
              "      <th>min</th>\n",
              "      <td>1.000000</td>\n",
              "      <td>0.000000</td>\n",
              "      <td>1.000000</td>\n",
              "      <td>0.420000</td>\n",
              "      <td>0.000000</td>\n",
              "      <td>0.000000</td>\n",
              "      <td>0.000000</td>\n",
              "    </tr>\n",
              "    <tr>\n",
              "      <th>25%</th>\n",
              "      <td>223.500000</td>\n",
              "      <td>0.000000</td>\n",
              "      <td>2.000000</td>\n",
              "      <td>22.000000</td>\n",
              "      <td>0.000000</td>\n",
              "      <td>0.000000</td>\n",
              "      <td>7.910400</td>\n",
              "    </tr>\n",
              "    <tr>\n",
              "      <th>50%</th>\n",
              "      <td>446.000000</td>\n",
              "      <td>0.000000</td>\n",
              "      <td>3.000000</td>\n",
              "      <td>30.000000</td>\n",
              "      <td>0.000000</td>\n",
              "      <td>0.000000</td>\n",
              "      <td>14.454200</td>\n",
              "    </tr>\n",
              "    <tr>\n",
              "      <th>75%</th>\n",
              "      <td>668.500000</td>\n",
              "      <td>1.000000</td>\n",
              "      <td>3.000000</td>\n",
              "      <td>36.000000</td>\n",
              "      <td>1.000000</td>\n",
              "      <td>0.000000</td>\n",
              "      <td>31.000000</td>\n",
              "    </tr>\n",
              "    <tr>\n",
              "      <th>max</th>\n",
              "      <td>891.000000</td>\n",
              "      <td>1.000000</td>\n",
              "      <td>3.000000</td>\n",
              "      <td>80.000000</td>\n",
              "      <td>8.000000</td>\n",
              "      <td>6.000000</td>\n",
              "      <td>512.329200</td>\n",
              "    </tr>\n",
              "  </tbody>\n",
              "</table>\n",
              "</div>\n",
              "    <div class=\"colab-df-buttons\">\n",
              "\n",
              "  <div class=\"colab-df-container\">\n",
              "    <button class=\"colab-df-convert\" onclick=\"convertToInteractive('df-953bb631-3c2d-4a84-a01c-3219ee54ec01')\"\n",
              "            title=\"Convert this dataframe to an interactive table.\"\n",
              "            style=\"display:none;\">\n",
              "\n",
              "  <svg xmlns=\"http://www.w3.org/2000/svg\" height=\"24px\" viewBox=\"0 -960 960 960\">\n",
              "    <path d=\"M120-120v-720h720v720H120Zm60-500h600v-160H180v160Zm220 220h160v-160H400v160Zm0 220h160v-160H400v160ZM180-400h160v-160H180v160Zm440 0h160v-160H620v160ZM180-180h160v-160H180v160Zm440 0h160v-160H620v160Z\"/>\n",
              "  </svg>\n",
              "    </button>\n",
              "\n",
              "  <style>\n",
              "    .colab-df-container {\n",
              "      display:flex;\n",
              "      gap: 12px;\n",
              "    }\n",
              "\n",
              "    .colab-df-convert {\n",
              "      background-color: #E8F0FE;\n",
              "      border: none;\n",
              "      border-radius: 50%;\n",
              "      cursor: pointer;\n",
              "      display: none;\n",
              "      fill: #1967D2;\n",
              "      height: 32px;\n",
              "      padding: 0 0 0 0;\n",
              "      width: 32px;\n",
              "    }\n",
              "\n",
              "    .colab-df-convert:hover {\n",
              "      background-color: #E2EBFA;\n",
              "      box-shadow: 0px 1px 2px rgba(60, 64, 67, 0.3), 0px 1px 3px 1px rgba(60, 64, 67, 0.15);\n",
              "      fill: #174EA6;\n",
              "    }\n",
              "\n",
              "    .colab-df-buttons div {\n",
              "      margin-bottom: 4px;\n",
              "    }\n",
              "\n",
              "    [theme=dark] .colab-df-convert {\n",
              "      background-color: #3B4455;\n",
              "      fill: #D2E3FC;\n",
              "    }\n",
              "\n",
              "    [theme=dark] .colab-df-convert:hover {\n",
              "      background-color: #434B5C;\n",
              "      box-shadow: 0px 1px 3px 1px rgba(0, 0, 0, 0.15);\n",
              "      filter: drop-shadow(0px 1px 2px rgba(0, 0, 0, 0.3));\n",
              "      fill: #FFFFFF;\n",
              "    }\n",
              "  </style>\n",
              "\n",
              "    <script>\n",
              "      const buttonEl =\n",
              "        document.querySelector('#df-953bb631-3c2d-4a84-a01c-3219ee54ec01 button.colab-df-convert');\n",
              "      buttonEl.style.display =\n",
              "        google.colab.kernel.accessAllowed ? 'block' : 'none';\n",
              "\n",
              "      async function convertToInteractive(key) {\n",
              "        const element = document.querySelector('#df-953bb631-3c2d-4a84-a01c-3219ee54ec01');\n",
              "        const dataTable =\n",
              "          await google.colab.kernel.invokeFunction('convertToInteractive',\n",
              "                                                    [key], {});\n",
              "        if (!dataTable) return;\n",
              "\n",
              "        const docLinkHtml = 'Like what you see? Visit the ' +\n",
              "          '<a target=\"_blank\" href=https://colab.research.google.com/notebooks/data_table.ipynb>data table notebook</a>'\n",
              "          + ' to learn more about interactive tables.';\n",
              "        element.innerHTML = '';\n",
              "        dataTable['output_type'] = 'display_data';\n",
              "        await google.colab.output.renderOutput(dataTable, element);\n",
              "        const docLink = document.createElement('div');\n",
              "        docLink.innerHTML = docLinkHtml;\n",
              "        element.appendChild(docLink);\n",
              "      }\n",
              "    </script>\n",
              "  </div>\n",
              "\n",
              "\n",
              "<div id=\"df-62263a54-5672-43c8-8552-2d94a07545bc\">\n",
              "  <button class=\"colab-df-quickchart\" onclick=\"quickchart('df-62263a54-5672-43c8-8552-2d94a07545bc')\"\n",
              "            title=\"Suggest charts\"\n",
              "            style=\"display:none;\">\n",
              "\n",
              "<svg xmlns=\"http://www.w3.org/2000/svg\" height=\"24px\"viewBox=\"0 0 24 24\"\n",
              "     width=\"24px\">\n",
              "    <g>\n",
              "        <path d=\"M19 3H5c-1.1 0-2 .9-2 2v14c0 1.1.9 2 2 2h14c1.1 0 2-.9 2-2V5c0-1.1-.9-2-2-2zM9 17H7v-7h2v7zm4 0h-2V7h2v10zm4 0h-2v-4h2v4z\"/>\n",
              "    </g>\n",
              "</svg>\n",
              "  </button>\n",
              "\n",
              "<style>\n",
              "  .colab-df-quickchart {\n",
              "      --bg-color: #E8F0FE;\n",
              "      --fill-color: #1967D2;\n",
              "      --hover-bg-color: #E2EBFA;\n",
              "      --hover-fill-color: #174EA6;\n",
              "      --disabled-fill-color: #AAA;\n",
              "      --disabled-bg-color: #DDD;\n",
              "  }\n",
              "\n",
              "  [theme=dark] .colab-df-quickchart {\n",
              "      --bg-color: #3B4455;\n",
              "      --fill-color: #D2E3FC;\n",
              "      --hover-bg-color: #434B5C;\n",
              "      --hover-fill-color: #FFFFFF;\n",
              "      --disabled-bg-color: #3B4455;\n",
              "      --disabled-fill-color: #666;\n",
              "  }\n",
              "\n",
              "  .colab-df-quickchart {\n",
              "    background-color: var(--bg-color);\n",
              "    border: none;\n",
              "    border-radius: 50%;\n",
              "    cursor: pointer;\n",
              "    display: none;\n",
              "    fill: var(--fill-color);\n",
              "    height: 32px;\n",
              "    padding: 0;\n",
              "    width: 32px;\n",
              "  }\n",
              "\n",
              "  .colab-df-quickchart:hover {\n",
              "    background-color: var(--hover-bg-color);\n",
              "    box-shadow: 0 1px 2px rgba(60, 64, 67, 0.3), 0 1px 3px 1px rgba(60, 64, 67, 0.15);\n",
              "    fill: var(--button-hover-fill-color);\n",
              "  }\n",
              "\n",
              "  .colab-df-quickchart-complete:disabled,\n",
              "  .colab-df-quickchart-complete:disabled:hover {\n",
              "    background-color: var(--disabled-bg-color);\n",
              "    fill: var(--disabled-fill-color);\n",
              "    box-shadow: none;\n",
              "  }\n",
              "\n",
              "  .colab-df-spinner {\n",
              "    border: 2px solid var(--fill-color);\n",
              "    border-color: transparent;\n",
              "    border-bottom-color: var(--fill-color);\n",
              "    animation:\n",
              "      spin 1s steps(1) infinite;\n",
              "  }\n",
              "\n",
              "  @keyframes spin {\n",
              "    0% {\n",
              "      border-color: transparent;\n",
              "      border-bottom-color: var(--fill-color);\n",
              "      border-left-color: var(--fill-color);\n",
              "    }\n",
              "    20% {\n",
              "      border-color: transparent;\n",
              "      border-left-color: var(--fill-color);\n",
              "      border-top-color: var(--fill-color);\n",
              "    }\n",
              "    30% {\n",
              "      border-color: transparent;\n",
              "      border-left-color: var(--fill-color);\n",
              "      border-top-color: var(--fill-color);\n",
              "      border-right-color: var(--fill-color);\n",
              "    }\n",
              "    40% {\n",
              "      border-color: transparent;\n",
              "      border-right-color: var(--fill-color);\n",
              "      border-top-color: var(--fill-color);\n",
              "    }\n",
              "    60% {\n",
              "      border-color: transparent;\n",
              "      border-right-color: var(--fill-color);\n",
              "    }\n",
              "    80% {\n",
              "      border-color: transparent;\n",
              "      border-right-color: var(--fill-color);\n",
              "      border-bottom-color: var(--fill-color);\n",
              "    }\n",
              "    90% {\n",
              "      border-color: transparent;\n",
              "      border-bottom-color: var(--fill-color);\n",
              "    }\n",
              "  }\n",
              "</style>\n",
              "\n",
              "  <script>\n",
              "    async function quickchart(key) {\n",
              "      const quickchartButtonEl =\n",
              "        document.querySelector('#' + key + ' button');\n",
              "      quickchartButtonEl.disabled = true;  // To prevent multiple clicks.\n",
              "      quickchartButtonEl.classList.add('colab-df-spinner');\n",
              "      try {\n",
              "        const charts = await google.colab.kernel.invokeFunction(\n",
              "            'suggestCharts', [key], {});\n",
              "      } catch (error) {\n",
              "        console.error('Error during call to suggestCharts:', error);\n",
              "      }\n",
              "      quickchartButtonEl.classList.remove('colab-df-spinner');\n",
              "      quickchartButtonEl.classList.add('colab-df-quickchart-complete');\n",
              "    }\n",
              "    (() => {\n",
              "      let quickchartButtonEl =\n",
              "        document.querySelector('#df-62263a54-5672-43c8-8552-2d94a07545bc button');\n",
              "      quickchartButtonEl.style.display =\n",
              "        google.colab.kernel.accessAllowed ? 'block' : 'none';\n",
              "    })();\n",
              "  </script>\n",
              "</div>\n",
              "\n",
              "    </div>\n",
              "  </div>\n"
            ]
          },
          "metadata": {},
          "execution_count": 76
        }
      ]
    },
    {
      "cell_type": "markdown",
      "source": [
        "## 1) null 값 처리"
      ],
      "metadata": {
        "id": "7BTvlchejRCd"
      }
    },
    {
      "cell_type": "code",
      "source": [
        "print(data.shape)\n",
        "data.isnull().sum()"
      ],
      "metadata": {
        "colab": {
          "base_uri": "https://localhost:8080/"
        },
        "id": "uANqeMP6fney",
        "outputId": "9a7e84b4-eaa7-4ac5-f988-dfc2f263638a"
      },
      "execution_count": 77,
      "outputs": [
        {
          "output_type": "stream",
          "name": "stdout",
          "text": [
            "(891, 14)\n"
          ]
        },
        {
          "output_type": "execute_result",
          "data": {
            "text/plain": [
              "PassengerId      0\n",
              "Survived         0\n",
              "Pclass           0\n",
              "Name             0\n",
              "Sex              0\n",
              "Age              0\n",
              "SibSp            0\n",
              "Parch            0\n",
              "Ticket           0\n",
              "Fare             0\n",
              "Cabin          687\n",
              "Embarked         2\n",
              "Initial          0\n",
              "Age_band         0\n",
              "dtype: int64"
            ]
          },
          "metadata": {},
          "execution_count": 77
        }
      ]
    },
    {
      "cell_type": "markdown",
      "source": [
        "age는 채우고 deck는 drop하자\n",
        "\n",
        "무작정 drop하지말고, 다른 특성으로 grouping한 후, 각 그룹의 평균을 null대신 입력하는 식도 고려\n",
        "\n",
        "직전값으로 채울 수도 있음"
      ],
      "metadata": {
        "id": "GTaoEo2CfrQr"
      }
    },
    {
      "cell_type": "code",
      "source": [
        "data['Initial']=0\n",
        "for i in data:\n",
        "    data['Initial']=data.Name.str.extract('([A-Za-z]+)\\.')\n",
        "    # 정규표현식: .로 끝나는 형태를 다 가져와라"
      ],
      "metadata": {
        "id": "F6_XVB5Hqvgv"
      },
      "execution_count": 65,
      "outputs": []
    },
    {
      "cell_type": "code",
      "source": [
        "data['Initial'].replace(['Mlle','Mme','Ms','Dr','Major','Lady','Countess','Jonkheer','Col','Rev','Capt','Sir','Don'],\n",
        "                        ['Miss','Miss','Miss','Mr','Mr','Mrs','Mrs','Other','Other','Other','Mr','Mr','Mr'],inplace=True)"
      ],
      "metadata": {
        "id": "P5ivt-GyrUFW"
      },
      "execution_count": 66,
      "outputs": []
    },
    {
      "cell_type": "code",
      "source": [
        "data.groupby('Initial')['Age'].mean()"
      ],
      "metadata": {
        "colab": {
          "base_uri": "https://localhost:8080/"
        },
        "id": "FQeZXvfosA-n",
        "outputId": "1d1722b4-7ac2-46a6-cbe8-47aab7872cc5"
      },
      "execution_count": 67,
      "outputs": [
        {
          "output_type": "execute_result",
          "data": {
            "text/plain": [
              "Initial\n",
              "Master     4.574167\n",
              "Miss      21.860000\n",
              "Mr        32.739609\n",
              "Mrs       35.981818\n",
              "Other     45.888889\n",
              "Name: Age, dtype: float64"
            ]
          },
          "metadata": {},
          "execution_count": 67
        }
      ]
    },
    {
      "cell_type": "code",
      "source": [
        "data.loc[(data.Age.isnull())&(data.Initial=='Mr'),'Age']=33\n",
        "data.loc[(data.Age.isnull())&(data.Initial=='Mrs'),'Age']=36\n",
        "data.loc[(data.Age.isnull())&(data.Initial=='Master'),'Age']=5\n",
        "data.loc[(data.Age.isnull())&(data.Initial=='Miss'),'Age']=22\n",
        "data.loc[(data.Age.isnull())&(data.Initial=='Other'),'Age']=46"
      ],
      "metadata": {
        "id": "HdrJuCPosCoU"
      },
      "execution_count": 68,
      "outputs": []
    },
    {
      "cell_type": "markdown",
      "source": [
        "###결측치가 null이 아닌 object인경우"
      ],
      "metadata": {
        "id": "0sUOYvk9tShn"
      }
    },
    {
      "cell_type": "markdown",
      "source": [
        "예를 들어 0,'-','?','='인 경우 : 이를 NaN으로 바꾼다"
      ],
      "metadata": {
        "id": "DGMqbFsLtzI9"
      }
    },
    {
      "cell_type": "code",
      "source": [
        "#data.replace('-', np.nan)"
      ],
      "metadata": {
        "id": "TlDCIo5Rtyfz"
      },
      "execution_count": null,
      "outputs": []
    },
    {
      "cell_type": "markdown",
      "source": [
        "###직전 데이터값으로 null 대체"
      ],
      "metadata": {
        "id": "gHBEdarKuKej"
      }
    },
    {
      "cell_type": "code",
      "source": [
        "#df.embark_town.fillna(method='ffill',inplace=True)"
      ],
      "metadata": {
        "id": "bHu3z8v3uOpj"
      },
      "execution_count": null,
      "outputs": []
    },
    {
      "cell_type": "markdown",
      "source": [
        "###중복데이터 삭제"
      ],
      "metadata": {
        "id": "zfB8fSwquXOm"
      }
    },
    {
      "cell_type": "code",
      "source": [
        "#df2 = df.drop_duplicates(subset='Name')"
      ],
      "metadata": {
        "id": "IOR1KUfZucJN"
      },
      "execution_count": null,
      "outputs": []
    },
    {
      "cell_type": "markdown",
      "source": [
        "## 2) label별 데이터 분포"
      ],
      "metadata": {
        "id": "4Wf00GlojTfB"
      }
    },
    {
      "cell_type": "code",
      "source": [
        "import matplotlib.pyplot as plt\n",
        "f,ax = plt.subplots(1,2,figsize=(18,8))\n",
        "data['Survived'].value_counts().plot.pie(explode=[0,0.1],\n",
        "    autopct='%1.1f%%',ax=ax[0],shadow=True)\n",
        "ax[0].set_title('Survived')\n",
        "ax[0].set_ylabel('')\n",
        "sns.countplot(x='Survived',data=data,ax=ax[1])\n",
        "ax[1].set_title('Survived')\n",
        "plt.show()"
      ],
      "metadata": {
        "colab": {
          "base_uri": "https://localhost:8080/",
          "height": 716
        },
        "id": "APo7bdOLiQKn",
        "outputId": "ec68034f-5a00-49a5-e4b1-8f963d19c983"
      },
      "execution_count": 41,
      "outputs": [
        {
          "output_type": "display_data",
          "data": {
            "text/plain": [
              "<Figure size 1800x800 with 2 Axes>"
            ],
            "image/png": "[encoded data removed]"
          },
          "metadata": {}
        }
      ]
    },
    {
      "cell_type": "markdown",
      "source": [
        "## 3) Categorical Feature"
      ],
      "metadata": {
        "id": "4xUfxnkkelyK"
      }
    },
    {
      "cell_type": "markdown",
      "source": [
        "원핫인코딩등 사용, 무지성 인코딩 x"
      ],
      "metadata": {
        "id": "kbddJIaaesKk"
      }
    },
    {
      "cell_type": "markdown",
      "source": [
        "### crosstab"
      ],
      "metadata": {
        "id": "-OSh_OTnKS15"
      }
    },
    {
      "cell_type": "code",
      "source": [
        "pd.crosstab(data.Sex,data.Survived,margins=True).style.background_gradient(cmap='summer_r')"
      ],
      "metadata": {
        "colab": {
          "base_uri": "https://localhost:8080/",
          "height": 175
        },
        "id": "Hh0Bld21J8LT",
        "outputId": "aa39b55b-d27e-40c0-9807-4c3c1aa6b9d7"
      },
      "execution_count": 42,
      "outputs": [
        {
          "output_type": "execute_result",
          "data": {
            "text/plain": [
              "<pandas.io.formats.style.Styler at 0x7ee447b87790>"
            ],
            "text/html": [
              "<style type=\"text/css\">\n",
              "#T_1b69d_row0_col0, #T_1b69d_row0_col2, #T_1b69d_row1_col1 {\n",
              "  background-color: #ffff66;\n",
              "  color: #000000;\n",
              "}\n",
              "#T_1b69d_row0_col1 {\n",
              "  background-color: #77bb66;\n",
              "  color: #f1f1f1;\n",
              "}\n",
              "#T_1b69d_row1_col0 {\n",
              "  background-color: #2c9666;\n",
              "  color: #f1f1f1;\n",
              "}\n",
              "#T_1b69d_row1_col2 {\n",
              "  background-color: #8bc566;\n",
              "  color: #000000;\n",
              "}\n",
              "#T_1b69d_row2_col0, #T_1b69d_row2_col1, #T_1b69d_row2_col2 {\n",
              "  background-color: #008066;\n",
              "  color: #f1f1f1;\n",
              "}\n",
              "</style>\n",
              "<table id=\"T_1b69d\" class=\"dataframe\">\n",
              "  <thead>\n",
              "    <tr>\n",
              "      <th class=\"index_name level0\" >Survived</th>\n",
              "      <th id=\"T_1b69d_level0_col0\" class=\"col_heading level0 col0\" >0</th>\n",
              "      <th id=\"T_1b69d_level0_col1\" class=\"col_heading level0 col1\" >1</th>\n",
              "      <th id=\"T_1b69d_level0_col2\" class=\"col_heading level0 col2\" >All</th>\n",
              "    </tr>\n",
              "    <tr>\n",
              "      <th class=\"index_name level0\" >Sex</th>\n",
              "      <th class=\"blank col0\" >&nbsp;</th>\n",
              "      <th class=\"blank col1\" >&nbsp;</th>\n",
              "      <th class=\"blank col2\" >&nbsp;</th>\n",
              "    </tr>\n",
              "  </thead>\n",
              "  <tbody>\n",
              "    <tr>\n",
              "      <th id=\"T_1b69d_level0_row0\" class=\"row_heading level0 row0\" >female</th>\n",
              "      <td id=\"T_1b69d_row0_col0\" class=\"data row0 col0\" >81</td>\n",
              "      <td id=\"T_1b69d_row0_col1\" class=\"data row0 col1\" >233</td>\n",
              "      <td id=\"T_1b69d_row0_col2\" class=\"data row0 col2\" >314</td>\n",
              "    </tr>\n",
              "    <tr>\n",
              "      <th id=\"T_1b69d_level0_row1\" class=\"row_heading level0 row1\" >male</th>\n",
              "      <td id=\"T_1b69d_row1_col0\" class=\"data row1 col0\" >468</td>\n",
              "      <td id=\"T_1b69d_row1_col1\" class=\"data row1 col1\" >109</td>\n",
              "      <td id=\"T_1b69d_row1_col2\" class=\"data row1 col2\" >577</td>\n",
              "    </tr>\n",
              "    <tr>\n",
              "      <th id=\"T_1b69d_level0_row2\" class=\"row_heading level0 row2\" >All</th>\n",
              "      <td id=\"T_1b69d_row2_col0\" class=\"data row2 col0\" >549</td>\n",
              "      <td id=\"T_1b69d_row2_col1\" class=\"data row2 col1\" >342</td>\n",
              "      <td id=\"T_1b69d_row2_col2\" class=\"data row2 col2\" >891</td>\n",
              "    </tr>\n",
              "  </tbody>\n",
              "</table>\n"
            ]
          },
          "metadata": {},
          "execution_count": 42
        }
      ]
    },
    {
      "cell_type": "code",
      "source": [
        "pd.crosstab([data.Embarked,data.Pclass],\n",
        "            [data.Sex,data.Survived],margins=True).style.background_gradient(cmap='summer_r')"
      ],
      "metadata": {
        "colab": {
          "base_uri": "https://localhost:8080/",
          "height": 426
        },
        "id": "1DyKZngqnKve",
        "outputId": "42bdc88b-e9db-40ca-858f-4dabf3f987f1"
      },
      "execution_count": 43,
      "outputs": [
        {
          "output_type": "execute_result",
          "data": {
            "text/plain": [
              "<pandas.io.formats.style.Styler at 0x7ee447b172e0>"
            ],
            "text/html": [
              "<style type=\"text/css\">\n",
              "#T_0ce59_row0_col0, #T_0ce59_row1_col2 {\n",
              "  background-color: #fcfe66;\n",
              "  color: #000000;\n",
              "}\n",
              "#T_0ce59_row0_col1 {\n",
              "  background-color: #d2e866;\n",
              "  color: #000000;\n",
              "}\n",
              "#T_0ce59_row0_col2 {\n",
              "  background-color: #f2f866;\n",
              "  color: #000000;\n",
              "}\n",
              "#T_0ce59_row0_col3 {\n",
              "  background-color: #d8ec66;\n",
              "  color: #000000;\n",
              "}\n",
              "#T_0ce59_row0_col4, #T_0ce59_row2_col3 {\n",
              "  background-color: #e8f466;\n",
              "  color: #000000;\n",
              "}\n",
              "#T_0ce59_row1_col0, #T_0ce59_row3_col0, #T_0ce59_row3_col1, #T_0ce59_row3_col2, #T_0ce59_row3_col3, #T_0ce59_row3_col4, #T_0ce59_row4_col0, #T_0ce59_row4_col2, #T_0ce59_row4_col3, #T_0ce59_row4_col4 {\n",
              "  background-color: #ffff66;\n",
              "  color: #000000;\n",
              "}\n",
              "#T_0ce59_row1_col1, #T_0ce59_row6_col0 {\n",
              "  background-color: #f9fc66;\n",
              "  color: #000000;\n",
              "}\n",
              "#T_0ce59_row1_col3, #T_0ce59_row1_col4 {\n",
              "  background-color: #fbfd66;\n",
              "  color: #000000;\n",
              "}\n",
              "#T_0ce59_row2_col0, #T_0ce59_row5_col1 {\n",
              "  background-color: #e6f266;\n",
              "  color: #000000;\n",
              "}\n",
              "#T_0ce59_row2_col1 {\n",
              "  background-color: #f0f866;\n",
              "  color: #000000;\n",
              "}\n",
              "#T_0ce59_row2_col2 {\n",
              "  background-color: #eef666;\n",
              "  color: #000000;\n",
              "}\n",
              "#T_0ce59_row2_col4, #T_0ce59_row7_col0 {\n",
              "  background-color: #edf666;\n",
              "  color: #000000;\n",
              "}\n",
              "#T_0ce59_row4_col1 {\n",
              "  background-color: #fefe66;\n",
              "  color: #000000;\n",
              "}\n",
              "#T_0ce59_row5_col0 {\n",
              "  background-color: #e3f166;\n",
              "  color: #000000;\n",
              "}\n",
              "#T_0ce59_row5_col2 {\n",
              "  background-color: #ecf666;\n",
              "  color: #000000;\n",
              "}\n",
              "#T_0ce59_row5_col3 {\n",
              "  background-color: #f8fc66;\n",
              "  color: #000000;\n",
              "}\n",
              "#T_0ce59_row5_col4 {\n",
              "  background-color: #ebf566;\n",
              "  color: #000000;\n",
              "}\n",
              "#T_0ce59_row6_col1 {\n",
              "  background-color: #cde666;\n",
              "  color: #000000;\n",
              "}\n",
              "#T_0ce59_row6_col2 {\n",
              "  background-color: #e4f266;\n",
              "  color: #000000;\n",
              "}\n",
              "#T_0ce59_row6_col3 {\n",
              "  background-color: #bede66;\n",
              "  color: #000000;\n",
              "}\n",
              "#T_0ce59_row6_col4 {\n",
              "  background-color: #dbed66;\n",
              "  color: #000000;\n",
              "}\n",
              "#T_0ce59_row7_col1 {\n",
              "  background-color: #bdde66;\n",
              "  color: #000000;\n",
              "}\n",
              "#T_0ce59_row7_col2 {\n",
              "  background-color: #d3e966;\n",
              "  color: #000000;\n",
              "}\n",
              "#T_0ce59_row7_col3, #T_0ce59_row8_col1 {\n",
              "  background-color: #dcee66;\n",
              "  color: #000000;\n",
              "}\n",
              "#T_0ce59_row7_col4 {\n",
              "  background-color: #d1e866;\n",
              "  color: #000000;\n",
              "}\n",
              "#T_0ce59_row8_col0 {\n",
              "  background-color: #52a866;\n",
              "  color: #f1f1f1;\n",
              "}\n",
              "#T_0ce59_row8_col2 {\n",
              "  background-color: #81c066;\n",
              "  color: #000000;\n",
              "}\n",
              "#T_0ce59_row8_col3 {\n",
              "  background-color: #b0d866;\n",
              "  color: #000000;\n",
              "}\n",
              "#T_0ce59_row8_col4 {\n",
              "  background-color: #9acc66;\n",
              "  color: #000000;\n",
              "}\n",
              "#T_0ce59_row9_col0, #T_0ce59_row9_col1, #T_0ce59_row9_col2, #T_0ce59_row9_col3, #T_0ce59_row9_col4 {\n",
              "  background-color: #008066;\n",
              "  color: #f1f1f1;\n",
              "}\n",
              "</style>\n",
              "<table id=\"T_0ce59\" class=\"dataframe\">\n",
              "  <thead>\n",
              "    <tr>\n",
              "      <th class=\"blank\" >&nbsp;</th>\n",
              "      <th class=\"index_name level0\" >Sex</th>\n",
              "      <th id=\"T_0ce59_level0_col0\" class=\"col_heading level0 col0\" colspan=\"2\">female</th>\n",
              "      <th id=\"T_0ce59_level0_col2\" class=\"col_heading level0 col2\" colspan=\"2\">male</th>\n",
              "      <th id=\"T_0ce59_level0_col4\" class=\"col_heading level0 col4\" >All</th>\n",
              "    </tr>\n",
              "    <tr>\n",
              "      <th class=\"blank\" >&nbsp;</th>\n",
              "      <th class=\"index_name level1\" >Survived</th>\n",
              "      <th id=\"T_0ce59_level1_col0\" class=\"col_heading level1 col0\" >0</th>\n",
              "      <th id=\"T_0ce59_level1_col1\" class=\"col_heading level1 col1\" >1</th>\n",
              "      <th id=\"T_0ce59_level1_col2\" class=\"col_heading level1 col2\" >0</th>\n",
              "      <th id=\"T_0ce59_level1_col3\" class=\"col_heading level1 col3\" >1</th>\n",
              "      <th id=\"T_0ce59_level1_col4\" class=\"col_heading level1 col4\" ></th>\n",
              "    </tr>\n",
              "    <tr>\n",
              "      <th class=\"index_name level0\" >Embarked</th>\n",
              "      <th class=\"index_name level1\" >Pclass</th>\n",
              "      <th class=\"blank col0\" >&nbsp;</th>\n",
              "      <th class=\"blank col1\" >&nbsp;</th>\n",
              "      <th class=\"blank col2\" >&nbsp;</th>\n",
              "      <th class=\"blank col3\" >&nbsp;</th>\n",
              "      <th class=\"blank col4\" >&nbsp;</th>\n",
              "    </tr>\n",
              "  </thead>\n",
              "  <tbody>\n",
              "    <tr>\n",
              "      <th id=\"T_0ce59_level0_row0\" class=\"row_heading level0 row0\" rowspan=\"3\">C</th>\n",
              "      <th id=\"T_0ce59_level1_row0\" class=\"row_heading level1 row0\" >1</th>\n",
              "      <td id=\"T_0ce59_row0_col0\" class=\"data row0 col0\" >1</td>\n",
              "      <td id=\"T_0ce59_row0_col1\" class=\"data row0 col1\" >42</td>\n",
              "      <td id=\"T_0ce59_row0_col2\" class=\"data row0 col2\" >25</td>\n",
              "      <td id=\"T_0ce59_row0_col3\" class=\"data row0 col3\" >17</td>\n",
              "      <td id=\"T_0ce59_row0_col4\" class=\"data row0 col4\" >85</td>\n",
              "    </tr>\n",
              "    <tr>\n",
              "      <th id=\"T_0ce59_level1_row1\" class=\"row_heading level1 row1\" >2</th>\n",
              "      <td id=\"T_0ce59_row1_col0\" class=\"data row1 col0\" >0</td>\n",
              "      <td id=\"T_0ce59_row1_col1\" class=\"data row1 col1\" >7</td>\n",
              "      <td id=\"T_0ce59_row1_col2\" class=\"data row1 col2\" >8</td>\n",
              "      <td id=\"T_0ce59_row1_col3\" class=\"data row1 col3\" >2</td>\n",
              "      <td id=\"T_0ce59_row1_col4\" class=\"data row1 col4\" >17</td>\n",
              "    </tr>\n",
              "    <tr>\n",
              "      <th id=\"T_0ce59_level1_row2\" class=\"row_heading level1 row2\" >3</th>\n",
              "      <td id=\"T_0ce59_row2_col0\" class=\"data row2 col0\" >8</td>\n",
              "      <td id=\"T_0ce59_row2_col1\" class=\"data row2 col1\" >15</td>\n",
              "      <td id=\"T_0ce59_row2_col2\" class=\"data row2 col2\" >33</td>\n",
              "      <td id=\"T_0ce59_row2_col3\" class=\"data row2 col3\" >10</td>\n",
              "      <td id=\"T_0ce59_row2_col4\" class=\"data row2 col4\" >66</td>\n",
              "    </tr>\n",
              "    <tr>\n",
              "      <th id=\"T_0ce59_level0_row3\" class=\"row_heading level0 row3\" rowspan=\"3\">Q</th>\n",
              "      <th id=\"T_0ce59_level1_row3\" class=\"row_heading level1 row3\" >1</th>\n",
              "      <td id=\"T_0ce59_row3_col0\" class=\"data row3 col0\" >0</td>\n",
              "      <td id=\"T_0ce59_row3_col1\" class=\"data row3 col1\" >1</td>\n",
              "      <td id=\"T_0ce59_row3_col2\" class=\"data row3 col2\" >1</td>\n",
              "      <td id=\"T_0ce59_row3_col3\" class=\"data row3 col3\" >0</td>\n",
              "      <td id=\"T_0ce59_row3_col4\" class=\"data row3 col4\" >2</td>\n",
              "    </tr>\n",
              "    <tr>\n",
              "      <th id=\"T_0ce59_level1_row4\" class=\"row_heading level1 row4\" >2</th>\n",
              "      <td id=\"T_0ce59_row4_col0\" class=\"data row4 col0\" >0</td>\n",
              "      <td id=\"T_0ce59_row4_col1\" class=\"data row4 col1\" >2</td>\n",
              "      <td id=\"T_0ce59_row4_col2\" class=\"data row4 col2\" >1</td>\n",
              "      <td id=\"T_0ce59_row4_col3\" class=\"data row4 col3\" >0</td>\n",
              "      <td id=\"T_0ce59_row4_col4\" class=\"data row4 col4\" >3</td>\n",
              "    </tr>\n",
              "    <tr>\n",
              "      <th id=\"T_0ce59_level1_row5\" class=\"row_heading level1 row5\" >3</th>\n",
              "      <td id=\"T_0ce59_row5_col0\" class=\"data row5 col0\" >9</td>\n",
              "      <td id=\"T_0ce59_row5_col1\" class=\"data row5 col1\" >24</td>\n",
              "      <td id=\"T_0ce59_row5_col2\" class=\"data row5 col2\" >36</td>\n",
              "      <td id=\"T_0ce59_row5_col3\" class=\"data row5 col3\" >3</td>\n",
              "      <td id=\"T_0ce59_row5_col4\" class=\"data row5 col4\" >72</td>\n",
              "    </tr>\n",
              "    <tr>\n",
              "      <th id=\"T_0ce59_level0_row6\" class=\"row_heading level0 row6\" rowspan=\"3\">S</th>\n",
              "      <th id=\"T_0ce59_level1_row6\" class=\"row_heading level1 row6\" >1</th>\n",
              "      <td id=\"T_0ce59_row6_col0\" class=\"data row6 col0\" >2</td>\n",
              "      <td id=\"T_0ce59_row6_col1\" class=\"data row6 col1\" >46</td>\n",
              "      <td id=\"T_0ce59_row6_col2\" class=\"data row6 col2\" >51</td>\n",
              "      <td id=\"T_0ce59_row6_col3\" class=\"data row6 col3\" >28</td>\n",
              "      <td id=\"T_0ce59_row6_col4\" class=\"data row6 col4\" >127</td>\n",
              "    </tr>\n",
              "    <tr>\n",
              "      <th id=\"T_0ce59_level1_row7\" class=\"row_heading level1 row7\" >2</th>\n",
              "      <td id=\"T_0ce59_row7_col0\" class=\"data row7 col0\" >6</td>\n",
              "      <td id=\"T_0ce59_row7_col1\" class=\"data row7 col1\" >61</td>\n",
              "      <td id=\"T_0ce59_row7_col2\" class=\"data row7 col2\" >82</td>\n",
              "      <td id=\"T_0ce59_row7_col3\" class=\"data row7 col3\" >15</td>\n",
              "      <td id=\"T_0ce59_row7_col4\" class=\"data row7 col4\" >164</td>\n",
              "    </tr>\n",
              "    <tr>\n",
              "      <th id=\"T_0ce59_level1_row8\" class=\"row_heading level1 row8\" >3</th>\n",
              "      <td id=\"T_0ce59_row8_col0\" class=\"data row8 col0\" >55</td>\n",
              "      <td id=\"T_0ce59_row8_col1\" class=\"data row8 col1\" >33</td>\n",
              "      <td id=\"T_0ce59_row8_col2\" class=\"data row8 col2\" >231</td>\n",
              "      <td id=\"T_0ce59_row8_col3\" class=\"data row8 col3\" >34</td>\n",
              "      <td id=\"T_0ce59_row8_col4\" class=\"data row8 col4\" >353</td>\n",
              "    </tr>\n",
              "    <tr>\n",
              "      <th id=\"T_0ce59_level0_row9\" class=\"row_heading level0 row9\" >All</th>\n",
              "      <th id=\"T_0ce59_level1_row9\" class=\"row_heading level1 row9\" ></th>\n",
              "      <td id=\"T_0ce59_row9_col0\" class=\"data row9 col0\" >81</td>\n",
              "      <td id=\"T_0ce59_row9_col1\" class=\"data row9 col1\" >231</td>\n",
              "      <td id=\"T_0ce59_row9_col2\" class=\"data row9 col2\" >468</td>\n",
              "      <td id=\"T_0ce59_row9_col3\" class=\"data row9 col3\" >109</td>\n",
              "      <td id=\"T_0ce59_row9_col4\" class=\"data row9 col4\" >889</td>\n",
              "    </tr>\n",
              "  </tbody>\n",
              "</table>\n"
            ]
          },
          "metadata": {},
          "execution_count": 43
        }
      ]
    },
    {
      "cell_type": "markdown",
      "source": [
        "### 변수 2개(categorical, categorical): sns.countplot"
      ],
      "metadata": {
        "id": "xjkfDoHrtxmD"
      }
    },
    {
      "cell_type": "code",
      "source": [
        "f,ax=plt.subplots(1,2,figsize=(18,8))\n",
        "data[['Sex','Survived']].groupby(['Sex']).mean().plot.bar(ax=ax[0])\n",
        "ax[0].set_title('Survived vs Sex')\n",
        "sns.countplot(x='Sex',hue='Survived',data=data,ax=ax[1])\n",
        "ax[1].set_title('Sex:Survived vs Dead')\n",
        "plt.show()"
      ],
      "metadata": {
        "colab": {
          "base_uri": "https://localhost:8080/",
          "height": 744
        },
        "id": "UtiteFU1jdtc",
        "outputId": "aef817bc-3178-4127-85c4-5f7100ebfd7c"
      },
      "execution_count": 44,
      "outputs": [
        {
          "output_type": "display_data",
          "data": {
            "text/plain": [
              "<Figure size 1800x800 with 2 Axes>"
            ],
            "image/png": "[encoded data removed]"
          },
          "metadata": {}
        }
      ]
    },
    {
      "cell_type": "markdown",
      "source": [
        "## 4) Ordinal Feature"
      ],
      "metadata": {
        "id": "o7qJ_8_5vSZW"
      }
    },
    {
      "cell_type": "markdown",
      "source": [
        "Ordinal Feature(Pclass) : 1,2,3으로 순서가있는 인코딩 가능"
      ],
      "metadata": {
        "id": "Mg0f0i1KvZSg"
      }
    },
    {
      "cell_type": "markdown",
      "source": [
        "### crosstab"
      ],
      "metadata": {
        "id": "G38r2cznJrJw"
      }
    },
    {
      "cell_type": "code",
      "source": [
        "data.head()"
      ],
      "metadata": {
        "colab": {
          "base_uri": "https://localhost:8080/",
          "height": 206
        },
        "id": "qMgBW9UMz5U8",
        "outputId": "62be563e-ca29-4b27-df27-ac0c5d4e3e30"
      },
      "execution_count": 78,
      "outputs": [
        {
          "output_type": "execute_result",
          "data": {
            "text/plain": [
              "   PassengerId  Survived  Pclass  \\\n",
              "0            1         0       3   \n",
              "1            2         1       1   \n",
              "2            3         1       3   \n",
              "3            4         1       1   \n",
              "4            5         0       3   \n",
              "\n",
              "                                                Name     Sex   Age  SibSp  \\\n",
              "0                            Braund, Mr. Owen Harris    male  22.0      1   \n",
              "1  Cumings, Mrs. John Bradley (Florence Briggs Th...  female  38.0      1   \n",
              "2                             Heikkinen, Miss. Laina  female  26.0      0   \n",
              "3       Futrelle, Mrs. Jacques Heath (Lily May Peel)  female  35.0      1   \n",
              "4                           Allen, Mr. William Henry    male  35.0      0   \n",
              "\n",
              "   Parch            Ticket     Fare Cabin Embarked Initial Age_band  \n",
              "0      0         A/5 21171   7.2500   NaN        S      Mr        1  \n",
              "1      0          PC 17599  71.2833   C85        C     Mrs        2  \n",
              "2      0  STON/O2. 3101282   7.9250   NaN        S    Miss        1  \n",
              "3      0            113803  53.1000  C123        S     Mrs        2  \n",
              "4      0            373450   8.0500   NaN        S      Mr        2  "
            ],
            "text/html": [
              "\n",
              "  <div id=\"df-2fccb06a-9a9a-4d2a-a985-17b5e73a910e\" class=\"colab-df-container\">\n",
              "    <div>\n",
              "<style scoped>\n",
              "    .dataframe tbody tr th:only-of-type {\n",
              "        vertical-align: middle;\n",
              "    }\n",
              "\n",
              "    .dataframe tbody tr th {\n",
              "        vertical-align: top;\n",
              "    }\n",
              "\n",
              "    .dataframe thead th {\n",
              "        text-align: right;\n",
              "    }\n",
              "</style>\n",
              "<table border=\"1\" class=\"dataframe\">\n",
              "  <thead>\n",
              "    <tr style=\"text-align: right;\">\n",
              "      <th></th>\n",
              "      <th>PassengerId</th>\n",
              "      <th>Survived</th>\n",
              "      <th>Pclass</th>\n",
              "      <th>Name</th>\n",
              "      <th>Sex</th>\n",
              "      <th>Age</th>\n",
              "      <th>SibSp</th>\n",
              "      <th>Parch</th>\n",
              "      <th>Ticket</th>\n",
              "      <th>Fare</th>\n",
              "      <th>Cabin</th>\n",
              "      <th>Embarked</th>\n",
              "      <th>Initial</th>\n",
              "      <th>Age_band</th>\n",
              "    </tr>\n",
              "  </thead>\n",
              "  <tbody>\n",
              "    <tr>\n",
              "      <th>0</th>\n",
              "      <td>1</td>\n",
              "      <td>0</td>\n",
              "      <td>3</td>\n",
              "      <td>Braund, Mr. Owen Harris</td>\n",
              "      <td>male</td>\n",
              "      <td>22.0</td>\n",
              "      <td>1</td>\n",
              "      <td>0</td>\n",
              "      <td>A/5 21171</td>\n",
              "      <td>7.2500</td>\n",
              "      <td>NaN</td>\n",
              "      <td>S</td>\n",
              "      <td>Mr</td>\n",
              "      <td>1</td>\n",
              "    </tr>\n",
              "    <tr>\n",
              "      <th>1</th>\n",
              "      <td>2</td>\n",
              "      <td>1</td>\n",
              "      <td>1</td>\n",
              "      <td>Cumings, Mrs. John Bradley (Florence Briggs Th...</td>\n",
              "      <td>female</td>\n",
              "      <td>38.0</td>\n",
              "      <td>1</td>\n",
              "      <td>0</td>\n",
              "      <td>PC 17599</td>\n",
              "      <td>71.2833</td>\n",
              "      <td>C85</td>\n",
              "      <td>C</td>\n",
              "      <td>Mrs</td>\n",
              "      <td>2</td>\n",
              "    </tr>\n",
              "    <tr>\n",
              "      <th>2</th>\n",
              "      <td>3</td>\n",
              "      <td>1</td>\n",
              "      <td>3</td>\n",
              "      <td>Heikkinen, Miss. Laina</td>\n",
              "      <td>female</td>\n",
              "      <td>26.0</td>\n",
              "      <td>0</td>\n",
              "      <td>0</td>\n",
              "      <td>STON/O2. 3101282</td>\n",
              "      <td>7.9250</td>\n",
              "      <td>NaN</td>\n",
              "      <td>S</td>\n",
              "      <td>Miss</td>\n",
              "      <td>1</td>\n",
              "    </tr>\n",
              "    <tr>\n",
              "      <th>3</th>\n",
              "      <td>4</td>\n",
              "      <td>1</td>\n",
              "      <td>1</td>\n",
              "      <td>Futrelle, Mrs. Jacques Heath (Lily May Peel)</td>\n",
              "      <td>female</td>\n",
              "      <td>35.0</td>\n",
              "      <td>1</td>\n",
              "      <td>0</td>\n",
              "      <td>113803</td>\n",
              "      <td>53.1000</td>\n",
              "      <td>C123</td>\n",
              "      <td>S</td>\n",
              "      <td>Mrs</td>\n",
              "      <td>2</td>\n",
              "    </tr>\n",
              "    <tr>\n",
              "      <th>4</th>\n",
              "      <td>5</td>\n",
              "      <td>0</td>\n",
              "      <td>3</td>\n",
              "      <td>Allen, Mr. William Henry</td>\n",
              "      <td>male</td>\n",
              "      <td>35.0</td>\n",
              "      <td>0</td>\n",
              "      <td>0</td>\n",
              "      <td>373450</td>\n",
              "      <td>8.0500</td>\n",
              "      <td>NaN</td>\n",
              "      <td>S</td>\n",
              "      <td>Mr</td>\n",
              "      <td>2</td>\n",
              "    </tr>\n",
              "  </tbody>\n",
              "</table>\n",
              "</div>\n",
              "    <div class=\"colab-df-buttons\">\n",
              "\n",
              "  <div class=\"colab-df-container\">\n",
              "    <button class=\"colab-df-convert\" onclick=\"convertToInteractive('df-2fccb06a-9a9a-4d2a-a985-17b5e73a910e')\"\n",
              "            title=\"Convert this dataframe to an interactive table.\"\n",
              "            style=\"display:none;\">\n",
              "\n",
              "  <svg xmlns=\"http://www.w3.org/2000/svg\" height=\"24px\" viewBox=\"0 -960 960 960\">\n",
              "    <path d=\"M120-120v-720h720v720H120Zm60-500h600v-160H180v160Zm220 220h160v-160H400v160Zm0 220h160v-160H400v160ZM180-400h160v-160H180v160Zm440 0h160v-160H620v160ZM180-180h160v-160H180v160Zm440 0h160v-160H620v160Z\"/>\n",
              "  </svg>\n",
              "    </button>\n",
              "\n",
              "  <style>\n",
              "    .colab-df-container {\n",
              "      display:flex;\n",
              "      gap: 12px;\n",
              "    }\n",
              "\n",
              "    .colab-df-convert {\n",
              "      background-color: #E8F0FE;\n",
              "      border: none;\n",
              "      border-radius: 50%;\n",
              "      cursor: pointer;\n",
              "      display: none;\n",
              "      fill: #1967D2;\n",
              "      height: 32px;\n",
              "      padding: 0 0 0 0;\n",
              "      width: 32px;\n",
              "    }\n",
              "\n",
              "    .colab-df-convert:hover {\n",
              "      background-color: #E2EBFA;\n",
              "      box-shadow: 0px 1px 2px rgba(60, 64, 67, 0.3), 0px 1px 3px 1px rgba(60, 64, 67, 0.15);\n",
              "      fill: #174EA6;\n",
              "    }\n",
              "\n",
              "    .colab-df-buttons div {\n",
              "      margin-bottom: 4px;\n",
              "    }\n",
              "\n",
              "    [theme=dark] .colab-df-convert {\n",
              "      background-color: #3B4455;\n",
              "      fill: #D2E3FC;\n",
              "    }\n",
              "\n",
              "    [theme=dark] .colab-df-convert:hover {\n",
              "      background-color: #434B5C;\n",
              "      box-shadow: 0px 1px 3px 1px rgba(0, 0, 0, 0.15);\n",
              "      filter: drop-shadow(0px 1px 2px rgba(0, 0, 0, 0.3));\n",
              "      fill: #FFFFFF;\n",
              "    }\n",
              "  </style>\n",
              "\n",
              "    <script>\n",
              "      const buttonEl =\n",
              "        document.querySelector('#df-2fccb06a-9a9a-4d2a-a985-17b5e73a910e button.colab-df-convert');\n",
              "      buttonEl.style.display =\n",
              "        google.colab.kernel.accessAllowed ? 'block' : 'none';\n",
              "\n",
              "      async function convertToInteractive(key) {\n",
              "        const element = document.querySelector('#df-2fccb06a-9a9a-4d2a-a985-17b5e73a910e');\n",
              "        const dataTable =\n",
              "          await google.colab.kernel.invokeFunction('convertToInteractive',\n",
              "                                                    [key], {});\n",
              "        if (!dataTable) return;\n",
              "\n",
              "        const docLinkHtml = 'Like what you see? Visit the ' +\n",
              "          '<a target=\"_blank\" href=https://colab.research.google.com/notebooks/data_table.ipynb>data table notebook</a>'\n",
              "          + ' to learn more about interactive tables.';\n",
              "        element.innerHTML = '';\n",
              "        dataTable['output_type'] = 'display_data';\n",
              "        await google.colab.output.renderOutput(dataTable, element);\n",
              "        const docLink = document.createElement('div');\n",
              "        docLink.innerHTML = docLinkHtml;\n",
              "        element.appendChild(docLink);\n",
              "      }\n",
              "    </script>\n",
              "  </div>\n",
              "\n",
              "\n",
              "<div id=\"df-9c2f6760-29bf-42ee-8c87-9620eee7b225\">\n",
              "  <button class=\"colab-df-quickchart\" onclick=\"quickchart('df-9c2f6760-29bf-42ee-8c87-9620eee7b225')\"\n",
              "            title=\"Suggest charts\"\n",
              "            style=\"display:none;\">\n",
              "\n",
              "<svg xmlns=\"http://www.w3.org/2000/svg\" height=\"24px\"viewBox=\"0 0 24 24\"\n",
              "     width=\"24px\">\n",
              "    <g>\n",
              "        <path d=\"M19 3H5c-1.1 0-2 .9-2 2v14c0 1.1.9 2 2 2h14c1.1 0 2-.9 2-2V5c0-1.1-.9-2-2-2zM9 17H7v-7h2v7zm4 0h-2V7h2v10zm4 0h-2v-4h2v4z\"/>\n",
              "    </g>\n",
              "</svg>\n",
              "  </button>\n",
              "\n",
              "<style>\n",
              "  .colab-df-quickchart {\n",
              "      --bg-color: #E8F0FE;\n",
              "      --fill-color: #1967D2;\n",
              "      --hover-bg-color: #E2EBFA;\n",
              "      --hover-fill-color: #174EA6;\n",
              "      --disabled-fill-color: #AAA;\n",
              "      --disabled-bg-color: #DDD;\n",
              "  }\n",
              "\n",
              "  [theme=dark] .colab-df-quickchart {\n",
              "      --bg-color: #3B4455;\n",
              "      --fill-color: #D2E3FC;\n",
              "      --hover-bg-color: #434B5C;\n",
              "      --hover-fill-color: #FFFFFF;\n",
              "      --disabled-bg-color: #3B4455;\n",
              "      --disabled-fill-color: #666;\n",
              "  }\n",
              "\n",
              "  .colab-df-quickchart {\n",
              "    background-color: var(--bg-color);\n",
              "    border: none;\n",
              "    border-radius: 50%;\n",
              "    cursor: pointer;\n",
              "    display: none;\n",
              "    fill: var(--fill-color);\n",
              "    height: 32px;\n",
              "    padding: 0;\n",
              "    width: 32px;\n",
              "  }\n",
              "\n",
              "  .colab-df-quickchart:hover {\n",
              "    background-color: var(--hover-bg-color);\n",
              "    box-shadow: 0 1px 2px rgba(60, 64, 67, 0.3), 0 1px 3px 1px rgba(60, 64, 67, 0.15);\n",
              "    fill: var(--button-hover-fill-color);\n",
              "  }\n",
              "\n",
              "  .colab-df-quickchart-complete:disabled,\n",
              "  .colab-df-quickchart-complete:disabled:hover {\n",
              "    background-color: var(--disabled-bg-color);\n",
              "    fill: var(--disabled-fill-color);\n",
              "    box-shadow: none;\n",
              "  }\n",
              "\n",
              "  .colab-df-spinner {\n",
              "    border: 2px solid var(--fill-color);\n",
              "    border-color: transparent;\n",
              "    border-bottom-color: var(--fill-color);\n",
              "    animation:\n",
              "      spin 1s steps(1) infinite;\n",
              "  }\n",
              "\n",
              "  @keyframes spin {\n",
              "    0% {\n",
              "      border-color: transparent;\n",
              "      border-bottom-color: var(--fill-color);\n",
              "      border-left-color: var(--fill-color);\n",
              "    }\n",
              "    20% {\n",
              "      border-color: transparent;\n",
              "      border-left-color: var(--fill-color);\n",
              "      border-top-color: var(--fill-color);\n",
              "    }\n",
              "    30% {\n",
              "      border-color: transparent;\n",
              "      border-left-color: var(--fill-color);\n",
              "      border-top-color: var(--fill-color);\n",
              "      border-right-color: var(--fill-color);\n",
              "    }\n",
              "    40% {\n",
              "      border-color: transparent;\n",
              "      border-right-color: var(--fill-color);\n",
              "      border-top-color: var(--fill-color);\n",
              "    }\n",
              "    60% {\n",
              "      border-color: transparent;\n",
              "      border-right-color: var(--fill-color);\n",
              "    }\n",
              "    80% {\n",
              "      border-color: transparent;\n",
              "      border-right-color: var(--fill-color);\n",
              "      border-bottom-color: var(--fill-color);\n",
              "    }\n",
              "    90% {\n",
              "      border-color: transparent;\n",
              "      border-bottom-color: var(--fill-color);\n",
              "    }\n",
              "  }\n",
              "</style>\n",
              "\n",
              "  <script>\n",
              "    async function quickchart(key) {\n",
              "      const quickchartButtonEl =\n",
              "        document.querySelector('#' + key + ' button');\n",
              "      quickchartButtonEl.disabled = true;  // To prevent multiple clicks.\n",
              "      quickchartButtonEl.classList.add('colab-df-spinner');\n",
              "      try {\n",
              "        const charts = await google.colab.kernel.invokeFunction(\n",
              "            'suggestCharts', [key], {});\n",
              "      } catch (error) {\n",
              "        console.error('Error during call to suggestCharts:', error);\n",
              "      }\n",
              "      quickchartButtonEl.classList.remove('colab-df-spinner');\n",
              "      quickchartButtonEl.classList.add('colab-df-quickchart-complete');\n",
              "    }\n",
              "    (() => {\n",
              "      let quickchartButtonEl =\n",
              "        document.querySelector('#df-9c2f6760-29bf-42ee-8c87-9620eee7b225 button');\n",
              "      quickchartButtonEl.style.display =\n",
              "        google.colab.kernel.accessAllowed ? 'block' : 'none';\n",
              "    })();\n",
              "  </script>\n",
              "</div>\n",
              "\n",
              "    </div>\n",
              "  </div>\n"
            ]
          },
          "metadata": {},
          "execution_count": 78
        }
      ]
    },
    {
      "cell_type": "code",
      "source": [
        "pd.crosstab(data.Pclass,data.Survived,margins=True).style.background_gradient(cmap='summer_r')"
      ],
      "metadata": {
        "colab": {
          "base_uri": "https://localhost:8080/",
          "height": 206
        },
        "id": "jDRDc4Z5vOQQ",
        "outputId": "3ec3aadc-3727-4d4b-a316-b7d9821864ee"
      },
      "execution_count": 45,
      "outputs": [
        {
          "output_type": "execute_result",
          "data": {
            "text/plain": [
              "<pandas.io.formats.style.Styler at 0x7ee447b6b910>"
            ],
            "text/html": [
              "<style type=\"text/css\">\n",
              "#T_2e0ea_row0_col0, #T_2e0ea_row1_col1, #T_2e0ea_row1_col2 {\n",
              "  background-color: #ffff66;\n",
              "  color: #000000;\n",
              "}\n",
              "#T_2e0ea_row0_col1 {\n",
              "  background-color: #cee666;\n",
              "  color: #000000;\n",
              "}\n",
              "#T_2e0ea_row0_col2 {\n",
              "  background-color: #f4fa66;\n",
              "  color: #000000;\n",
              "}\n",
              "#T_2e0ea_row1_col0 {\n",
              "  background-color: #f6fa66;\n",
              "  color: #000000;\n",
              "}\n",
              "#T_2e0ea_row2_col0 {\n",
              "  background-color: #60b066;\n",
              "  color: #f1f1f1;\n",
              "}\n",
              "#T_2e0ea_row2_col1 {\n",
              "  background-color: #dfef66;\n",
              "  color: #000000;\n",
              "}\n",
              "#T_2e0ea_row2_col2 {\n",
              "  background-color: #90c866;\n",
              "  color: #000000;\n",
              "}\n",
              "#T_2e0ea_row3_col0, #T_2e0ea_row3_col1, #T_2e0ea_row3_col2 {\n",
              "  background-color: #008066;\n",
              "  color: #f1f1f1;\n",
              "}\n",
              "</style>\n",
              "<table id=\"T_2e0ea\" class=\"dataframe\">\n",
              "  <thead>\n",
              "    <tr>\n",
              "      <th class=\"index_name level0\" >Survived</th>\n",
              "      <th id=\"T_2e0ea_level0_col0\" class=\"col_heading level0 col0\" >0</th>\n",
              "      <th id=\"T_2e0ea_level0_col1\" class=\"col_heading level0 col1\" >1</th>\n",
              "      <th id=\"T_2e0ea_level0_col2\" class=\"col_heading level0 col2\" >All</th>\n",
              "    </tr>\n",
              "    <tr>\n",
              "      <th class=\"index_name level0\" >Pclass</th>\n",
              "      <th class=\"blank col0\" >&nbsp;</th>\n",
              "      <th class=\"blank col1\" >&nbsp;</th>\n",
              "      <th class=\"blank col2\" >&nbsp;</th>\n",
              "    </tr>\n",
              "  </thead>\n",
              "  <tbody>\n",
              "    <tr>\n",
              "      <th id=\"T_2e0ea_level0_row0\" class=\"row_heading level0 row0\" >1</th>\n",
              "      <td id=\"T_2e0ea_row0_col0\" class=\"data row0 col0\" >80</td>\n",
              "      <td id=\"T_2e0ea_row0_col1\" class=\"data row0 col1\" >136</td>\n",
              "      <td id=\"T_2e0ea_row0_col2\" class=\"data row0 col2\" >216</td>\n",
              "    </tr>\n",
              "    <tr>\n",
              "      <th id=\"T_2e0ea_level0_row1\" class=\"row_heading level0 row1\" >2</th>\n",
              "      <td id=\"T_2e0ea_row1_col0\" class=\"data row1 col0\" >97</td>\n",
              "      <td id=\"T_2e0ea_row1_col1\" class=\"data row1 col1\" >87</td>\n",
              "      <td id=\"T_2e0ea_row1_col2\" class=\"data row1 col2\" >184</td>\n",
              "    </tr>\n",
              "    <tr>\n",
              "      <th id=\"T_2e0ea_level0_row2\" class=\"row_heading level0 row2\" >3</th>\n",
              "      <td id=\"T_2e0ea_row2_col0\" class=\"data row2 col0\" >372</td>\n",
              "      <td id=\"T_2e0ea_row2_col1\" class=\"data row2 col1\" >119</td>\n",
              "      <td id=\"T_2e0ea_row2_col2\" class=\"data row2 col2\" >491</td>\n",
              "    </tr>\n",
              "    <tr>\n",
              "      <th id=\"T_2e0ea_level0_row3\" class=\"row_heading level0 row3\" >All</th>\n",
              "      <td id=\"T_2e0ea_row3_col0\" class=\"data row3 col0\" >549</td>\n",
              "      <td id=\"T_2e0ea_row3_col1\" class=\"data row3 col1\" >342</td>\n",
              "      <td id=\"T_2e0ea_row3_col2\" class=\"data row3 col2\" >891</td>\n",
              "    </tr>\n",
              "  </tbody>\n",
              "</table>\n"
            ]
          },
          "metadata": {},
          "execution_count": 45
        }
      ]
    },
    {
      "cell_type": "markdown",
      "source": [
        "### 변수 3개(Ordinal,categorical, categorical): sns.pointplot"
      ],
      "metadata": {
        "id": "SJiUyuHNJlV-"
      }
    },
    {
      "cell_type": "code",
      "source": [
        "sns.pointplot(x='Pclass',y='Survived',hue='Sex',data=data)"
      ],
      "metadata": {
        "id": "fT7TpozvvONR",
        "colab": {
          "base_uri": "https://localhost:8080/",
          "height": 521
        },
        "outputId": "1b21b77d-22bf-4ea6-a9e3-ad79bc7032de"
      },
      "execution_count": 46,
      "outputs": [
        {
          "output_type": "execute_result",
          "data": {
            "text/plain": [
              "<Axes: xlabel='Pclass', ylabel='Survived'>"
            ]
          },
          "metadata": {},
          "execution_count": 46
        },
        {
          "output_type": "display_data",
          "data": {
            "text/plain": [
              "<Figure size 800x550 with 1 Axes>"
            ],
            "image/png": "[encoded data removed]"
          },
          "metadata": {}
        }
      ]
    },
    {
      "cell_type": "markdown",
      "source": [
        "## 5) Continous Feature"
      ],
      "metadata": {
        "id": "XzxW-G9jLdVo"
      }
    },
    {
      "cell_type": "markdown",
      "source": [
        "사용하는 알고리즘에 따라 Group으로 나누어 Ordinal Feature로 변경할수도있음\n",
        "\n",
        "최대와 최소를 확인해 outlier 유무체크\n",
        "\n",
        "mean을 확인해 데이터분포 체크"
      ],
      "metadata": {
        "id": "qXhv12ofLjYB"
      }
    },
    {
      "cell_type": "code",
      "source": [
        "print('Oldest Passenger was of:{} Years'.format(data['Age'].max()))\n",
        "print('Youngest Passenger was of:{} Years'.format(data['Age'].min()))\n",
        "print('Average Passenger was of:{:.2f} Years'.format(data['Age'].mean()))"
      ],
      "metadata": {
        "id": "BbPGa4LNvOKT",
        "colab": {
          "base_uri": "https://localhost:8080/"
        },
        "outputId": "125a460c-793f-4645-f47c-f0ce0834a7f5"
      },
      "execution_count": 47,
      "outputs": [
        {
          "output_type": "stream",
          "name": "stdout",
          "text": [
            "Oldest Passenger was of:80.0 Years\n",
            "Youngest Passenger was of:0.42 Years\n",
            "Average Passenger was of:29.84 Years\n"
          ]
        }
      ]
    },
    {
      "cell_type": "markdown",
      "source": [
        "### 변수 3개(Continous, categorical, categorical): violinplot"
      ],
      "metadata": {
        "id": "b9H8Rgq1naLw"
      }
    },
    {
      "cell_type": "code",
      "source": [
        "sns.violinplot(x='Pclass',y='Age',hue='Survived',data=data)"
      ],
      "metadata": {
        "id": "Hp9YiE71vOHk",
        "colab": {
          "base_uri": "https://localhost:8080/",
          "height": 521
        },
        "outputId": "9a72ff90-41be-4a1c-cf63-939f8501603a"
      },
      "execution_count": 48,
      "outputs": [
        {
          "output_type": "execute_result",
          "data": {
            "text/plain": [
              "<Axes: xlabel='Pclass', ylabel='Age'>"
            ]
          },
          "metadata": {},
          "execution_count": 48
        },
        {
          "output_type": "display_data",
          "data": {
            "text/plain": [
              "<Figure size 800x550 with 1 Axes>"
            ],
            "image/png": "[encoded data removed]"
          },
          "metadata": {}
        }
      ]
    },
    {
      "cell_type": "markdown",
      "source": [
        "# 2.Feature Engineering, Data cleaning"
      ],
      "metadata": {
        "id": "tWSvikXloI7l"
      }
    },
    {
      "cell_type": "markdown",
      "source": [
        "##0) 표준화, 정규화"
      ],
      "metadata": {
        "id": "x74ucM3kvSkb"
      }
    },
    {
      "cell_type": "markdown",
      "source": [
        "\n",
        "''' 데이터 잘 정리된 것 처럼 보여도 서로 다른 단위가 섞여 있거나 같은 대상을 다른 형식하는 경우가 의외로 많음\n",
        "\n",
        "동일한 대상을 표현하는 방법에 차이가 있으면, 모델정확도는 현저히 낮아짐.\n",
        "\n",
        "데이터 포맷을 일관성 있게 표주현하는 표준화 하는 작업이 필요하다.\n",
        "\n",
        "때문에, 데이터에 대한 설명(출처)가 반드시 필요하다. '''\n",
        "\n",
        "\n",
        "**ex)데이터가 미국데이터인 경우, 한국에서 쓰는 단위와 맞지않으므로 표준화 해줘야 한다.**\n"
      ],
      "metadata": {
        "id": "curgeWvxvWHh"
      }
    },
    {
      "cell_type": "markdown",
      "source": [
        "###정규화 1: 최대값으로 나누기"
      ],
      "metadata": {
        "id": "wc8rs142v_yH"
      }
    },
    {
      "cell_type": "code",
      "source": [
        "# data2 = data.copy()\n",
        "# data2.Age = data2.Age /data2.Age.max()\n",
        "# data2.head()"
      ],
      "metadata": {
        "id": "x3kTA-T6wDZW"
      },
      "execution_count": 60,
      "outputs": []
    },
    {
      "cell_type": "markdown",
      "source": [
        "###정규화 2: MinMaxScaler"
      ],
      "metadata": {
        "id": "1Uj4Tz68wkNa"
      }
    },
    {
      "cell_type": "code",
      "source": [
        "# data2 = data.copy()\n",
        "# 분자\n",
        "# numerator = data2.Age - data2.Age.min()\n",
        "# 분모\n",
        "# denominator = data2.Age.max() - data2.Age.min()\n",
        "\n",
        "# data2.Age = numerator / denominator\n",
        "# data2.head()"
      ],
      "metadata": {
        "id": "MPMgxj91wqBh"
      },
      "execution_count": 61,
      "outputs": []
    },
    {
      "cell_type": "markdown",
      "source": [
        "성능향상이 보장된것은 아님!"
      ],
      "metadata": {
        "id": "lrFAABqjpiM4"
      }
    },
    {
      "cell_type": "markdown",
      "source": [
        "## 1) Continous feature -> categorical feature"
      ],
      "metadata": {
        "id": "692Ny0nrpKq4"
      }
    },
    {
      "cell_type": "code",
      "source": [
        "count, bin_dividers = np.histogram(data.Age, bins=5)\n",
        "bin_names = [0,1,2,3,4]\n",
        "data['Age_band'] =pd.cut(x=data.Age,           #데이터배열\n",
        "                      bins=bin_dividers,           #경계값 리스트\n",
        "                      labels=bin_names,            #구간의 이름\n",
        "                      include_lowest=True)         #첫 경계값 포함\n"
      ],
      "metadata": {
        "id": "9jcbIsJixzbS"
      },
      "execution_count": 71,
      "outputs": []
    },
    {
      "cell_type": "code",
      "source": [
        "data[['Age','Age_band']].head()"
      ],
      "metadata": {
        "colab": {
          "base_uri": "https://localhost:8080/",
          "height": 206
        },
        "id": "Wljm-EbyynLm",
        "outputId": "8f5fa8b9-5ad8-4226-c18f-23610bf37105"
      },
      "execution_count": 75,
      "outputs": [
        {
          "output_type": "execute_result",
          "data": {
            "text/plain": [
              "    Age Age_band\n",
              "0  22.0        1\n",
              "1  38.0        2\n",
              "2  26.0        1\n",
              "3  35.0        2\n",
              "4  35.0        2"
            ],
            "text/html": [
              "\n",
              "  <div id=\"df-a5e4f06c-da18-4aad-933b-72d5c9cf5429\" class=\"colab-df-container\">\n",
              "    <div>\n",
              "<style scoped>\n",
              "    .dataframe tbody tr th:only-of-type {\n",
              "        vertical-align: middle;\n",
              "    }\n",
              "\n",
              "    .dataframe tbody tr th {\n",
              "        vertical-align: top;\n",
              "    }\n",
              "\n",
              "    .dataframe thead th {\n",
              "        text-align: right;\n",
              "    }\n",
              "</style>\n",
              "<table border=\"1\" class=\"dataframe\">\n",
              "  <thead>\n",
              "    <tr style=\"text-align: right;\">\n",
              "      <th></th>\n",
              "      <th>Age</th>\n",
              "      <th>Age_band</th>\n",
              "    </tr>\n",
              "  </thead>\n",
              "  <tbody>\n",
              "    <tr>\n",
              "      <th>0</th>\n",
              "      <td>22.0</td>\n",
              "      <td>1</td>\n",
              "    </tr>\n",
              "    <tr>\n",
              "      <th>1</th>\n",
              "      <td>38.0</td>\n",
              "      <td>2</td>\n",
              "    </tr>\n",
              "    <tr>\n",
              "      <th>2</th>\n",
              "      <td>26.0</td>\n",
              "      <td>1</td>\n",
              "    </tr>\n",
              "    <tr>\n",
              "      <th>3</th>\n",
              "      <td>35.0</td>\n",
              "      <td>2</td>\n",
              "    </tr>\n",
              "    <tr>\n",
              "      <th>4</th>\n",
              "      <td>35.0</td>\n",
              "      <td>2</td>\n",
              "    </tr>\n",
              "  </tbody>\n",
              "</table>\n",
              "</div>\n",
              "    <div class=\"colab-df-buttons\">\n",
              "\n",
              "  <div class=\"colab-df-container\">\n",
              "    <button class=\"colab-df-convert\" onclick=\"convertToInteractive('df-a5e4f06c-da18-4aad-933b-72d5c9cf5429')\"\n",
              "            title=\"Convert this dataframe to an interactive table.\"\n",
              "            style=\"display:none;\">\n",
              "\n",
              "  <svg xmlns=\"http://www.w3.org/2000/svg\" height=\"24px\" viewBox=\"0 -960 960 960\">\n",
              "    <path d=\"M120-120v-720h720v720H120Zm60-500h600v-160H180v160Zm220 220h160v-160H400v160Zm0 220h160v-160H400v160ZM180-400h160v-160H180v160Zm440 0h160v-160H620v160ZM180-180h160v-160H180v160Zm440 0h160v-160H620v160Z\"/>\n",
              "  </svg>\n",
              "    </button>\n",
              "\n",
              "  <style>\n",
              "    .colab-df-container {\n",
              "      display:flex;\n",
              "      gap: 12px;\n",
              "    }\n",
              "\n",
              "    .colab-df-convert {\n",
              "      background-color: #E8F0FE;\n",
              "      border: none;\n",
              "      border-radius: 50%;\n",
              "      cursor: pointer;\n",
              "      display: none;\n",
              "      fill: #1967D2;\n",
              "      height: 32px;\n",
              "      padding: 0 0 0 0;\n",
              "      width: 32px;\n",
              "    }\n",
              "\n",
              "    .colab-df-convert:hover {\n",
              "      background-color: #E2EBFA;\n",
              "      box-shadow: 0px 1px 2px rgba(60, 64, 67, 0.3), 0px 1px 3px 1px rgba(60, 64, 67, 0.15);\n",
              "      fill: #174EA6;\n",
              "    }\n",
              "\n",
              "    .colab-df-buttons div {\n",
              "      margin-bottom: 4px;\n",
              "    }\n",
              "\n",
              "    [theme=dark] .colab-df-convert {\n",
              "      background-color: #3B4455;\n",
              "      fill: #D2E3FC;\n",
              "    }\n",
              "\n",
              "    [theme=dark] .colab-df-convert:hover {\n",
              "      background-color: #434B5C;\n",
              "      box-shadow: 0px 1px 3px 1px rgba(0, 0, 0, 0.15);\n",
              "      filter: drop-shadow(0px 1px 2px rgba(0, 0, 0, 0.3));\n",
              "      fill: #FFFFFF;\n",
              "    }\n",
              "  </style>\n",
              "\n",
              "    <script>\n",
              "      const buttonEl =\n",
              "        document.querySelector('#df-a5e4f06c-da18-4aad-933b-72d5c9cf5429 button.colab-df-convert');\n",
              "      buttonEl.style.display =\n",
              "        google.colab.kernel.accessAllowed ? 'block' : 'none';\n",
              "\n",
              "      async function convertToInteractive(key) {\n",
              "        const element = document.querySelector('#df-a5e4f06c-da18-4aad-933b-72d5c9cf5429');\n",
              "        const dataTable =\n",
              "          await google.colab.kernel.invokeFunction('convertToInteractive',\n",
              "                                                    [key], {});\n",
              "        if (!dataTable) return;\n",
              "\n",
              "        const docLinkHtml = 'Like what you see? Visit the ' +\n",
              "          '<a target=\"_blank\" href=https://colab.research.google.com/notebooks/data_table.ipynb>data table notebook</a>'\n",
              "          + ' to learn more about interactive tables.';\n",
              "        element.innerHTML = '';\n",
              "        dataTable['output_type'] = 'display_data';\n",
              "        await google.colab.output.renderOutput(dataTable, element);\n",
              "        const docLink = document.createElement('div');\n",
              "        docLink.innerHTML = docLinkHtml;\n",
              "        element.appendChild(docLink);\n",
              "      }\n",
              "    </script>\n",
              "  </div>\n",
              "\n",
              "\n",
              "<div id=\"df-913d7526-90e0-4fdd-9485-8e6a8d5567af\">\n",
              "  <button class=\"colab-df-quickchart\" onclick=\"quickchart('df-913d7526-90e0-4fdd-9485-8e6a8d5567af')\"\n",
              "            title=\"Suggest charts\"\n",
              "            style=\"display:none;\">\n",
              "\n",
              "<svg xmlns=\"http://www.w3.org/2000/svg\" height=\"24px\"viewBox=\"0 0 24 24\"\n",
              "     width=\"24px\">\n",
              "    <g>\n",
              "        <path d=\"M19 3H5c-1.1 0-2 .9-2 2v14c0 1.1.9 2 2 2h14c1.1 0 2-.9 2-2V5c0-1.1-.9-2-2-2zM9 17H7v-7h2v7zm4 0h-2V7h2v10zm4 0h-2v-4h2v4z\"/>\n",
              "    </g>\n",
              "</svg>\n",
              "  </button>\n",
              "\n",
              "<style>\n",
              "  .colab-df-quickchart {\n",
              "      --bg-color: #E8F0FE;\n",
              "      --fill-color: #1967D2;\n",
              "      --hover-bg-color: #E2EBFA;\n",
              "      --hover-fill-color: #174EA6;\n",
              "      --disabled-fill-color: #AAA;\n",
              "      --disabled-bg-color: #DDD;\n",
              "  }\n",
              "\n",
              "  [theme=dark] .colab-df-quickchart {\n",
              "      --bg-color: #3B4455;\n",
              "      --fill-color: #D2E3FC;\n",
              "      --hover-bg-color: #434B5C;\n",
              "      --hover-fill-color: #FFFFFF;\n",
              "      --disabled-bg-color: #3B4455;\n",
              "      --disabled-fill-color: #666;\n",
              "  }\n",
              "\n",
              "  .colab-df-quickchart {\n",
              "    background-color: var(--bg-color);\n",
              "    border: none;\n",
              "    border-radius: 50%;\n",
              "    cursor: pointer;\n",
              "    display: none;\n",
              "    fill: var(--fill-color);\n",
              "    height: 32px;\n",
              "    padding: 0;\n",
              "    width: 32px;\n",
              "  }\n",
              "\n",
              "  .colab-df-quickchart:hover {\n",
              "    background-color: var(--hover-bg-color);\n",
              "    box-shadow: 0 1px 2px rgba(60, 64, 67, 0.3), 0 1px 3px 1px rgba(60, 64, 67, 0.15);\n",
              "    fill: var(--button-hover-fill-color);\n",
              "  }\n",
              "\n",
              "  .colab-df-quickchart-complete:disabled,\n",
              "  .colab-df-quickchart-complete:disabled:hover {\n",
              "    background-color: var(--disabled-bg-color);\n",
              "    fill: var(--disabled-fill-color);\n",
              "    box-shadow: none;\n",
              "  }\n",
              "\n",
              "  .colab-df-spinner {\n",
              "    border: 2px solid var(--fill-color);\n",
              "    border-color: transparent;\n",
              "    border-bottom-color: var(--fill-color);\n",
              "    animation:\n",
              "      spin 1s steps(1) infinite;\n",
              "  }\n",
              "\n",
              "  @keyframes spin {\n",
              "    0% {\n",
              "      border-color: transparent;\n",
              "      border-bottom-color: var(--fill-color);\n",
              "      border-left-color: var(--fill-color);\n",
              "    }\n",
              "    20% {\n",
              "      border-color: transparent;\n",
              "      border-left-color: var(--fill-color);\n",
              "      border-top-color: var(--fill-color);\n",
              "    }\n",
              "    30% {\n",
              "      border-color: transparent;\n",
              "      border-left-color: var(--fill-color);\n",
              "      border-top-color: var(--fill-color);\n",
              "      border-right-color: var(--fill-color);\n",
              "    }\n",
              "    40% {\n",
              "      border-color: transparent;\n",
              "      border-right-color: var(--fill-color);\n",
              "      border-top-color: var(--fill-color);\n",
              "    }\n",
              "    60% {\n",
              "      border-color: transparent;\n",
              "      border-right-color: var(--fill-color);\n",
              "    }\n",
              "    80% {\n",
              "      border-color: transparent;\n",
              "      border-right-color: var(--fill-color);\n",
              "      border-bottom-color: var(--fill-color);\n",
              "    }\n",
              "    90% {\n",
              "      border-color: transparent;\n",
              "      border-bottom-color: var(--fill-color);\n",
              "    }\n",
              "  }\n",
              "</style>\n",
              "\n",
              "  <script>\n",
              "    async function quickchart(key) {\n",
              "      const quickchartButtonEl =\n",
              "        document.querySelector('#' + key + ' button');\n",
              "      quickchartButtonEl.disabled = true;  // To prevent multiple clicks.\n",
              "      quickchartButtonEl.classList.add('colab-df-spinner');\n",
              "      try {\n",
              "        const charts = await google.colab.kernel.invokeFunction(\n",
              "            'suggestCharts', [key], {});\n",
              "      } catch (error) {\n",
              "        console.error('Error during call to suggestCharts:', error);\n",
              "      }\n",
              "      quickchartButtonEl.classList.remove('colab-df-spinner');\n",
              "      quickchartButtonEl.classList.add('colab-df-quickchart-complete');\n",
              "    }\n",
              "    (() => {\n",
              "      let quickchartButtonEl =\n",
              "        document.querySelector('#df-913d7526-90e0-4fdd-9485-8e6a8d5567af button');\n",
              "      quickchartButtonEl.style.display =\n",
              "        google.colab.kernel.accessAllowed ? 'block' : 'none';\n",
              "    })();\n",
              "  </script>\n",
              "</div>\n",
              "\n",
              "    </div>\n",
              "  </div>\n"
            ]
          },
          "metadata": {},
          "execution_count": 75
        }
      ]
    },
    {
      "cell_type": "markdown",
      "source": [
        "## 2) 2 feature -> 1feature"
      ],
      "metadata": {
        "id": "tPvvfbREotBp"
      }
    },
    {
      "cell_type": "code",
      "source": [
        "data['Family_Size']=0\n",
        "data['Family_Size']=data['Parch']+data['SibSp']\n",
        "data['Alone']=0\n",
        "data.loc[data['Family_Size']==0,'Alone']=1"
      ],
      "metadata": {
        "id": "GB3e6KSqvN_A"
      },
      "execution_count": 50,
      "outputs": []
    },
    {
      "cell_type": "markdown",
      "source": [
        "## 3) Continous feature -> ordinal feature"
      ],
      "metadata": {
        "id": "vj7xuTnopVbJ"
      }
    },
    {
      "cell_type": "markdown",
      "source": [
        "qcut은 입력한 구간의 수에 따라 데이터 수를 균일하게 분할\n",
        "\n",
        "ex) 'Fare'는 불균형하게 분포되어있는데, 이를 4개의 구간으로 나눔"
      ],
      "metadata": {
        "id": "76mLOuulpoGR"
      }
    },
    {
      "cell_type": "code",
      "source": [
        "data['Fare_Range'] = pd.qcut(data['Fare'],4)\n",
        "data.groupby(['Fare_Range'])['Survived'].mean().to_frame().style.background_gradient('summer_r')"
      ],
      "metadata": {
        "id": "Iloywnc1vNHR",
        "colab": {
          "base_uri": "https://localhost:8080/",
          "height": 206
        },
        "outputId": "5954ada8-9460-4532-a792-51f2c7f0968f"
      },
      "execution_count": 51,
      "outputs": [
        {
          "output_type": "execute_result",
          "data": {
            "text/plain": [
              "<pandas.io.formats.style.Styler at 0x7ee444e17d00>"
            ],
            "text/html": [
              "<style type=\"text/css\">\n",
              "#T_72cf4_row0_col0 {\n",
              "  background-color: #ffff66;\n",
              "  color: #000000;\n",
              "}\n",
              "#T_72cf4_row1_col0 {\n",
              "  background-color: #b9dc66;\n",
              "  color: #000000;\n",
              "}\n",
              "#T_72cf4_row2_col0 {\n",
              "  background-color: #54aa66;\n",
              "  color: #f1f1f1;\n",
              "}\n",
              "#T_72cf4_row3_col0 {\n",
              "  background-color: #008066;\n",
              "  color: #f1f1f1;\n",
              "}\n",
              "</style>\n",
              "<table id=\"T_72cf4\" class=\"dataframe\">\n",
              "  <thead>\n",
              "    <tr>\n",
              "      <th class=\"blank level0\" >&nbsp;</th>\n",
              "      <th id=\"T_72cf4_level0_col0\" class=\"col_heading level0 col0\" >Survived</th>\n",
              "    </tr>\n",
              "    <tr>\n",
              "      <th class=\"index_name level0\" >Fare_Range</th>\n",
              "      <th class=\"blank col0\" >&nbsp;</th>\n",
              "    </tr>\n",
              "  </thead>\n",
              "  <tbody>\n",
              "    <tr>\n",
              "      <th id=\"T_72cf4_level0_row0\" class=\"row_heading level0 row0\" >(-0.001, 7.91]</th>\n",
              "      <td id=\"T_72cf4_row0_col0\" class=\"data row0 col0\" >0.197309</td>\n",
              "    </tr>\n",
              "    <tr>\n",
              "      <th id=\"T_72cf4_level0_row1\" class=\"row_heading level0 row1\" >(7.91, 14.454]</th>\n",
              "      <td id=\"T_72cf4_row1_col0\" class=\"data row1 col0\" >0.303571</td>\n",
              "    </tr>\n",
              "    <tr>\n",
              "      <th id=\"T_72cf4_level0_row2\" class=\"row_heading level0 row2\" >(14.454, 31.0]</th>\n",
              "      <td id=\"T_72cf4_row2_col0\" class=\"data row2 col0\" >0.454955</td>\n",
              "    </tr>\n",
              "    <tr>\n",
              "      <th id=\"T_72cf4_level0_row3\" class=\"row_heading level0 row3\" >(31.0, 512.329]</th>\n",
              "      <td id=\"T_72cf4_row3_col0\" class=\"data row3 col0\" >0.581081</td>\n",
              "    </tr>\n",
              "  </tbody>\n",
              "</table>\n"
            ]
          },
          "metadata": {},
          "execution_count": 51
        }
      ]
    },
    {
      "cell_type": "code",
      "source": [
        "data['Fare_cat']=0\n",
        "data.loc[data['Fare'] <= 7.91, 'Fare_cat'] = 0\n",
        "data.loc[(data['Fare'] > 7.91) & (data['Fare']<=14.454), 'Fare_cat'] = 1\n",
        "data.loc[(data['Fare'] > 14.454) & (data['Fare']<=31), 'Fare_cat'] = 2\n",
        "data.loc[(data['Fare'] > 31) & (data['Fare']<=513), 'Fare_cat'] = 3"
      ],
      "metadata": {
        "id": "nIKO28JwvNEG"
      },
      "execution_count": 52,
      "outputs": []
    },
    {
      "cell_type": "markdown",
      "source": [
        "## 4) String -> Numeric"
      ],
      "metadata": {
        "id": "P4vJP1WFqDMu"
      }
    },
    {
      "cell_type": "code",
      "source": [
        "data['Sex'].replace(['male','female'],[0,1],inplace=True)\n",
        "data['Initial'].replace(['Mr','Mrs','Miss','Master','Other'],[0,1,2,3,4],inplace=True)\n",
        "\n",
        "data['Embarked'].replace(['S','C','Q'],[0,1,2],inplace=True)"
      ],
      "metadata": {
        "id": "IdfDQHunvNA_"
      },
      "execution_count": 53,
      "outputs": []
    },
    {
      "cell_type": "markdown",
      "source": [
        "## 5) Feature clean"
      ],
      "metadata": {
        "id": "zjfbnBQorIc5"
      }
    },
    {
      "cell_type": "code",
      "source": [
        "data.drop(['Name','Age','Ticket','Fare','Cabin','Fare_Range','PassengerId'],axis=1,inplace=True)\n",
        "sns.heatmap(data.corr(),annot=True,cmap='RdYlGn',linewidths=0.2,annot_kws={'size':20})\n",
        "fig=plt.gcf()\n",
        "fig.set_size_inches(18,15)\n",
        "plt.xticks(fontsize=14)\n",
        "plt.yticks(fontsize=14)\n",
        "plt.show()"
      ],
      "metadata": {
        "id": "vDlzi59_vM91",
        "colab": {
          "base_uri": "https://localhost:8080/",
          "height": 1000
        },
        "outputId": "24629500-7817-4f8d-e226-9d7994c34594"
      },
      "execution_count": 54,
      "outputs": [
        {
          "output_type": "display_data",
          "data": {
            "text/plain": [
              "<Figure size 1800x1500 with 2 Axes>"
            ],
            "image/png": "[encoded data removed]"
          },
          "metadata": {}
        }
      ]
    },
    {
      "cell_type": "markdown",
      "source": [
        "HeatMap 해석:\n",
        "두 feature가 상당히 높은 상관관계를 가지고 있다면, 둘다 사용할 필요가 없음. 이런 feature는 제거해야함.\n",
        "\n",
        "불필요한 특징들을 제거하고보니, 상관관계가 있는 feature들이 보이기 시작(0.5까지는 봐줄만 함)"
      ],
      "metadata": {
        "id": "sjydIGm8rQ1b"
      }
    },
    {
      "cell_type": "markdown",
      "source": [
        "# 3.Predicgtive Modeling"
      ],
      "metadata": {
        "id": "1l8vGmJzrTcj"
      }
    },
    {
      "cell_type": "code",
      "source": [
        "from sklearn.linear_model import LogisticRegression #logistic regression\n",
        "from sklearn import svm #support vector Machine\n",
        "from sklearn.ensemble import RandomForestClassifier #Random Forest\n",
        "from sklearn.neighbors import KNeighborsClassifier #KNN\n",
        "from sklearn.naive_bayes import GaussianNB #Naive bayes\n",
        "from sklearn.tree import DecisionTreeClassifier #Decision Tree\n",
        "from sklearn.model_selection import train_test_split #training and testing data split\n",
        "from sklearn import metrics #accuracy measure\n",
        "from sklearn.metrics import confusion_matrix #for confusion matrix"
      ],
      "metadata": {
        "id": "I0jdGxS4vM6Y",
        "colab": {
          "base_uri": "https://localhost:8080/",
          "height": 147
        },
        "outputId": "16937ff1-5c50-46d8-ecc4-35d3c34307d6"
      },
      "execution_count": 55,
      "outputs": [
        {
          "output_type": "error",
          "ename": "SyntaxError",
          "evalue": "invalid syntax (<ipython-input-55-d1f59bd5cfdf>, line 1)",
          "traceback": [
            "\u001b[0;36m  File \u001b[0;32m\"<ipython-input-55-d1f59bd5cfdf>\"\u001b[0;36m, line \u001b[0;32m1\u001b[0m\n\u001b[0;31m    from1 sklearn.linear_model import LogisticRegression #logistic regression\u001b[0m\n\u001b[0m          ^\u001b[0m\n\u001b[0;31mSyntaxError\u001b[0m\u001b[0;31m:\u001b[0m invalid syntax\n"
          ]
        }
      ]
    },
    {
      "cell_type": "markdown",
      "source": [
        "stratify : split시 train과 test의 data['Survived']비율을 비슷하게 함."
      ],
      "metadata": {
        "id": "MNxa2DKf0PzO"
      }
    },
    {
      "cell_type": "code",
      "source": [
        "train,test=train_test_split(data,test_size=0.3,random_state=0,stratify=data['Survived'])\n",
        "train_X=train[train.columns[1:]]\n",
        "train_Y=train[train.columns[:1]]\n",
        "test_X=test[test.columns[1:]]\n",
        "test_Y=test[test.columns[:1]]\n",
        "X=data[data.columns[1:]]\n",
        "Y=data['Survived']"
      ],
      "metadata": {
        "id": "JrUxeBaWvMvj"
      },
      "execution_count": null,
      "outputs": []
    },
    {
      "cell_type": "markdown",
      "source": [
        "## 1) Radial Support Vedctor Machines"
      ],
      "metadata": {
        "id": "2QEmW-_k0jXL"
      }
    },
    {
      "cell_type": "code",
      "source": [
        "model = svm.SVC(kernel='rbf',C=1,gamma=0.1)\n",
        "model.fit(train_X,train_Y)\n",
        "prediction1=model.predict(test_X)\n",
        "print('Accuracy for rbf SVM is',metrics.accuracy_score(prediction1,test_Y))"
      ],
      "metadata": {
        "id": "XJZGYT5g0nxt"
      },
      "execution_count": null,
      "outputs": []
    },
    {
      "cell_type": "markdown",
      "source": [
        "## 2) Logistic Regression"
      ],
      "metadata": {
        "id": "WWmi4imS2TCr"
      }
    },
    {
      "cell_type": "code",
      "source": [
        "model = LogisticRegression()\n",
        "model.fit(train_X,train_Y)\n",
        "prediction3=model.predict(test_X)\n",
        "print('The accuracy of the Logistic Regression is',metrics.accuracy_score(prediction3,test_Y))"
      ],
      "metadata": {
        "id": "S_HeqPTZ4DG3"
      },
      "execution_count": null,
      "outputs": []
    },
    {
      "cell_type": "markdown",
      "source": [
        "## 3) Decision Tree"
      ],
      "metadata": {
        "id": "q_DgKyDO0p8K"
      }
    },
    {
      "cell_type": "code",
      "source": [
        "model=DecisionTreeClassifier()\n",
        "model.fit(train_X,train_Y)\n",
        "prediction4=model.predict(test_X)\n",
        "print('The accuracy of the Decision Tree is',metrics.accuracy_score(prediction4,test_Y))"
      ],
      "metadata": {
        "id": "qBdgtfbH4KjK"
      },
      "execution_count": null,
      "outputs": []
    },
    {
      "cell_type": "markdown",
      "source": [
        "## 4) K-Nearest Neighbours"
      ],
      "metadata": {
        "id": "rsGrLrxO2Zdg"
      }
    },
    {
      "cell_type": "code",
      "source": [
        "model=KNeighborsClassifier()\n",
        "model.fit(train_X,train_Y)\n",
        "prediction5=model.predict(test_X)\n",
        "print('The accuracy of the KNN is',metrics.accuracy_score(prediction5,test_Y))"
      ],
      "metadata": {
        "id": "KJlt58gw4M4O"
      },
      "execution_count": null,
      "outputs": []
    },
    {
      "cell_type": "markdown",
      "source": [
        "### 파라미터 설정"
      ],
      "metadata": {
        "id": "fSk-kGuM2ZUz"
      }
    },
    {
      "cell_type": "code",
      "source": [
        "a_index=list(range(1,11))\n",
        "a=[0,0,0,0,0,0,0,0,0,0]\n",
        "x=[0,1,2,3,4,5,6,7,8,9,10]\n",
        "for i in list(range(1,11)):\n",
        "    model=KNeighborsClassifier(n_neighbors=i)\n",
        "    model.fit(train_X,train_Y)\n",
        "    prediction=model.predict(test_X)\n",
        "    a[i-1]=metrics.accuracy_score(prediction,test_Y)\n",
        "plt.plot(a_index, a)\n",
        "plt.xticks(x)\n",
        "fig=plt.gcf()\n",
        "fig.set_size_inches(12,6)\n",
        "plt.show()\n",
        "print('Accuracies for different values of n are:',a,'with the max value as '\n",
        "      ,max(a))"
      ],
      "metadata": {
        "id": "yC1krQ9v4NzS"
      },
      "execution_count": null,
      "outputs": []
    },
    {
      "cell_type": "markdown",
      "source": [
        "## 5) Gaussian Naive bayes"
      ],
      "metadata": {
        "id": "XX6qeNX52ZDv"
      }
    },
    {
      "cell_type": "code",
      "source": [
        "model=GaussianNB()\n",
        "model.fit(train_X,train_Y)\n",
        "prediction6=model.predict(test_X)\n",
        "print('The accuracy of the NaiveBayes is',metrics.accuracy_score(prediction6,test_Y))"
      ],
      "metadata": {
        "id": "mIw-M9LD4Qdb"
      },
      "execution_count": null,
      "outputs": []
    },
    {
      "cell_type": "markdown",
      "source": [
        "## 6) Random Forests"
      ],
      "metadata": {
        "id": "AbxJT5uP2xf3"
      }
    },
    {
      "cell_type": "code",
      "source": [
        "model=RandomForestClassifier(n_estimators=100)\n",
        "model.fit(train_X,train_Y)\n",
        "prediction7=model.predict(test_X)\n",
        "print('The accuracy of the Random Forests is',metrics.accuracy_score(prediction7,test_Y))"
      ],
      "metadata": {
        "id": "Iq0oemjZ4S7w"
      },
      "execution_count": null,
      "outputs": []
    },
    {
      "cell_type": "markdown",
      "source": [
        "## 7) 각 모델별 Cross Validation 적용 후 비교"
      ],
      "metadata": {
        "id": "N2bnfrVg2xdI"
      }
    },
    {
      "cell_type": "markdown",
      "source": [
        "데이터의 불균형, 일반화된 모델을 만들기위해 사용"
      ],
      "metadata": {
        "id": "F6pDmFNi2xY9"
      }
    },
    {
      "cell_type": "code",
      "source": [
        "from sklearn.model_selection import KFold #for K-fold cross validation\n",
        "from sklearn.model_selection import cross_val_score #score evaluation\n",
        "from sklearn.model_selection import cross_val_predict #prediction\n",
        "kfold = KFold(n_splits=10) # k=10, split the data into 10 equal parts\n",
        "xyz=[]\n",
        "accuracy=[]\n",
        "std=[]\n",
        "classifiers=['Linear Svm','Radial Svm','Logistic Regression','KNN','Decision Tree',\n",
        "             'Naive Bayes','Random Forest']\n",
        "models=[svm.SVC(kernel='linear'),svm.SVC(kernel='rbf'),LogisticRegression(),\n",
        "        KNeighborsClassifier(n_neighbors=9),DecisionTreeClassifier(),GaussianNB(),\n",
        "        RandomForestClassifier(n_estimators=100)]\n",
        "for i in models:\n",
        "    model = i\n",
        "    cv_result = cross_val_score(model,X,Y, cv = kfold,scoring = \"accuracy\")\n",
        "    cv_result=cv_result\n",
        "    xyz.append(cv_result.mean())\n",
        "    std.append(cv_result.std())\n",
        "    accuracy.append(cv_result)\n",
        "new_models_dataframe2=pd.DataFrame({'CV Mean':xyz,'Std':std},index=classifiers)\n",
        "new_models_dataframe2"
      ],
      "metadata": {
        "id": "vSdLpFlz4WRA"
      },
      "execution_count": null,
      "outputs": []
    },
    {
      "cell_type": "markdown",
      "source": [
        "## 8) 상위 2개 모델 하이퍼파라미터 튜닝"
      ],
      "metadata": {
        "id": "0jDGdjI82xV2"
      }
    },
    {
      "cell_type": "markdown",
      "source": [
        "SVM"
      ],
      "metadata": {
        "id": "iqzEAKom4b7v"
      }
    },
    {
      "cell_type": "code",
      "source": [
        "from sklearn.model_selection import GridSearchCV\n",
        "C=[0.05,0.1,0.2,0.3,0.25,0.4,0.5,0.6,0.7,0.8,0.9,1]\n",
        "gamma=[0.1,0.2,0.3,0.4,0.5,0.6,0.7,0.8,0.9,1.0]\n",
        "kernel=['rbf','linear']\n",
        "hyper={'kernel' : kernel, 'C' : C, 'gamma' : gamma}\n",
        "gd=GridSearchCV(estimator=svm.SVC(), param_grid=hyper, verbose=True)\n",
        "gd.fit(X,Y)\n",
        "print(gd.best_score_)\n",
        "print(gd.best_estimator_)"
      ],
      "metadata": {
        "id": "hZsFUcNu4a1c"
      },
      "execution_count": null,
      "outputs": []
    },
    {
      "cell_type": "markdown",
      "source": [
        "Random Forests"
      ],
      "metadata": {
        "id": "2I04d6T54hNE"
      }
    },
    {
      "cell_type": "code",
      "source": [
        "n_estimators = range(100, 1000, 100)\n",
        "hyper = { 'n_estimators' : n_estimators }\n",
        "gd = GridSearchCV(estimator=RandomForestClassifier(random_state=0), param_grid=hyper, verbose = True)\n",
        "gd.fit(X,Y)\n",
        "print(gd.best_score_)\n",
        "print(gd.best_estimator_)"
      ],
      "metadata": {
        "id": "YxnhOH0z4j2D"
      },
      "execution_count": null,
      "outputs": []
    },
    {
      "cell_type": "markdown",
      "source": [
        "## 9) AdaBoost"
      ],
      "metadata": {
        "id": "qgY-ieng2xOt"
      }
    },
    {
      "cell_type": "code",
      "source": [
        "from sklearn.ensemble import AdaBoostClassifier\n",
        "ada = AdaBoostClassifier(n_estimators=200, random_state = 0, learning_rate = 0.1)\n",
        "result = cross_val_score(ada, X, Y, cv=10, scoring = 'accuracy')\n",
        "print('The cross validated score for AdaBoost is: ', result.mean())"
      ],
      "metadata": {
        "id": "STycUcaz4m1p"
      },
      "execution_count": null,
      "outputs": []
    },
    {
      "cell_type": "markdown",
      "source": [
        "## 10) XGBoost"
      ],
      "metadata": {
        "id": "bp5IY2Tu2w_n"
      }
    },
    {
      "cell_type": "code",
      "source": [
        "import xgboost as xg\n",
        "xgboost = xg.XGBClassifier(n_estimators=900, learning_rate = 0.1)\n",
        "result = cross_val_score(xgboost, X, Y, cv=10, scoring='accuracy')\n",
        "print('The cross validated score for XGBoost is: ', result.mean())"
      ],
      "metadata": {
        "id": "K-1AZ6UZ4oaX"
      },
      "execution_count": null,
      "outputs": []
    },
    {
      "cell_type": "markdown",
      "source": [
        "## 11) Confusion Matrix for best Model"
      ],
      "metadata": {
        "id": "kjCGF_9P3wF9"
      }
    },
    {
      "cell_type": "code",
      "source": [
        "ada = AdaBoostClassifier(n_estimators=100, random_state=0,learning_rate = 0.1)\n",
        "result = cross_val_predict(ada, X, Y, cv=10)\n",
        "sns.heatmap(confusion_matrix(Y, result), cmap='winter', annot=True, fmt = '2.0f')\n",
        "plt.show()"
      ],
      "metadata": {
        "id": "Gc7arrlu4q07"
      },
      "execution_count": null,
      "outputs": []
    },
    {
      "cell_type": "markdown",
      "source": [
        "## 12) Feature Importance"
      ],
      "metadata": {
        "id": "FAcJfc0S35xL"
      }
    },
    {
      "cell_type": "code",
      "source": [
        "f,ax=plt.subplots(2,2,figsize=(15,12))\n",
        "\n",
        "model=RandomForestClassifier(n_estimators=500,random_state=0)\n",
        "model.fit(X,Y)\n",
        "pd.Series(model.feature_importances_,X.columns).sort_values(ascending=True).plot.barh(width=0.8,ax=ax[0,0])\n",
        "ax[0,0].set_title('Feature Importance in Random Forests')\n",
        "\n",
        "model=AdaBoostClassifier(n_estimators=200,learning_rate=0.05,random_state=0)\n",
        "model.fit(X,Y)\n",
        "pd.Series(model.feature_importances_,X.columns).sort_values(ascending=True).plot.barh(width=0.8,ax=ax[0,1],color='#ddff11')\n",
        "ax[0,1].set_title('Feature Importance in AdaBoost')\n",
        "\n",
        "model=GradientBoostingClassifier(n_estimators=500,learning_rate=0.1,random_state=0)\n",
        "model.fit(X,Y)\n",
        "pd.Series(model.feature_importances_,X.columns).sort_values(ascending=True).plot.barh(width=0.8,ax=ax[1,0],cmap='RdYlGn_r')\n",
        "ax[1,0].set_title('Feature Importance in Gradient Boosting')\n",
        "\n",
        "model=xg.XGBClassifier(n_estimators=900, learning_rate=0.1)\n",
        "model.fit(X,Y)\n",
        "pd.Series(model.feature_importances_,X.columns).sort_values(ascending=True).plot.barh(width=0.8,ax=ax[1,1],color='#FD0F00')\n",
        "ax[1,1].set_title('Feature Importance in XgBoost')\n",
        "\n",
        "plt.show()"
      ],
      "metadata": {
        "id": "qOVwxDnK2XuP"
      },
      "execution_count": null,
      "outputs": []
    }
  ]
}