{
  "nbformat": 4,
  "nbformat_minor": 0,
  "metadata": {
    "colab": {
      "provenance": [],
      "toc_visible": true,
      "authorship_tag": "ABX9TyN0eLKgx0ZYiPST0jVkO+UM",
      "include_colab_link": true
    },
    "kernelspec": {
      "name": "python3",
      "display_name": "Python 3"
    },
    "language_info": {
      "name": "python"
    }
  },
  "cells": [
    {
      "cell_type": "markdown",
      "metadata": {
        "id": "view-in-github",
        "colab_type": "text"
      },
      "source": [
        "<a href=\"https://colab.research.google.com/github/vocaltrainer/pipeline_woo/blob/main/woo_pipeline(%EC%A0%95%ED%98%95).ipynb\" target=\"_parent\"><img src=\"https://colab.research.google.com/assets/colab-badge.svg\" alt=\"Open In Colab\"/></a>"
      ]
    },
    {
      "cell_type": "code",
      "source": [
        "import numpy as np\n",
        "import pandas as pd\n",
        "import matplotlib.pyplot as plt\n",
        "import seaborn as sns\n",
        "plt.style.use(\"seaborn-v0_8\")\n",
        "import warnings\n",
        "warnings.filterwarnings('ignore') #버전문제로 출력시 에러가뜨는것을 막음\n",
        "%matplotlib inline"
      ],
      "metadata": {
        "id": "HqnaaNe9famt"
      },
      "execution_count": null,
      "outputs": []
    },
    {
      "cell_type": "code",
      "source": [
        "import seaborn as sns\n",
        "data = sns.load_dataset('titanic')\n",
        "data.head(10)"
      ],
      "metadata": {
        "colab": {
          "base_uri": "https://localhost:8080/",
          "height": 383
        },
        "id": "6WU_-ENgTjO2",
        "outputId": "b1693965-1d5e-4cf0-e525-9327cb60b53d"
      },
      "execution_count": null,
      "outputs": [
        {
          "output_type": "execute_result",
          "data": {
            "text/plain": [
              "   survived  pclass     sex   age  sibsp  parch     fare embarked   class  \\\n",
              "0         0       3    male  22.0      1      0   7.2500        S   Third   \n",
              "1         1       1  female  38.0      1      0  71.2833        C   First   \n",
              "2         1       3  female  26.0      0      0   7.9250        S   Third   \n",
              "3         1       1  female  35.0      1      0  53.1000        S   First   \n",
              "4         0       3    male  35.0      0      0   8.0500        S   Third   \n",
              "5         0       3    male   NaN      0      0   8.4583        Q   Third   \n",
              "6         0       1    male  54.0      0      0  51.8625        S   First   \n",
              "7         0       3    male   2.0      3      1  21.0750        S   Third   \n",
              "8         1       3  female  27.0      0      2  11.1333        S   Third   \n",
              "9         1       2  female  14.0      1      0  30.0708        C  Second   \n",
              "\n",
              "     who  adult_male deck  embark_town alive  alone  \n",
              "0    man        True  NaN  Southampton    no  False  \n",
              "1  woman       False    C    Cherbourg   yes  False  \n",
              "2  woman       False  NaN  Southampton   yes   True  \n",
              "3  woman       False    C  Southampton   yes  False  \n",
              "4    man        True  NaN  Southampton    no   True  \n",
              "5    man        True  NaN   Queenstown    no   True  \n",
              "6    man        True    E  Southampton    no   True  \n",
              "7  child       False  NaN  Southampton    no  False  \n",
              "8  woman       False  NaN  Southampton   yes  False  \n",
              "9  child       False  NaN    Cherbourg   yes  False  "
            ],
            "text/html": [
              "\n",
              "  <div id=\"df-b38ed0a1-3e42-4f0a-8a31-674c65020ec8\" class=\"colab-df-container\">\n",
              "    <div>\n",
              "<style scoped>\n",
              "    .dataframe tbody tr th:only-of-type {\n",
              "        vertical-align: middle;\n",
              "    }\n",
              "\n",
              "    .dataframe tbody tr th {\n",
              "        vertical-align: top;\n",
              "    }\n",
              "\n",
              "    .dataframe thead th {\n",
              "        text-align: right;\n",
              "    }\n",
              "</style>\n",
              "<table border=\"1\" class=\"dataframe\">\n",
              "  <thead>\n",
              "    <tr style=\"text-align: right;\">\n",
              "      <th></th>\n",
              "      <th>survived</th>\n",
              "      <th>pclass</th>\n",
              "      <th>sex</th>\n",
              "      <th>age</th>\n",
              "      <th>sibsp</th>\n",
              "      <th>parch</th>\n",
              "      <th>fare</th>\n",
              "      <th>embarked</th>\n",
              "      <th>class</th>\n",
              "      <th>who</th>\n",
              "      <th>adult_male</th>\n",
              "      <th>deck</th>\n",
              "      <th>embark_town</th>\n",
              "      <th>alive</th>\n",
              "      <th>alone</th>\n",
              "    </tr>\n",
              "  </thead>\n",
              "  <tbody>\n",
              "    <tr>\n",
              "      <th>0</th>\n",
              "      <td>0</td>\n",
              "      <td>3</td>\n",
              "      <td>male</td>\n",
              "      <td>22.0</td>\n",
              "      <td>1</td>\n",
              "      <td>0</td>\n",
              "      <td>7.2500</td>\n",
              "      <td>S</td>\n",
              "      <td>Third</td>\n",
              "      <td>man</td>\n",
              "      <td>True</td>\n",
              "      <td>NaN</td>\n",
              "      <td>Southampton</td>\n",
              "      <td>no</td>\n",
              "      <td>False</td>\n",
              "    </tr>\n",
              "    <tr>\n",
              "      <th>1</th>\n",
              "      <td>1</td>\n",
              "      <td>1</td>\n",
              "      <td>female</td>\n",
              "      <td>38.0</td>\n",
              "      <td>1</td>\n",
              "      <td>0</td>\n",
              "      <td>71.2833</td>\n",
              "      <td>C</td>\n",
              "      <td>First</td>\n",
              "      <td>woman</td>\n",
              "      <td>False</td>\n",
              "      <td>C</td>\n",
              "      <td>Cherbourg</td>\n",
              "      <td>yes</td>\n",
              "      <td>False</td>\n",
              "    </tr>\n",
              "    <tr>\n",
              "      <th>2</th>\n",
              "      <td>1</td>\n",
              "      <td>3</td>\n",
              "      <td>female</td>\n",
              "      <td>26.0</td>\n",
              "      <td>0</td>\n",
              "      <td>0</td>\n",
              "      <td>7.9250</td>\n",
              "      <td>S</td>\n",
              "      <td>Third</td>\n",
              "      <td>woman</td>\n",
              "      <td>False</td>\n",
              "      <td>NaN</td>\n",
              "      <td>Southampton</td>\n",
              "      <td>yes</td>\n",
              "      <td>True</td>\n",
              "    </tr>\n",
              "    <tr>\n",
              "      <th>3</th>\n",
              "      <td>1</td>\n",
              "      <td>1</td>\n",
              "      <td>female</td>\n",
              "      <td>35.0</td>\n",
              "      <td>1</td>\n",
              "      <td>0</td>\n",
              "      <td>53.1000</td>\n",
              "      <td>S</td>\n",
              "      <td>First</td>\n",
              "      <td>woman</td>\n",
              "      <td>False</td>\n",
              "      <td>C</td>\n",
              "      <td>Southampton</td>\n",
              "      <td>yes</td>\n",
              "      <td>False</td>\n",
              "    </tr>\n",
              "    <tr>\n",
              "      <th>4</th>\n",
              "      <td>0</td>\n",
              "      <td>3</td>\n",
              "      <td>male</td>\n",
              "      <td>35.0</td>\n",
              "      <td>0</td>\n",
              "      <td>0</td>\n",
              "      <td>8.0500</td>\n",
              "      <td>S</td>\n",
              "      <td>Third</td>\n",
              "      <td>man</td>\n",
              "      <td>True</td>\n",
              "      <td>NaN</td>\n",
              "      <td>Southampton</td>\n",
              "      <td>no</td>\n",
              "      <td>True</td>\n",
              "    </tr>\n",
              "    <tr>\n",
              "      <th>5</th>\n",
              "      <td>0</td>\n",
              "      <td>3</td>\n",
              "      <td>male</td>\n",
              "      <td>NaN</td>\n",
              "      <td>0</td>\n",
              "      <td>0</td>\n",
              "      <td>8.4583</td>\n",
              "      <td>Q</td>\n",
              "      <td>Third</td>\n",
              "      <td>man</td>\n",
              "      <td>True</td>\n",
              "      <td>NaN</td>\n",
              "      <td>Queenstown</td>\n",
              "      <td>no</td>\n",
              "      <td>True</td>\n",
              "    </tr>\n",
              "    <tr>\n",
              "      <th>6</th>\n",
              "      <td>0</td>\n",
              "      <td>1</td>\n",
              "      <td>male</td>\n",
              "      <td>54.0</td>\n",
              "      <td>0</td>\n",
              "      <td>0</td>\n",
              "      <td>51.8625</td>\n",
              "      <td>S</td>\n",
              "      <td>First</td>\n",
              "      <td>man</td>\n",
              "      <td>True</td>\n",
              "      <td>E</td>\n",
              "      <td>Southampton</td>\n",
              "      <td>no</td>\n",
              "      <td>True</td>\n",
              "    </tr>\n",
              "    <tr>\n",
              "      <th>7</th>\n",
              "      <td>0</td>\n",
              "      <td>3</td>\n",
              "      <td>male</td>\n",
              "      <td>2.0</td>\n",
              "      <td>3</td>\n",
              "      <td>1</td>\n",
              "      <td>21.0750</td>\n",
              "      <td>S</td>\n",
              "      <td>Third</td>\n",
              "      <td>child</td>\n",
              "      <td>False</td>\n",
              "      <td>NaN</td>\n",
              "      <td>Southampton</td>\n",
              "      <td>no</td>\n",
              "      <td>False</td>\n",
              "    </tr>\n",
              "    <tr>\n",
              "      <th>8</th>\n",
              "      <td>1</td>\n",
              "      <td>3</td>\n",
              "      <td>female</td>\n",
              "      <td>27.0</td>\n",
              "      <td>0</td>\n",
              "      <td>2</td>\n",
              "      <td>11.1333</td>\n",
              "      <td>S</td>\n",
              "      <td>Third</td>\n",
              "      <td>woman</td>\n",
              "      <td>False</td>\n",
              "      <td>NaN</td>\n",
              "      <td>Southampton</td>\n",
              "      <td>yes</td>\n",
              "      <td>False</td>\n",
              "    </tr>\n",
              "    <tr>\n",
              "      <th>9</th>\n",
              "      <td>1</td>\n",
              "      <td>2</td>\n",
              "      <td>female</td>\n",
              "      <td>14.0</td>\n",
              "      <td>1</td>\n",
              "      <td>0</td>\n",
              "      <td>30.0708</td>\n",
              "      <td>C</td>\n",
              "      <td>Second</td>\n",
              "      <td>child</td>\n",
              "      <td>False</td>\n",
              "      <td>NaN</td>\n",
              "      <td>Cherbourg</td>\n",
              "      <td>yes</td>\n",
              "      <td>False</td>\n",
              "    </tr>\n",
              "  </tbody>\n",
              "</table>\n",
              "</div>\n",
              "    <div class=\"colab-df-buttons\">\n",
              "\n",
              "  <div class=\"colab-df-container\">\n",
              "    <button class=\"colab-df-convert\" onclick=\"convertToInteractive('df-b38ed0a1-3e42-4f0a-8a31-674c65020ec8')\"\n",
              "            title=\"Convert this dataframe to an interactive table.\"\n",
              "            style=\"display:none;\">\n",
              "\n",
              "  <svg xmlns=\"http://www.w3.org/2000/svg\" height=\"24px\" viewBox=\"0 -960 960 960\">\n",
              "    <path d=\"M120-120v-720h720v720H120Zm60-500h600v-160H180v160Zm220 220h160v-160H400v160Zm0 220h160v-160H400v160ZM180-400h160v-160H180v160Zm440 0h160v-160H620v160ZM180-180h160v-160H180v160Zm440 0h160v-160H620v160Z\"/>\n",
              "  </svg>\n",
              "    </button>\n",
              "\n",
              "  <style>\n",
              "    .colab-df-container {\n",
              "      display:flex;\n",
              "      gap: 12px;\n",
              "    }\n",
              "\n",
              "    .colab-df-convert {\n",
              "      background-color: #E8F0FE;\n",
              "      border: none;\n",
              "      border-radius: 50%;\n",
              "      cursor: pointer;\n",
              "      display: none;\n",
              "      fill: #1967D2;\n",
              "      height: 32px;\n",
              "      padding: 0 0 0 0;\n",
              "      width: 32px;\n",
              "    }\n",
              "\n",
              "    .colab-df-convert:hover {\n",
              "      background-color: #E2EBFA;\n",
              "      box-shadow: 0px 1px 2px rgba(60, 64, 67, 0.3), 0px 1px 3px 1px rgba(60, 64, 67, 0.15);\n",
              "      fill: #174EA6;\n",
              "    }\n",
              "\n",
              "    .colab-df-buttons div {\n",
              "      margin-bottom: 4px;\n",
              "    }\n",
              "\n",
              "    [theme=dark] .colab-df-convert {\n",
              "      background-color: #3B4455;\n",
              "      fill: #D2E3FC;\n",
              "    }\n",
              "\n",
              "    [theme=dark] .colab-df-convert:hover {\n",
              "      background-color: #434B5C;\n",
              "      box-shadow: 0px 1px 3px 1px rgba(0, 0, 0, 0.15);\n",
              "      filter: drop-shadow(0px 1px 2px rgba(0, 0, 0, 0.3));\n",
              "      fill: #FFFFFF;\n",
              "    }\n",
              "  </style>\n",
              "\n",
              "    <script>\n",
              "      const buttonEl =\n",
              "        document.querySelector('#df-b38ed0a1-3e42-4f0a-8a31-674c65020ec8 button.colab-df-convert');\n",
              "      buttonEl.style.display =\n",
              "        google.colab.kernel.accessAllowed ? 'block' : 'none';\n",
              "\n",
              "      async function convertToInteractive(key) {\n",
              "        const element = document.querySelector('#df-b38ed0a1-3e42-4f0a-8a31-674c65020ec8');\n",
              "        const dataTable =\n",
              "          await google.colab.kernel.invokeFunction('convertToInteractive',\n",
              "                                                    [key], {});\n",
              "        if (!dataTable) return;\n",
              "\n",
              "        const docLinkHtml = 'Like what you see? Visit the ' +\n",
              "          '<a target=\"_blank\" href=https://colab.research.google.com/notebooks/data_table.ipynb>data table notebook</a>'\n",
              "          + ' to learn more about interactive tables.';\n",
              "        element.innerHTML = '';\n",
              "        dataTable['output_type'] = 'display_data';\n",
              "        await google.colab.output.renderOutput(dataTable, element);\n",
              "        const docLink = document.createElement('div');\n",
              "        docLink.innerHTML = docLinkHtml;\n",
              "        element.appendChild(docLink);\n",
              "      }\n",
              "    </script>\n",
              "  </div>\n",
              "\n",
              "\n",
              "<div id=\"df-a15224f2-dfed-4cf1-988e-0507718ac8c9\">\n",
              "  <button class=\"colab-df-quickchart\" onclick=\"quickchart('df-a15224f2-dfed-4cf1-988e-0507718ac8c9')\"\n",
              "            title=\"Suggest charts\"\n",
              "            style=\"display:none;\">\n",
              "\n",
              "<svg xmlns=\"http://www.w3.org/2000/svg\" height=\"24px\"viewBox=\"0 0 24 24\"\n",
              "     width=\"24px\">\n",
              "    <g>\n",
              "        <path d=\"M19 3H5c-1.1 0-2 .9-2 2v14c0 1.1.9 2 2 2h14c1.1 0 2-.9 2-2V5c0-1.1-.9-2-2-2zM9 17H7v-7h2v7zm4 0h-2V7h2v10zm4 0h-2v-4h2v4z\"/>\n",
              "    </g>\n",
              "</svg>\n",
              "  </button>\n",
              "\n",
              "<style>\n",
              "  .colab-df-quickchart {\n",
              "      --bg-color: #E8F0FE;\n",
              "      --fill-color: #1967D2;\n",
              "      --hover-bg-color: #E2EBFA;\n",
              "      --hover-fill-color: #174EA6;\n",
              "      --disabled-fill-color: #AAA;\n",
              "      --disabled-bg-color: #DDD;\n",
              "  }\n",
              "\n",
              "  [theme=dark] .colab-df-quickchart {\n",
              "      --bg-color: #3B4455;\n",
              "      --fill-color: #D2E3FC;\n",
              "      --hover-bg-color: #434B5C;\n",
              "      --hover-fill-color: #FFFFFF;\n",
              "      --disabled-bg-color: #3B4455;\n",
              "      --disabled-fill-color: #666;\n",
              "  }\n",
              "\n",
              "  .colab-df-quickchart {\n",
              "    background-color: var(--bg-color);\n",
              "    border: none;\n",
              "    border-radius: 50%;\n",
              "    cursor: pointer;\n",
              "    display: none;\n",
              "    fill: var(--fill-color);\n",
              "    height: 32px;\n",
              "    padding: 0;\n",
              "    width: 32px;\n",
              "  }\n",
              "\n",
              "  .colab-df-quickchart:hover {\n",
              "    background-color: var(--hover-bg-color);\n",
              "    box-shadow: 0 1px 2px rgba(60, 64, 67, 0.3), 0 1px 3px 1px rgba(60, 64, 67, 0.15);\n",
              "    fill: var(--button-hover-fill-color);\n",
              "  }\n",
              "\n",
              "  .colab-df-quickchart-complete:disabled,\n",
              "  .colab-df-quickchart-complete:disabled:hover {\n",
              "    background-color: var(--disabled-bg-color);\n",
              "    fill: var(--disabled-fill-color);\n",
              "    box-shadow: none;\n",
              "  }\n",
              "\n",
              "  .colab-df-spinner {\n",
              "    border: 2px solid var(--fill-color);\n",
              "    border-color: transparent;\n",
              "    border-bottom-color: var(--fill-color);\n",
              "    animation:\n",
              "      spin 1s steps(1) infinite;\n",
              "  }\n",
              "\n",
              "  @keyframes spin {\n",
              "    0% {\n",
              "      border-color: transparent;\n",
              "      border-bottom-color: var(--fill-color);\n",
              "      border-left-color: var(--fill-color);\n",
              "    }\n",
              "    20% {\n",
              "      border-color: transparent;\n",
              "      border-left-color: var(--fill-color);\n",
              "      border-top-color: var(--fill-color);\n",
              "    }\n",
              "    30% {\n",
              "      border-color: transparent;\n",
              "      border-left-color: var(--fill-color);\n",
              "      border-top-color: var(--fill-color);\n",
              "      border-right-color: var(--fill-color);\n",
              "    }\n",
              "    40% {\n",
              "      border-color: transparent;\n",
              "      border-right-color: var(--fill-color);\n",
              "      border-top-color: var(--fill-color);\n",
              "    }\n",
              "    60% {\n",
              "      border-color: transparent;\n",
              "      border-right-color: var(--fill-color);\n",
              "    }\n",
              "    80% {\n",
              "      border-color: transparent;\n",
              "      border-right-color: var(--fill-color);\n",
              "      border-bottom-color: var(--fill-color);\n",
              "    }\n",
              "    90% {\n",
              "      border-color: transparent;\n",
              "      border-bottom-color: var(--fill-color);\n",
              "    }\n",
              "  }\n",
              "</style>\n",
              "\n",
              "  <script>\n",
              "    async function quickchart(key) {\n",
              "      const quickchartButtonEl =\n",
              "        document.querySelector('#' + key + ' button');\n",
              "      quickchartButtonEl.disabled = true;  // To prevent multiple clicks.\n",
              "      quickchartButtonEl.classList.add('colab-df-spinner');\n",
              "      try {\n",
              "        const charts = await google.colab.kernel.invokeFunction(\n",
              "            'suggestCharts', [key], {});\n",
              "      } catch (error) {\n",
              "        console.error('Error during call to suggestCharts:', error);\n",
              "      }\n",
              "      quickchartButtonEl.classList.remove('colab-df-spinner');\n",
              "      quickchartButtonEl.classList.add('colab-df-quickchart-complete');\n",
              "    }\n",
              "    (() => {\n",
              "      let quickchartButtonEl =\n",
              "        document.querySelector('#df-a15224f2-dfed-4cf1-988e-0507718ac8c9 button');\n",
              "      quickchartButtonEl.style.display =\n",
              "        google.colab.kernel.accessAllowed ? 'block' : 'none';\n",
              "    })();\n",
              "  </script>\n",
              "</div>\n",
              "\n",
              "    </div>\n",
              "  </div>\n"
            ]
          },
          "metadata": {},
          "execution_count": 2
        }
      ]
    },
    {
      "cell_type": "markdown",
      "source": [
        "# 1.EDA(정형)"
      ],
      "metadata": {
        "id": "9j5z478Eehtm"
      }
    },
    {
      "cell_type": "markdown",
      "source": [
        "## 1) null 값 확인"
      ],
      "metadata": {
        "id": "7BTvlchejRCd"
      }
    },
    {
      "cell_type": "code",
      "source": [
        "print(data.shape)\n",
        "data.isnull().sum()"
      ],
      "metadata": {
        "colab": {
          "base_uri": "https://localhost:8080/"
        },
        "id": "uANqeMP6fney",
        "outputId": "3319a8dc-6f87-4526-ee32-9dd8c0152f64"
      },
      "execution_count": null,
      "outputs": [
        {
          "output_type": "stream",
          "name": "stdout",
          "text": [
            "(891, 15)\n"
          ]
        },
        {
          "output_type": "execute_result",
          "data": {
            "text/plain": [
              "survived         0\n",
              "pclass           0\n",
              "sex              0\n",
              "age            177\n",
              "sibsp            0\n",
              "parch            0\n",
              "fare             0\n",
              "embarked         2\n",
              "class            0\n",
              "who              0\n",
              "adult_male       0\n",
              "deck           688\n",
              "embark_town      2\n",
              "alive            0\n",
              "alone            0\n",
              "dtype: int64"
            ]
          },
          "metadata": {},
          "execution_count": 3
        }
      ]
    },
    {
      "cell_type": "markdown",
      "source": [
        "age는 채우고 deck는 drop하자\n",
        "\n",
        "무작정 drop하지말고, 다른 특성으로 grouping한 후, 각 그룹의 평균을 null대신 입력하는 식도 고려"
      ],
      "metadata": {
        "id": "GTaoEo2CfrQr"
      }
    },
    {
      "cell_type": "markdown",
      "source": [
        "## 2) label별 데이터 분포"
      ],
      "metadata": {
        "id": "4Wf00GlojTfB"
      }
    },
    {
      "cell_type": "code",
      "source": [
        "import matplotlib.pyplot as plt\n",
        "f,ax = plt.subplots(1,2,figsize=(18,8))\n",
        "data['survived'].value_counts().plot.pie(explode=[0,0.1],\n",
        "    autopct='%1.1f%%',ax=ax[0],shadow=True)\n",
        "ax[0].set_title('survived')\n",
        "ax[0].set_ylabel('')\n",
        "sns.countplot(x='survived',data=data,ax=ax[1])\n",
        "ax[1].set_title('survived')\n",
        "plt.show()"
      ],
      "metadata": {
        "colab": {
          "base_uri": "https://localhost:8080/",
          "height": 329
        },
        "id": "APo7bdOLiQKn",
        "outputId": "d56e1ec9-0f23-4910-e928-7d019773d490"
      },
      "execution_count": null,
      "outputs": [
        {
          "output_type": "display_data",
          "data": {
            "text/plain": [
              "<Figure size 1800x800 with 2 Axes>"
            ],
            "image/png": "[encoded data removed]"
          },
          "metadata": {}
        }
      ]
    },
    {
      "cell_type": "markdown",
      "source": [
        "## 3) Categorical Feature"
      ],
      "metadata": {
        "id": "4xUfxnkkelyK"
      }
    },
    {
      "cell_type": "markdown",
      "source": [
        "원핫인코딩등 사용, 무지성 인코딩 x"
      ],
      "metadata": {
        "id": "kbddJIaaesKk"
      }
    },
    {
      "cell_type": "markdown",
      "source": [
        "### crosstab"
      ],
      "metadata": {
        "id": "-OSh_OTnKS15"
      }
    },
    {
      "cell_type": "code",
      "source": [
        "pd.crosstab(data.sex,data.survived,margins=True).style.background_gradient(cmap='summer_r')"
      ],
      "metadata": {
        "colab": {
          "base_uri": "https://localhost:8080/",
          "height": 175
        },
        "id": "Hh0Bld21J8LT",
        "outputId": "076b0290-402c-4222-b460-53857b22b267"
      },
      "execution_count": null,
      "outputs": [
        {
          "output_type": "execute_result",
          "data": {
            "text/plain": [
              "<pandas.io.formats.style.Styler at 0x79ab74f27ee0>"
            ],
            "text/html": [
              "<style type=\"text/css\">\n",
              "#T_d9e04_row0_col0, #T_d9e04_row0_col2, #T_d9e04_row1_col1 {\n",
              "  background-color: #ffff66;\n",
              "  color: #000000;\n",
              "}\n",
              "#T_d9e04_row0_col1 {\n",
              "  background-color: #77bb66;\n",
              "  color: #f1f1f1;\n",
              "}\n",
              "#T_d9e04_row1_col0 {\n",
              "  background-color: #2c9666;\n",
              "  color: #f1f1f1;\n",
              "}\n",
              "#T_d9e04_row1_col2 {\n",
              "  background-color: #8bc566;\n",
              "  color: #000000;\n",
              "}\n",
              "#T_d9e04_row2_col0, #T_d9e04_row2_col1, #T_d9e04_row2_col2 {\n",
              "  background-color: #008066;\n",
              "  color: #f1f1f1;\n",
              "}\n",
              "</style>\n",
              "<table id=\"T_d9e04\" class=\"dataframe\">\n",
              "  <thead>\n",
              "    <tr>\n",
              "      <th class=\"index_name level0\" >survived</th>\n",
              "      <th id=\"T_d9e04_level0_col0\" class=\"col_heading level0 col0\" >0</th>\n",
              "      <th id=\"T_d9e04_level0_col1\" class=\"col_heading level0 col1\" >1</th>\n",
              "      <th id=\"T_d9e04_level0_col2\" class=\"col_heading level0 col2\" >All</th>\n",
              "    </tr>\n",
              "    <tr>\n",
              "      <th class=\"index_name level0\" >sex</th>\n",
              "      <th class=\"blank col0\" >&nbsp;</th>\n",
              "      <th class=\"blank col1\" >&nbsp;</th>\n",
              "      <th class=\"blank col2\" >&nbsp;</th>\n",
              "    </tr>\n",
              "  </thead>\n",
              "  <tbody>\n",
              "    <tr>\n",
              "      <th id=\"T_d9e04_level0_row0\" class=\"row_heading level0 row0\" >female</th>\n",
              "      <td id=\"T_d9e04_row0_col0\" class=\"data row0 col0\" >81</td>\n",
              "      <td id=\"T_d9e04_row0_col1\" class=\"data row0 col1\" >233</td>\n",
              "      <td id=\"T_d9e04_row0_col2\" class=\"data row0 col2\" >314</td>\n",
              "    </tr>\n",
              "    <tr>\n",
              "      <th id=\"T_d9e04_level0_row1\" class=\"row_heading level0 row1\" >male</th>\n",
              "      <td id=\"T_d9e04_row1_col0\" class=\"data row1 col0\" >468</td>\n",
              "      <td id=\"T_d9e04_row1_col1\" class=\"data row1 col1\" >109</td>\n",
              "      <td id=\"T_d9e04_row1_col2\" class=\"data row1 col2\" >577</td>\n",
              "    </tr>\n",
              "    <tr>\n",
              "      <th id=\"T_d9e04_level0_row2\" class=\"row_heading level0 row2\" >All</th>\n",
              "      <td id=\"T_d9e04_row2_col0\" class=\"data row2 col0\" >549</td>\n",
              "      <td id=\"T_d9e04_row2_col1\" class=\"data row2 col1\" >342</td>\n",
              "      <td id=\"T_d9e04_row2_col2\" class=\"data row2 col2\" >891</td>\n",
              "    </tr>\n",
              "  </tbody>\n",
              "</table>\n"
            ]
          },
          "metadata": {},
          "execution_count": 5
        }
      ]
    },
    {
      "cell_type": "code",
      "source": [
        "pd.crosstab([data.embarked,data.pclass],\n",
        "            [data.sex,data.survived],margins=True).style.background_gradient(cmap='summer_r')"
      ],
      "metadata": {
        "colab": {
          "base_uri": "https://localhost:8080/",
          "height": 426
        },
        "id": "1DyKZngqnKve",
        "outputId": "38cddf1f-0193-4dc9-f56f-ebc182ac48ab"
      },
      "execution_count": null,
      "outputs": [
        {
          "output_type": "execute_result",
          "data": {
            "text/plain": [
              "<pandas.io.formats.style.Styler at 0x79ab74e5fbe0>"
            ],
            "text/html": [
              "<style type=\"text/css\">\n",
              "#T_6ac59_row0_col0, #T_6ac59_row1_col2 {\n",
              "  background-color: #fcfe66;\n",
              "  color: #000000;\n",
              "}\n",
              "#T_6ac59_row0_col1 {\n",
              "  background-color: #d2e866;\n",
              "  color: #000000;\n",
              "}\n",
              "#T_6ac59_row0_col2 {\n",
              "  background-color: #f2f866;\n",
              "  color: #000000;\n",
              "}\n",
              "#T_6ac59_row0_col3 {\n",
              "  background-color: #d8ec66;\n",
              "  color: #000000;\n",
              "}\n",
              "#T_6ac59_row0_col4, #T_6ac59_row2_col3 {\n",
              "  background-color: #e8f466;\n",
              "  color: #000000;\n",
              "}\n",
              "#T_6ac59_row1_col0, #T_6ac59_row3_col0, #T_6ac59_row3_col1, #T_6ac59_row3_col2, #T_6ac59_row3_col3, #T_6ac59_row3_col4, #T_6ac59_row4_col0, #T_6ac59_row4_col2, #T_6ac59_row4_col3, #T_6ac59_row4_col4 {\n",
              "  background-color: #ffff66;\n",
              "  color: #000000;\n",
              "}\n",
              "#T_6ac59_row1_col1, #T_6ac59_row6_col0 {\n",
              "  background-color: #f9fc66;\n",
              "  color: #000000;\n",
              "}\n",
              "#T_6ac59_row1_col3, #T_6ac59_row1_col4 {\n",
              "  background-color: #fbfd66;\n",
              "  color: #000000;\n",
              "}\n",
              "#T_6ac59_row2_col0, #T_6ac59_row5_col1 {\n",
              "  background-color: #e6f266;\n",
              "  color: #000000;\n",
              "}\n",
              "#T_6ac59_row2_col1 {\n",
              "  background-color: #f0f866;\n",
              "  color: #000000;\n",
              "}\n",
              "#T_6ac59_row2_col2 {\n",
              "  background-color: #eef666;\n",
              "  color: #000000;\n",
              "}\n",
              "#T_6ac59_row2_col4, #T_6ac59_row7_col0 {\n",
              "  background-color: #edf666;\n",
              "  color: #000000;\n",
              "}\n",
              "#T_6ac59_row4_col1 {\n",
              "  background-color: #fefe66;\n",
              "  color: #000000;\n",
              "}\n",
              "#T_6ac59_row5_col0 {\n",
              "  background-color: #e3f166;\n",
              "  color: #000000;\n",
              "}\n",
              "#T_6ac59_row5_col2 {\n",
              "  background-color: #ecf666;\n",
              "  color: #000000;\n",
              "}\n",
              "#T_6ac59_row5_col3 {\n",
              "  background-color: #f8fc66;\n",
              "  color: #000000;\n",
              "}\n",
              "#T_6ac59_row5_col4 {\n",
              "  background-color: #ebf566;\n",
              "  color: #000000;\n",
              "}\n",
              "#T_6ac59_row6_col1 {\n",
              "  background-color: #cde666;\n",
              "  color: #000000;\n",
              "}\n",
              "#T_6ac59_row6_col2 {\n",
              "  background-color: #e4f266;\n",
              "  color: #000000;\n",
              "}\n",
              "#T_6ac59_row6_col3 {\n",
              "  background-color: #bede66;\n",
              "  color: #000000;\n",
              "}\n",
              "#T_6ac59_row6_col4 {\n",
              "  background-color: #dbed66;\n",
              "  color: #000000;\n",
              "}\n",
              "#T_6ac59_row7_col1 {\n",
              "  background-color: #bdde66;\n",
              "  color: #000000;\n",
              "}\n",
              "#T_6ac59_row7_col2 {\n",
              "  background-color: #d3e966;\n",
              "  color: #000000;\n",
              "}\n",
              "#T_6ac59_row7_col3, #T_6ac59_row8_col1 {\n",
              "  background-color: #dcee66;\n",
              "  color: #000000;\n",
              "}\n",
              "#T_6ac59_row7_col4 {\n",
              "  background-color: #d1e866;\n",
              "  color: #000000;\n",
              "}\n",
              "#T_6ac59_row8_col0 {\n",
              "  background-color: #52a866;\n",
              "  color: #f1f1f1;\n",
              "}\n",
              "#T_6ac59_row8_col2 {\n",
              "  background-color: #81c066;\n",
              "  color: #000000;\n",
              "}\n",
              "#T_6ac59_row8_col3 {\n",
              "  background-color: #b0d866;\n",
              "  color: #000000;\n",
              "}\n",
              "#T_6ac59_row8_col4 {\n",
              "  background-color: #9acc66;\n",
              "  color: #000000;\n",
              "}\n",
              "#T_6ac59_row9_col0, #T_6ac59_row9_col1, #T_6ac59_row9_col2, #T_6ac59_row9_col3, #T_6ac59_row9_col4 {\n",
              "  background-color: #008066;\n",
              "  color: #f1f1f1;\n",
              "}\n",
              "</style>\n",
              "<table id=\"T_6ac59\" class=\"dataframe\">\n",
              "  <thead>\n",
              "    <tr>\n",
              "      <th class=\"blank\" >&nbsp;</th>\n",
              "      <th class=\"index_name level0\" >sex</th>\n",
              "      <th id=\"T_6ac59_level0_col0\" class=\"col_heading level0 col0\" colspan=\"2\">female</th>\n",
              "      <th id=\"T_6ac59_level0_col2\" class=\"col_heading level0 col2\" colspan=\"2\">male</th>\n",
              "      <th id=\"T_6ac59_level0_col4\" class=\"col_heading level0 col4\" >All</th>\n",
              "    </tr>\n",
              "    <tr>\n",
              "      <th class=\"blank\" >&nbsp;</th>\n",
              "      <th class=\"index_name level1\" >survived</th>\n",
              "      <th id=\"T_6ac59_level1_col0\" class=\"col_heading level1 col0\" >0</th>\n",
              "      <th id=\"T_6ac59_level1_col1\" class=\"col_heading level1 col1\" >1</th>\n",
              "      <th id=\"T_6ac59_level1_col2\" class=\"col_heading level1 col2\" >0</th>\n",
              "      <th id=\"T_6ac59_level1_col3\" class=\"col_heading level1 col3\" >1</th>\n",
              "      <th id=\"T_6ac59_level1_col4\" class=\"col_heading level1 col4\" ></th>\n",
              "    </tr>\n",
              "    <tr>\n",
              "      <th class=\"index_name level0\" >embarked</th>\n",
              "      <th class=\"index_name level1\" >pclass</th>\n",
              "      <th class=\"blank col0\" >&nbsp;</th>\n",
              "      <th class=\"blank col1\" >&nbsp;</th>\n",
              "      <th class=\"blank col2\" >&nbsp;</th>\n",
              "      <th class=\"blank col3\" >&nbsp;</th>\n",
              "      <th class=\"blank col4\" >&nbsp;</th>\n",
              "    </tr>\n",
              "  </thead>\n",
              "  <tbody>\n",
              "    <tr>\n",
              "      <th id=\"T_6ac59_level0_row0\" class=\"row_heading level0 row0\" rowspan=\"3\">C</th>\n",
              "      <th id=\"T_6ac59_level1_row0\" class=\"row_heading level1 row0\" >1</th>\n",
              "      <td id=\"T_6ac59_row0_col0\" class=\"data row0 col0\" >1</td>\n",
              "      <td id=\"T_6ac59_row0_col1\" class=\"data row0 col1\" >42</td>\n",
              "      <td id=\"T_6ac59_row0_col2\" class=\"data row0 col2\" >25</td>\n",
              "      <td id=\"T_6ac59_row0_col3\" class=\"data row0 col3\" >17</td>\n",
              "      <td id=\"T_6ac59_row0_col4\" class=\"data row0 col4\" >85</td>\n",
              "    </tr>\n",
              "    <tr>\n",
              "      <th id=\"T_6ac59_level1_row1\" class=\"row_heading level1 row1\" >2</th>\n",
              "      <td id=\"T_6ac59_row1_col0\" class=\"data row1 col0\" >0</td>\n",
              "      <td id=\"T_6ac59_row1_col1\" class=\"data row1 col1\" >7</td>\n",
              "      <td id=\"T_6ac59_row1_col2\" class=\"data row1 col2\" >8</td>\n",
              "      <td id=\"T_6ac59_row1_col3\" class=\"data row1 col3\" >2</td>\n",
              "      <td id=\"T_6ac59_row1_col4\" class=\"data row1 col4\" >17</td>\n",
              "    </tr>\n",
              "    <tr>\n",
              "      <th id=\"T_6ac59_level1_row2\" class=\"row_heading level1 row2\" >3</th>\n",
              "      <td id=\"T_6ac59_row2_col0\" class=\"data row2 col0\" >8</td>\n",
              "      <td id=\"T_6ac59_row2_col1\" class=\"data row2 col1\" >15</td>\n",
              "      <td id=\"T_6ac59_row2_col2\" class=\"data row2 col2\" >33</td>\n",
              "      <td id=\"T_6ac59_row2_col3\" class=\"data row2 col3\" >10</td>\n",
              "      <td id=\"T_6ac59_row2_col4\" class=\"data row2 col4\" >66</td>\n",
              "    </tr>\n",
              "    <tr>\n",
              "      <th id=\"T_6ac59_level0_row3\" class=\"row_heading level0 row3\" rowspan=\"3\">Q</th>\n",
              "      <th id=\"T_6ac59_level1_row3\" class=\"row_heading level1 row3\" >1</th>\n",
              "      <td id=\"T_6ac59_row3_col0\" class=\"data row3 col0\" >0</td>\n",
              "      <td id=\"T_6ac59_row3_col1\" class=\"data row3 col1\" >1</td>\n",
              "      <td id=\"T_6ac59_row3_col2\" class=\"data row3 col2\" >1</td>\n",
              "      <td id=\"T_6ac59_row3_col3\" class=\"data row3 col3\" >0</td>\n",
              "      <td id=\"T_6ac59_row3_col4\" class=\"data row3 col4\" >2</td>\n",
              "    </tr>\n",
              "    <tr>\n",
              "      <th id=\"T_6ac59_level1_row4\" class=\"row_heading level1 row4\" >2</th>\n",
              "      <td id=\"T_6ac59_row4_col0\" class=\"data row4 col0\" >0</td>\n",
              "      <td id=\"T_6ac59_row4_col1\" class=\"data row4 col1\" >2</td>\n",
              "      <td id=\"T_6ac59_row4_col2\" class=\"data row4 col2\" >1</td>\n",
              "      <td id=\"T_6ac59_row4_col3\" class=\"data row4 col3\" >0</td>\n",
              "      <td id=\"T_6ac59_row4_col4\" class=\"data row4 col4\" >3</td>\n",
              "    </tr>\n",
              "    <tr>\n",
              "      <th id=\"T_6ac59_level1_row5\" class=\"row_heading level1 row5\" >3</th>\n",
              "      <td id=\"T_6ac59_row5_col0\" class=\"data row5 col0\" >9</td>\n",
              "      <td id=\"T_6ac59_row5_col1\" class=\"data row5 col1\" >24</td>\n",
              "      <td id=\"T_6ac59_row5_col2\" class=\"data row5 col2\" >36</td>\n",
              "      <td id=\"T_6ac59_row5_col3\" class=\"data row5 col3\" >3</td>\n",
              "      <td id=\"T_6ac59_row5_col4\" class=\"data row5 col4\" >72</td>\n",
              "    </tr>\n",
              "    <tr>\n",
              "      <th id=\"T_6ac59_level0_row6\" class=\"row_heading level0 row6\" rowspan=\"3\">S</th>\n",
              "      <th id=\"T_6ac59_level1_row6\" class=\"row_heading level1 row6\" >1</th>\n",
              "      <td id=\"T_6ac59_row6_col0\" class=\"data row6 col0\" >2</td>\n",
              "      <td id=\"T_6ac59_row6_col1\" class=\"data row6 col1\" >46</td>\n",
              "      <td id=\"T_6ac59_row6_col2\" class=\"data row6 col2\" >51</td>\n",
              "      <td id=\"T_6ac59_row6_col3\" class=\"data row6 col3\" >28</td>\n",
              "      <td id=\"T_6ac59_row6_col4\" class=\"data row6 col4\" >127</td>\n",
              "    </tr>\n",
              "    <tr>\n",
              "      <th id=\"T_6ac59_level1_row7\" class=\"row_heading level1 row7\" >2</th>\n",
              "      <td id=\"T_6ac59_row7_col0\" class=\"data row7 col0\" >6</td>\n",
              "      <td id=\"T_6ac59_row7_col1\" class=\"data row7 col1\" >61</td>\n",
              "      <td id=\"T_6ac59_row7_col2\" class=\"data row7 col2\" >82</td>\n",
              "      <td id=\"T_6ac59_row7_col3\" class=\"data row7 col3\" >15</td>\n",
              "      <td id=\"T_6ac59_row7_col4\" class=\"data row7 col4\" >164</td>\n",
              "    </tr>\n",
              "    <tr>\n",
              "      <th id=\"T_6ac59_level1_row8\" class=\"row_heading level1 row8\" >3</th>\n",
              "      <td id=\"T_6ac59_row8_col0\" class=\"data row8 col0\" >55</td>\n",
              "      <td id=\"T_6ac59_row8_col1\" class=\"data row8 col1\" >33</td>\n",
              "      <td id=\"T_6ac59_row8_col2\" class=\"data row8 col2\" >231</td>\n",
              "      <td id=\"T_6ac59_row8_col3\" class=\"data row8 col3\" >34</td>\n",
              "      <td id=\"T_6ac59_row8_col4\" class=\"data row8 col4\" >353</td>\n",
              "    </tr>\n",
              "    <tr>\n",
              "      <th id=\"T_6ac59_level0_row9\" class=\"row_heading level0 row9\" >All</th>\n",
              "      <th id=\"T_6ac59_level1_row9\" class=\"row_heading level1 row9\" ></th>\n",
              "      <td id=\"T_6ac59_row9_col0\" class=\"data row9 col0\" >81</td>\n",
              "      <td id=\"T_6ac59_row9_col1\" class=\"data row9 col1\" >231</td>\n",
              "      <td id=\"T_6ac59_row9_col2\" class=\"data row9 col2\" >468</td>\n",
              "      <td id=\"T_6ac59_row9_col3\" class=\"data row9 col3\" >109</td>\n",
              "      <td id=\"T_6ac59_row9_col4\" class=\"data row9 col4\" >889</td>\n",
              "    </tr>\n",
              "  </tbody>\n",
              "</table>\n"
            ]
          },
          "metadata": {},
          "execution_count": 11
        }
      ]
    },
    {
      "cell_type": "markdown",
      "source": [
        "### 변수 2개(categorical, categorical): sns.countplot"
      ],
      "metadata": {
        "id": "xjkfDoHrtxmD"
      }
    },
    {
      "cell_type": "code",
      "source": [
        "f,ax=plt.subplots(1,2,figsize=(18,8))\n",
        "data[['sex','survived']].groupby(['sex']).mean().plot.bar(ax=ax[0])\n",
        "ax[0].set_title('Survived vs Sex')\n",
        "sns.countplot(x='sex',hue='survived',data=data,ax=ax[1])\n",
        "ax[1].set_title('Sex:Survived vs Dead')\n",
        "plt.show()"
      ],
      "metadata": {
        "colab": {
          "base_uri": "https://localhost:8080/",
          "height": 333
        },
        "id": "UtiteFU1jdtc",
        "outputId": "2a492287-5e31-4f59-bd98-98ce86c34055"
      },
      "execution_count": null,
      "outputs": [
        {
          "output_type": "display_data",
          "data": {
            "text/plain": [
              "<Figure size 1800x800 with 2 Axes>"
            ],
            "image/png": "[encoded data removed]"
          },
          "metadata": {}
        }
      ]
    },
    {
      "cell_type": "markdown",
      "source": [
        "## 4) Ordinal Feature"
      ],
      "metadata": {
        "id": "o7qJ_8_5vSZW"
      }
    },
    {
      "cell_type": "markdown",
      "source": [
        "Ordinal Feature(Pclass) : 1,2,3으로 순서가있는 인코딩 가능"
      ],
      "metadata": {
        "id": "Mg0f0i1KvZSg"
      }
    },
    {
      "cell_type": "markdown",
      "source": [
        "### crosstab"
      ],
      "metadata": {
        "id": "G38r2cznJrJw"
      }
    },
    {
      "cell_type": "code",
      "source": [
        "pd.crosstab(data.pclass,data.survived,margins=True).style.background_gradient(cmap='summer_r')"
      ],
      "metadata": {
        "colab": {
          "base_uri": "https://localhost:8080/",
          "height": 206
        },
        "id": "jDRDc4Z5vOQQ",
        "outputId": "af751c7c-e25d-43cb-e958-db47af9e0835"
      },
      "execution_count": null,
      "outputs": [
        {
          "output_type": "execute_result",
          "data": {
            "text/plain": [
              "<pandas.io.formats.style.Styler at 0x79ab7519d480>"
            ],
            "text/html": [
              "<style type=\"text/css\">\n",
              "#T_78126_row0_col0, #T_78126_row1_col1, #T_78126_row1_col2 {\n",
              "  background-color: #ffff66;\n",
              "  color: #000000;\n",
              "}\n",
              "#T_78126_row0_col1 {\n",
              "  background-color: #cee666;\n",
              "  color: #000000;\n",
              "}\n",
              "#T_78126_row0_col2 {\n",
              "  background-color: #f4fa66;\n",
              "  color: #000000;\n",
              "}\n",
              "#T_78126_row1_col0 {\n",
              "  background-color: #f6fa66;\n",
              "  color: #000000;\n",
              "}\n",
              "#T_78126_row2_col0 {\n",
              "  background-color: #60b066;\n",
              "  color: #f1f1f1;\n",
              "}\n",
              "#T_78126_row2_col1 {\n",
              "  background-color: #dfef66;\n",
              "  color: #000000;\n",
              "}\n",
              "#T_78126_row2_col2 {\n",
              "  background-color: #90c866;\n",
              "  color: #000000;\n",
              "}\n",
              "#T_78126_row3_col0, #T_78126_row3_col1, #T_78126_row3_col2 {\n",
              "  background-color: #008066;\n",
              "  color: #f1f1f1;\n",
              "}\n",
              "</style>\n",
              "<table id=\"T_78126\" class=\"dataframe\">\n",
              "  <thead>\n",
              "    <tr>\n",
              "      <th class=\"index_name level0\" >survived</th>\n",
              "      <th id=\"T_78126_level0_col0\" class=\"col_heading level0 col0\" >0</th>\n",
              "      <th id=\"T_78126_level0_col1\" class=\"col_heading level0 col1\" >1</th>\n",
              "      <th id=\"T_78126_level0_col2\" class=\"col_heading level0 col2\" >All</th>\n",
              "    </tr>\n",
              "    <tr>\n",
              "      <th class=\"index_name level0\" >pclass</th>\n",
              "      <th class=\"blank col0\" >&nbsp;</th>\n",
              "      <th class=\"blank col1\" >&nbsp;</th>\n",
              "      <th class=\"blank col2\" >&nbsp;</th>\n",
              "    </tr>\n",
              "  </thead>\n",
              "  <tbody>\n",
              "    <tr>\n",
              "      <th id=\"T_78126_level0_row0\" class=\"row_heading level0 row0\" >1</th>\n",
              "      <td id=\"T_78126_row0_col0\" class=\"data row0 col0\" >80</td>\n",
              "      <td id=\"T_78126_row0_col1\" class=\"data row0 col1\" >136</td>\n",
              "      <td id=\"T_78126_row0_col2\" class=\"data row0 col2\" >216</td>\n",
              "    </tr>\n",
              "    <tr>\n",
              "      <th id=\"T_78126_level0_row1\" class=\"row_heading level0 row1\" >2</th>\n",
              "      <td id=\"T_78126_row1_col0\" class=\"data row1 col0\" >97</td>\n",
              "      <td id=\"T_78126_row1_col1\" class=\"data row1 col1\" >87</td>\n",
              "      <td id=\"T_78126_row1_col2\" class=\"data row1 col2\" >184</td>\n",
              "    </tr>\n",
              "    <tr>\n",
              "      <th id=\"T_78126_level0_row2\" class=\"row_heading level0 row2\" >3</th>\n",
              "      <td id=\"T_78126_row2_col0\" class=\"data row2 col0\" >372</td>\n",
              "      <td id=\"T_78126_row2_col1\" class=\"data row2 col1\" >119</td>\n",
              "      <td id=\"T_78126_row2_col2\" class=\"data row2 col2\" >491</td>\n",
              "    </tr>\n",
              "    <tr>\n",
              "      <th id=\"T_78126_level0_row3\" class=\"row_heading level0 row3\" >All</th>\n",
              "      <td id=\"T_78126_row3_col0\" class=\"data row3 col0\" >549</td>\n",
              "      <td id=\"T_78126_row3_col1\" class=\"data row3 col1\" >342</td>\n",
              "      <td id=\"T_78126_row3_col2\" class=\"data row3 col2\" >891</td>\n",
              "    </tr>\n",
              "  </tbody>\n",
              "</table>\n"
            ]
          },
          "metadata": {},
          "execution_count": 7
        }
      ]
    },
    {
      "cell_type": "markdown",
      "source": [
        "### 변수 3개(Ordinal,categorical, categorical): sns.pointplot"
      ],
      "metadata": {
        "id": "SJiUyuHNJlV-"
      }
    },
    {
      "cell_type": "code",
      "source": [
        "sns.pointplot(x='pclass',y='survived',hue='sex',data=data)"
      ],
      "metadata": {
        "id": "fT7TpozvvONR",
        "colab": {
          "base_uri": "https://localhost:8080/",
          "height": 479
        },
        "outputId": "6a546e54-0cae-461a-e4ed-4ff77e3f27a2"
      },
      "execution_count": null,
      "outputs": [
        {
          "output_type": "execute_result",
          "data": {
            "text/plain": [
              "<Axes: xlabel='pclass', ylabel='survived'>"
            ]
          },
          "metadata": {},
          "execution_count": 8
        },
        {
          "output_type": "display_data",
          "data": {
            "text/plain": [
              "<Figure size 800x550 with 1 Axes>"
            ],
            "image/png": "[encoded data removed]"
          },
          "metadata": {}
        }
      ]
    },
    {
      "cell_type": "markdown",
      "source": [
        "## 5) Continous Feature"
      ],
      "metadata": {
        "id": "XzxW-G9jLdVo"
      }
    },
    {
      "cell_type": "markdown",
      "source": [
        "사용하는 알고리즘에 따라 Group으로 나누어 Ordinal Feature로 변경할수도있음\n",
        "\n",
        "최대와 최소를 확인해 outlier 유무체크\n",
        "\n",
        "mean을 확인해 데이터분포 체크"
      ],
      "metadata": {
        "id": "qXhv12ofLjYB"
      }
    },
    {
      "cell_type": "code",
      "source": [
        "print('Oldest Passenger was of:{} Years'.format(data['age'].max()))\n",
        "print('Youngest Passenger was of:{} Years'.format(data['age'].min()))\n",
        "print('Average Passenger was of:{:.2f} Years'.format(data['age'].mean()))"
      ],
      "metadata": {
        "id": "BbPGa4LNvOKT",
        "colab": {
          "base_uri": "https://localhost:8080/"
        },
        "outputId": "48f944d9-8e7b-4f0d-cd6f-e10d557e1739"
      },
      "execution_count": null,
      "outputs": [
        {
          "output_type": "stream",
          "name": "stdout",
          "text": [
            "Oldest Passenger was of:80.0 Years\n",
            "Youngest Passenger was of:0.42 Years\n",
            "Average Passenger was of:29.70 Years\n"
          ]
        }
      ]
    },
    {
      "cell_type": "markdown",
      "source": [
        "### 변수 3개(Continous, categorical, categorical): violinplot"
      ],
      "metadata": {
        "id": "b9H8Rgq1naLw"
      }
    },
    {
      "cell_type": "code",
      "source": [
        "sns.violinplot(x='pclass',y='age',hue='survived',data=data)"
      ],
      "metadata": {
        "id": "Hp9YiE71vOHk",
        "colab": {
          "base_uri": "https://localhost:8080/",
          "height": 481
        },
        "outputId": "9266801f-8e25-4fed-a308-616340c72555"
      },
      "execution_count": null,
      "outputs": [
        {
          "output_type": "execute_result",
          "data": {
            "text/plain": [
              "<Axes: xlabel='pclass', ylabel='age'>"
            ]
          },
          "metadata": {},
          "execution_count": 10
        },
        {
          "output_type": "display_data",
          "data": {
            "text/plain": [
              "<Figure size 800x550 with 1 Axes>"
            ],
            "image/png": "[encoded data removed]"
          },
          "metadata": {}
        }
      ]
    },
    {
      "cell_type": "markdown",
      "source": [
        "# 2.Feature Engineering, Data clean"
      ],
      "metadata": {
        "id": "tWSvikXloI7l"
      }
    },
    {
      "cell_type": "markdown",
      "source": [
        "성능향상이 보장된것은 아님!"
      ],
      "metadata": {
        "id": "lrFAABqjpiM4"
      }
    },
    {
      "cell_type": "markdown",
      "source": [
        "### 1) Continous feature -> categorical feature"
      ],
      "metadata": {
        "id": "692Ny0nrpKq4"
      }
    },
    {
      "cell_type": "code",
      "source": [
        "data['Age_band'] = 0\n",
        "data.loc[(data['age']<=16),'Age_band']=0\n",
        "data.loc[(data['age']>16) & (data['age']<=32), 'Age_band']=1\n",
        "data.loc[(data['age']>32) & (data['age']<=48), 'Age_band']=2\n",
        "data.loc[(data['age']>48) & (data['age']<=64), 'Age_band']=3\n",
        "data.loc[(data['age']>64) & (data['age']<=80), 'Age_band']=4"
      ],
      "metadata": {
        "id": "__As_15HvOB1"
      },
      "execution_count": null,
      "outputs": []
    },
    {
      "cell_type": "markdown",
      "source": [
        "## 2) 2 feature -> 1feature"
      ],
      "metadata": {
        "id": "tPvvfbREotBp"
      }
    },
    {
      "cell_type": "code",
      "source": [
        "data['Family_Size']=0\n",
        "data['Family_Size']=data['parch']+data['SibSp']\n",
        "data['Alone']=0\n",
        "data.loc[data['Family_Size']==0,'Alone']=1"
      ],
      "metadata": {
        "id": "GB3e6KSqvN_A"
      },
      "execution_count": null,
      "outputs": []
    },
    {
      "cell_type": "markdown",
      "source": [
        "## 3) Continous feature -> ordinal feature"
      ],
      "metadata": {
        "id": "vj7xuTnopVbJ"
      }
    },
    {
      "cell_type": "markdown",
      "source": [
        "qcut은 입력한 구간의 수에 따라 데이터 수를 균일하게 분할\n",
        "\n",
        "ex) 'Fare'는 불균형하게 분포되어있는데, 이를 4개의 구간으로 나눔"
      ],
      "metadata": {
        "id": "76mLOuulpoGR"
      }
    },
    {
      "cell_type": "code",
      "source": [
        "data['Fare_Range'] = pd.qcut(data['Fare'],4)\n",
        "data.groupby(['Fare_Range'])['Survived'].mean().to_frame().style.background_gradient('summer_r')"
      ],
      "metadata": {
        "id": "Iloywnc1vNHR"
      },
      "execution_count": null,
      "outputs": []
    },
    {
      "cell_type": "code",
      "source": [
        "data['Fare_cat']=0\n",
        "data.loc[data['Fare'] <= 7.91, 'Fare_cat'] = 0\n",
        "data.loc[(data['Fare'] > 7.91) & (data['Fare']<=14.454), 'Fare_cat'] = 1\n",
        "data.loc[(data['Fare'] > 14.454) & (data['Fare']<=31), 'Fare_cat'] = 2\n",
        "data.loc[(data['Fare'] > 31) & (data['Fare']<=513), 'Fare_cat'] = 3"
      ],
      "metadata": {
        "id": "nIKO28JwvNEG"
      },
      "execution_count": null,
      "outputs": []
    },
    {
      "cell_type": "markdown",
      "source": [
        "## 4) String -> Numeric"
      ],
      "metadata": {
        "id": "P4vJP1WFqDMu"
      }
    },
    {
      "cell_type": "code",
      "source": [
        "data['Sex'].replace(['male','female'],[0,1],inplace=True)\n",
        "data['Embarked'].replace(['S','C','Q'],[0,1,2],inplace=True)\n",
        "data['Initial'].replace(['Mr','Mrs','Miss','Master','Other'],[0,1,2,3,4],inplace=True)"
      ],
      "metadata": {
        "id": "IdfDQHunvNA_"
      },
      "execution_count": null,
      "outputs": []
    },
    {
      "cell_type": "markdown",
      "source": [
        "## 5) Feature clean"
      ],
      "metadata": {
        "id": "zjfbnBQorIc5"
      }
    },
    {
      "cell_type": "code",
      "source": [
        "data.drop(['Name','Age','Ticket','Fare','Cabin','Fare_Range','PassengerId'],axis=1,inplace=True)\n",
        "sns.heatmap(data.corr(),annot=True,cmap='RdYlGn',linewidths=0.2,annot_kws={'size':20})\n",
        "fig=plt.gcf()\n",
        "fig.set_size_inches(18,15)\n",
        "plt.xticks(fontsize=14)\n",
        "plt.yticks(fontsize=14)\n",
        "plt.show()"
      ],
      "metadata": {
        "id": "vDlzi59_vM91"
      },
      "execution_count": null,
      "outputs": []
    },
    {
      "cell_type": "markdown",
      "source": [
        "HeatMap 해석:\n",
        "두 feature가 상당히 높은 상관관계를 가지고 있다면, 둘다 사용할 필요가 없음. 이런 feature는 제거해야함.\n",
        "\n",
        "불필요한 특징들을 제거하고보니, 상관관계가 있는 feature들이 보이기 시작(0.5까지는 봐줄만 함)"
      ],
      "metadata": {
        "id": "sjydIGm8rQ1b"
      }
    },
    {
      "cell_type": "markdown",
      "source": [
        "# 3.Predicgtive Modeling"
      ],
      "metadata": {
        "id": "1l8vGmJzrTcj"
      }
    },
    {
      "cell_type": "code",
      "source": [
        "from sklearn.linear_model import LogisticRegression #logistic regression\n",
        "from sklearn import svm #support vector Machine\n",
        "from sklearn.ensemble import RandomForestClassifier #Random Forest\n",
        "from sklearn.neighbors import KNeighborsClassifier #KNN\n",
        "from sklearn.naive_bayes import GaussianNB #Naive bayes\n",
        "from sklearn.tree import DecisionTreeClassifier #Decision Tree\n",
        "from sklearn.model_selection import train_test_split #training and testing data split\n",
        "from sklearn import metrics #accuracy measure\n",
        "from sklearn.metrics import confusion_matrix #for confusion matrix"
      ],
      "metadata": {
        "id": "I0jdGxS4vM6Y"
      },
      "execution_count": null,
      "outputs": []
    },
    {
      "cell_type": "markdown",
      "source": [
        "stratify : split시 train과 test의 data['Survived']비율을 비슷하게 함."
      ],
      "metadata": {
        "id": "MNxa2DKf0PzO"
      }
    },
    {
      "cell_type": "code",
      "source": [
        "train,test=train_test_split(data,test_size=0.3,random_state=0,stratify=data['Survived'])\n",
        "train_X=train[train.columns[1:]]\n",
        "train_Y=train[train.columns[:1]]\n",
        "test_X=test[test.columns[1:]]\n",
        "test_Y=test[test.columns[:1]]\n",
        "X=data[data.columns[1:]]\n",
        "Y=data['Survived']"
      ],
      "metadata": {
        "id": "JrUxeBaWvMvj"
      },
      "execution_count": null,
      "outputs": []
    },
    {
      "cell_type": "markdown",
      "source": [
        "## 1) Radial Support Vedctor Machines"
      ],
      "metadata": {
        "id": "2QEmW-_k0jXL"
      }
    },
    {
      "cell_type": "code",
      "source": [
        "model = svm.SVC(kernel='rbf',C=1,gamma=0.1)\n",
        "model.fit(train_X,train_Y)\n",
        "prediction1=model.predict(test_X)\n",
        "print('Accuracy for rbf SVM is',metrics.accuracy_score(prediction1,test_Y))"
      ],
      "metadata": {
        "id": "XJZGYT5g0nxt"
      },
      "execution_count": null,
      "outputs": []
    },
    {
      "cell_type": "markdown",
      "source": [
        "## 2) Logistic Regression"
      ],
      "metadata": {
        "id": "WWmi4imS2TCr"
      }
    },
    {
      "cell_type": "code",
      "source": [
        "model = LogisticRegression()\n",
        "model.fit(train_X,train_Y)\n",
        "prediction3=model.predict(test_X)\n",
        "print('The accuracy of the Logistic Regression is',metrics.accuracy_score(prediction3,test_Y))"
      ],
      "metadata": {
        "id": "S_HeqPTZ4DG3"
      },
      "execution_count": null,
      "outputs": []
    },
    {
      "cell_type": "markdown",
      "source": [
        "## 3) Decision Tree"
      ],
      "metadata": {
        "id": "q_DgKyDO0p8K"
      }
    },
    {
      "cell_type": "code",
      "source": [
        "model=DecisionTreeClassifier()\n",
        "model.fit(train_X,train_Y)\n",
        "prediction4=model.predict(test_X)\n",
        "print('The accuracy of the Decision Tree is',metrics.accuracy_score(prediction4,test_Y))"
      ],
      "metadata": {
        "id": "qBdgtfbH4KjK"
      },
      "execution_count": null,
      "outputs": []
    },
    {
      "cell_type": "markdown",
      "source": [
        "## 4) K-Nearest Neighbours"
      ],
      "metadata": {
        "id": "rsGrLrxO2Zdg"
      }
    },
    {
      "cell_type": "code",
      "source": [
        "model=KNeighborsClassifier()\n",
        "model.fit(train_X,train_Y)\n",
        "prediction5=model.predict(test_X)\n",
        "print('The accuracy of the KNN is',metrics.accuracy_score(prediction5,test_Y))"
      ],
      "metadata": {
        "id": "KJlt58gw4M4O"
      },
      "execution_count": null,
      "outputs": []
    },
    {
      "cell_type": "markdown",
      "source": [
        "### 파라미터 설정"
      ],
      "metadata": {
        "id": "fSk-kGuM2ZUz"
      }
    },
    {
      "cell_type": "code",
      "source": [
        "a_index=list(range(1,11))\n",
        "a=[0,0,0,0,0,0,0,0,0,0]\n",
        "x=[0,1,2,3,4,5,6,7,8,9,10]\n",
        "for i in list(range(1,11)):\n",
        "    model=KNeighborsClassifier(n_neighbors=i)\n",
        "    model.fit(train_X,train_Y)\n",
        "    prediction=model.predict(test_X)\n",
        "    a[i-1]=metrics.accuracy_score(prediction,test_Y)\n",
        "plt.plot(a_index, a)\n",
        "plt.xticks(x)\n",
        "fig=plt.gcf()\n",
        "fig.set_size_inches(12,6)\n",
        "plt.show()\n",
        "print('Accuracies for different values of n are:',a,'with the max value as '\n",
        "      ,max(a))"
      ],
      "metadata": {
        "id": "yC1krQ9v4NzS"
      },
      "execution_count": null,
      "outputs": []
    },
    {
      "cell_type": "markdown",
      "source": [
        "## 5) Gaussian Naive bayes"
      ],
      "metadata": {
        "id": "XX6qeNX52ZDv"
      }
    },
    {
      "cell_type": "code",
      "source": [
        "model=GaussianNB()\n",
        "model.fit(train_X,train_Y)\n",
        "prediction6=model.predict(test_X)\n",
        "print('The accuracy of the NaiveBayes is',metrics.accuracy_score(prediction6,test_Y))"
      ],
      "metadata": {
        "id": "mIw-M9LD4Qdb"
      },
      "execution_count": null,
      "outputs": []
    },
    {
      "cell_type": "markdown",
      "source": [
        "## 6) Random Forests"
      ],
      "metadata": {
        "id": "AbxJT5uP2xf3"
      }
    },
    {
      "cell_type": "code",
      "source": [
        "model=RandomForestClassifier(n_estimators=100)\n",
        "model.fit(train_X,train_Y)\n",
        "prediction7=model.predict(test_X)\n",
        "print('The accuracy of the Random Forests is',metrics.accuracy_score(prediction7,test_Y))"
      ],
      "metadata": {
        "id": "Iq0oemjZ4S7w"
      },
      "execution_count": null,
      "outputs": []
    },
    {
      "cell_type": "markdown",
      "source": [
        "## 7) 각 모델별 Cross Validation 적용 후 비교"
      ],
      "metadata": {
        "id": "N2bnfrVg2xdI"
      }
    },
    {
      "cell_type": "markdown",
      "source": [
        "데이터의 불균형, 일반화된 모델을 만들기위해 사용"
      ],
      "metadata": {
        "id": "F6pDmFNi2xY9"
      }
    },
    {
      "cell_type": "code",
      "source": [
        "from sklearn.model_selection import KFold #for K-fold cross validation\n",
        "from sklearn.model_selection import cross_val_score #score evaluation\n",
        "from sklearn.model_selection import cross_val_predict #prediction\n",
        "kfold = KFold(n_splits=10) # k=10, split the data into 10 equal parts\n",
        "xyz=[]\n",
        "accuracy=[]\n",
        "std=[]\n",
        "classifiers=['Linear Svm','Radial Svm','Logistic Regression','KNN','Decision Tree',\n",
        "             'Naive Bayes','Random Forest']\n",
        "models=[svm.SVC(kernel='linear'),svm.SVC(kernel='rbf'),LogisticRegression(),\n",
        "        KNeighborsClassifier(n_neighbors=9),DecisionTreeClassifier(),GaussianNB(),\n",
        "        RandomForestClassifier(n_estimators=100)]\n",
        "for i in models:\n",
        "    model = i\n",
        "    cv_result = cross_val_score(model,X,Y, cv = kfold,scoring = \"accuracy\")\n",
        "    cv_result=cv_result\n",
        "    xyz.append(cv_result.mean())\n",
        "    std.append(cv_result.std())\n",
        "    accuracy.append(cv_result)\n",
        "new_models_dataframe2=pd.DataFrame({'CV Mean':xyz,'Std':std},index=classifiers)\n",
        "new_models_dataframe2"
      ],
      "metadata": {
        "id": "vSdLpFlz4WRA"
      },
      "execution_count": null,
      "outputs": []
    },
    {
      "cell_type": "markdown",
      "source": [
        "## 8) 상위 2개 모델 하이퍼파라미터 튜닝"
      ],
      "metadata": {
        "id": "0jDGdjI82xV2"
      }
    },
    {
      "cell_type": "markdown",
      "source": [
        "SVM"
      ],
      "metadata": {
        "id": "iqzEAKom4b7v"
      }
    },
    {
      "cell_type": "code",
      "source": [
        "from sklearn.model_selection import GridSearchCV\n",
        "C=[0.05,0.1,0.2,0.3,0.25,0.4,0.5,0.6,0.7,0.8,0.9,1]\n",
        "gamma=[0.1,0.2,0.3,0.4,0.5,0.6,0.7,0.8,0.9,1.0]\n",
        "kernel=['rbf','linear']\n",
        "hyper={'kernel' : kernel, 'C' : C, 'gamma' : gamma}\n",
        "gd=GridSearchCV(estimator=svm.SVC(), param_grid=hyper, verbose=True)\n",
        "gd.fit(X,Y)\n",
        "print(gd.best_score_)\n",
        "print(gd.best_estimator_)"
      ],
      "metadata": {
        "id": "hZsFUcNu4a1c"
      },
      "execution_count": null,
      "outputs": []
    },
    {
      "cell_type": "markdown",
      "source": [
        "Random Forests"
      ],
      "metadata": {
        "id": "2I04d6T54hNE"
      }
    },
    {
      "cell_type": "code",
      "source": [
        "n_estimators = range(100, 1000, 100)\n",
        "hyper = { 'n_estimators' : n_estimators }\n",
        "gd = GridSearchCV(estimator=RandomForestClassifier(random_state=0), param_grid=hyper, verbose = True)\n",
        "gd.fit(X,Y)\n",
        "print(gd.best_score_)\n",
        "print(gd.best_estimator_)"
      ],
      "metadata": {
        "id": "YxnhOH0z4j2D"
      },
      "execution_count": null,
      "outputs": []
    },
    {
      "cell_type": "markdown",
      "source": [
        "## 9) AdaBoost"
      ],
      "metadata": {
        "id": "qgY-ieng2xOt"
      }
    },
    {
      "cell_type": "code",
      "source": [
        "from sklearn.ensemble import AdaBoostClassifier\n",
        "ada = AdaBoostClassifier(n_estimators=200, random_state = 0, learning_rate = 0.1)\n",
        "result = cross_val_score(ada, X, Y, cv=10, scoring = 'accuracy')\n",
        "print('The cross validated score for AdaBoost is: ', result.mean())"
      ],
      "metadata": {
        "id": "STycUcaz4m1p"
      },
      "execution_count": null,
      "outputs": []
    },
    {
      "cell_type": "markdown",
      "source": [
        "## 10) XGBoost"
      ],
      "metadata": {
        "id": "bp5IY2Tu2w_n"
      }
    },
    {
      "cell_type": "code",
      "source": [
        "import xgboost as xg\n",
        "xgboost = xg.XGBClassifier(n_estimators=900, learning_rate = 0.1)\n",
        "result = cross_val_score(xgboost, X, Y, cv=10, scoring='accuracy')\n",
        "print('The cross validated score for XGBoost is: ', result.mean())"
      ],
      "metadata": {
        "id": "K-1AZ6UZ4oaX"
      },
      "execution_count": null,
      "outputs": []
    },
    {
      "cell_type": "markdown",
      "source": [
        "## 11) Confusion Matrix for best Model"
      ],
      "metadata": {
        "id": "kjCGF_9P3wF9"
      }
    },
    {
      "cell_type": "code",
      "source": [
        "ada = AdaBoostClassifier(n_estimators=100, random_state=0,learning_rate = 0.1)\n",
        "result = cross_val_predict(ada, X, Y, cv=10)\n",
        "sns.heatmap(confusion_matrix(Y, result), cmap='winter', annot=True, fmt = '2.0f')\n",
        "plt.show()"
      ],
      "metadata": {
        "id": "Gc7arrlu4q07"
      },
      "execution_count": null,
      "outputs": []
    },
    {
      "cell_type": "markdown",
      "source": [
        "## 12) Feature Importance"
      ],
      "metadata": {
        "id": "FAcJfc0S35xL"
      }
    },
    {
      "cell_type": "code",
      "source": [
        "f,ax=plt.subplots(2,2,figsize=(15,12))\n",
        "\n",
        "model=RandomForestClassifier(n_estimators=500,random_state=0)\n",
        "model.fit(X,Y)\n",
        "pd.Series(model.feature_importances_,X.columns).sort_values(ascending=True).plot.barh(width=0.8,ax=ax[0,0])\n",
        "ax[0,0].set_title('Feature Importance in Random Forests')\n",
        "\n",
        "model=AdaBoostClassifier(n_estimators=200,learning_rate=0.05,random_state=0)\n",
        "model.fit(X,Y)\n",
        "pd.Series(model.feature_importances_,X.columns).sort_values(ascending=True).plot.barh(width=0.8,ax=ax[0,1],color='#ddff11')\n",
        "ax[0,1].set_title('Feature Importance in AdaBoost')\n",
        "\n",
        "model=GradientBoostingClassifier(n_estimators=500,learning_rate=0.1,random_state=0)\n",
        "model.fit(X,Y)\n",
        "pd.Series(model.feature_importances_,X.columns).sort_values(ascending=True).plot.barh(width=0.8,ax=ax[1,0],cmap='RdYlGn_r')\n",
        "ax[1,0].set_title('Feature Importance in Gradient Boosting')\n",
        "\n",
        "model=xg.XGBClassifier(n_estimators=900, learning_rate=0.1)\n",
        "model.fit(X,Y)\n",
        "pd.Series(model.feature_importances_,X.columns).sort_values(ascending=True).plot.barh(width=0.8,ax=ax[1,1],color='#FD0F00')\n",
        "ax[1,1].set_title('Feature Importance in XgBoost')\n",
        "\n",
        "plt.show()"
      ],
      "metadata": {
        "id": "qOVwxDnK2XuP"
      },
      "execution_count": null,
      "outputs": []
    }
  ]
}